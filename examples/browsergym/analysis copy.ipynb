{
 "cells": [
  {
   "cell_type": "code",
   "execution_count": 3,
   "metadata": {},
   "outputs": [],
   "source": [
    "import pandas as pd\n",
    "import matplotlib.pyplot as plt\n",
    "import os\n",
    "import pickle"
   ]
  },
  {
   "cell_type": "code",
   "execution_count": 4,
   "metadata": {},
   "outputs": [],
   "source": [
    "# 1) internal planning  + explicit search\n",
    "# 2) external planning - implicit search\n",
    "# 3) external planning - explciit search"
   ]
  },
  {
   "cell_type": "code",
   "execution_count": 5,
   "metadata": {},
   "outputs": [],
   "source": [
    "from analysis import get_stats"
   ]
  },
  {
   "cell_type": "code",
   "execution_count": 6,
   "metadata": {},
   "outputs": [],
   "source": [
    "stats = get_stats(\"d100\")"
   ]
  },
  {
   "cell_type": "code",
   "execution_count": 7,
   "metadata": {},
   "outputs": [
    {
     "data": {
      "text/plain": [
       "[100,\n",
       " 0,\n",
       " 0,\n",
       " 0,\n",
       " 0,\n",
       " nan,\n",
       " Empty DataFrame\n",
       " Columns: [task_name, usd_cost, prompt_tokens, prompt_cached_tokens, prompt_non_cached_tokens, completion_tokens, total_tokens]\n",
       " Index: [],\n",
       " 0,\n",
       " nan,\n",
       " Empty DataFrame\n",
       " Columns: [task_name, total_time_taken, total_proposal_time, total_evaluation_time, total_envstep_time]\n",
       " Index: [],\n",
       " nan,\n",
       " nan,\n",
       " Empty DataFrame\n",
       " Columns: [completion_iteration, completion_depth, max_depth, env_steps_taken]\n",
       " Index: []]"
      ]
     },
     "execution_count": 7,
     "metadata": {},
     "output_type": "execute_result"
    }
   ],
   "source": [
    "stats"
   ]
  },
  {
   "cell_type": "code",
   "execution_count": 8,
   "metadata": {},
   "outputs": [],
   "source": [
    "from analysis import get_stats"
   ]
  },
  {
   "cell_type": "code",
   "execution_count": 9,
   "metadata": {},
   "outputs": [
    {
     "name": "stderr",
     "output_type": "stream",
     "text": [
      "/home/samuel/miniconda3/envs/py3117/lib/python3.11/site-packages/tqdm/auto.py:21: TqdmWarning: IProgress not found. Please update jupyter and ipywidgets. See https://ipywidgets.readthedocs.io/en/stable/user_install.html\n",
      "  from .autonotebook import tqdm as notebook_tqdm\n",
      "/home/samuel/miniconda3/envs/py3117/lib/python3.11/site-packages/transformers/utils/hub.py:128: FutureWarning: Using `TRANSFORMERS_CACHE` is deprecated and will be removed in v5 of Transformers. Use `HF_HOME` instead.\n",
      "  warnings.warn(\n"
     ]
    },
    {
     "data": {
      "text/html": [
       "<div>\n",
       "<style scoped>\n",
       "    .dataframe tbody tr th:only-of-type {\n",
       "        vertical-align: middle;\n",
       "    }\n",
       "\n",
       "    .dataframe tbody tr th {\n",
       "        vertical-align: top;\n",
       "    }\n",
       "\n",
       "    .dataframe thead th {\n",
       "        text-align: right;\n",
       "    }\n",
       "</style>\n",
       "<table border=\"1\" class=\"dataframe\">\n",
       "  <thead>\n",
       "    <tr style=\"text-align: right;\">\n",
       "      <th></th>\n",
       "      <th>success_rate</th>\n",
       "      <th>total_usd</th>\n",
       "      <th>avg_usd</th>\n",
       "      <th>total_time</th>\n",
       "      <th>avg_time</th>\n",
       "      <th>avg_completion_iteration</th>\n",
       "      <th>avg_completion_depth</th>\n",
       "      <th>successes</th>\n",
       "      <th>failures</th>\n",
       "      <th>errors</th>\n",
       "      <th>token_df</th>\n",
       "      <th>time_df</th>\n",
       "      <th>mcts_df</th>\n",
       "    </tr>\n",
       "    <tr>\n",
       "      <th>mcts_depth</th>\n",
       "      <th></th>\n",
       "      <th></th>\n",
       "      <th></th>\n",
       "      <th></th>\n",
       "      <th></th>\n",
       "      <th></th>\n",
       "      <th></th>\n",
       "      <th></th>\n",
       "      <th></th>\n",
       "      <th></th>\n",
       "      <th></th>\n",
       "      <th></th>\n",
       "      <th></th>\n",
       "    </tr>\n",
       "  </thead>\n",
       "  <tbody>\n",
       "    <tr>\n",
       "      <th>5</th>\n",
       "      <td>0.141509</td>\n",
       "      <td>4.861763</td>\n",
       "      <td>0.045866</td>\n",
       "      <td>40834.997811</td>\n",
       "      <td>385.235828</td>\n",
       "      <td>0.866667</td>\n",
       "      <td>4.266667</td>\n",
       "      <td>15</td>\n",
       "      <td>89</td>\n",
       "      <td>2</td>\n",
       "      <td>task_name  usd_cost  prompt_tokens  pr...</td>\n",
       "      <td>task_name  total_time_taken  total_pro...</td>\n",
       "      <td>completion_iteration  completion...</td>\n",
       "    </tr>\n",
       "    <tr>\n",
       "      <th>10</th>\n",
       "      <td>0.198113</td>\n",
       "      <td>6.413142</td>\n",
       "      <td>0.060501</td>\n",
       "      <td>57128.987742</td>\n",
       "      <td>538.952715</td>\n",
       "      <td>0.857143</td>\n",
       "      <td>5.238095</td>\n",
       "      <td>21</td>\n",
       "      <td>82</td>\n",
       "      <td>3</td>\n",
       "      <td>task_name  usd_cost  prompt_tokens  pr...</td>\n",
       "      <td>task_name  total_time_taken  total_pro...</td>\n",
       "      <td>completion_iteration  completion...</td>\n",
       "    </tr>\n",
       "    <tr>\n",
       "      <th>20</th>\n",
       "      <td>0.330189</td>\n",
       "      <td>9.009063</td>\n",
       "      <td>0.084991</td>\n",
       "      <td>91408.657527</td>\n",
       "      <td>862.345826</td>\n",
       "      <td>0.600000</td>\n",
       "      <td>7.314286</td>\n",
       "      <td>35</td>\n",
       "      <td>67</td>\n",
       "      <td>4</td>\n",
       "      <td>task_name  usd_cost  prompt_tokens  pr...</td>\n",
       "      <td>task_name  total_time_taken  total_pro...</td>\n",
       "      <td>completion_iteration  completion...</td>\n",
       "    </tr>\n",
       "    <tr>\n",
       "      <th>100</th>\n",
       "      <td>0.234694</td>\n",
       "      <td>24.347977</td>\n",
       "      <td>0.245939</td>\n",
       "      <td>151213.642555</td>\n",
       "      <td>1527.410531</td>\n",
       "      <td>0.000000</td>\n",
       "      <td>7.521739</td>\n",
       "      <td>23</td>\n",
       "      <td>71</td>\n",
       "      <td>4</td>\n",
       "      <td>task_name  usd_cost  prompt_tokens  pro...</td>\n",
       "      <td>task_name  total_time_taken  total_prop...</td>\n",
       "      <td>completion_iteration  completion...</td>\n",
       "    </tr>\n",
       "  </tbody>\n",
       "</table>\n",
       "</div>"
      ],
      "text/plain": [
       "            success_rate  total_usd   avg_usd     total_time     avg_time  \\\n",
       "mcts_depth                                                                  \n",
       "5               0.141509   4.861763  0.045866   40834.997811   385.235828   \n",
       "10              0.198113   6.413142  0.060501   57128.987742   538.952715   \n",
       "20              0.330189   9.009063  0.084991   91408.657527   862.345826   \n",
       "100             0.234694  24.347977  0.245939  151213.642555  1527.410531   \n",
       "\n",
       "            avg_completion_iteration  avg_completion_depth  successes  \\\n",
       "mcts_depth                                                              \n",
       "5                           0.866667              4.266667         15   \n",
       "10                          0.857143              5.238095         21   \n",
       "20                          0.600000              7.314286         35   \n",
       "100                         0.000000              7.521739         23   \n",
       "\n",
       "            failures  errors  \\\n",
       "mcts_depth                     \n",
       "5                 89       2   \n",
       "10                82       3   \n",
       "20                67       4   \n",
       "100               71       4   \n",
       "\n",
       "                                                     token_df  \\\n",
       "mcts_depth                                                      \n",
       "5                   task_name  usd_cost  prompt_tokens  pr...   \n",
       "10                  task_name  usd_cost  prompt_tokens  pr...   \n",
       "20                  task_name  usd_cost  prompt_tokens  pr...   \n",
       "100                task_name  usd_cost  prompt_tokens  pro...   \n",
       "\n",
       "                                                      time_df  \\\n",
       "mcts_depth                                                      \n",
       "5                   task_name  total_time_taken  total_pro...   \n",
       "10                  task_name  total_time_taken  total_pro...   \n",
       "20                  task_name  total_time_taken  total_pro...   \n",
       "100                task_name  total_time_taken  total_prop...   \n",
       "\n",
       "                                                      mcts_df  \n",
       "mcts_depth                                                     \n",
       "5                         completion_iteration  completion...  \n",
       "10                        completion_iteration  completion...  \n",
       "20                        completion_iteration  completion...  \n",
       "100                       completion_iteration  completion...  "
      ]
     },
     "execution_count": 9,
     "metadata": {},
     "output_type": "execute_result"
    }
   ],
   "source": [
    "d5_stats = get_stats(\"d5\")\n",
    "d10_stats = get_stats(\"d10\")\n",
    "d20_stats = get_stats(\"d20\")\n",
    "d100_stats = get_stats(\"e100\")\n",
    "\n",
    "df = pd.DataFrame([d5_stats, d10_stats, d20_stats, d100_stats], \n",
    "                  columns=[\"mcts_depth\", \"successes\", \"failures\", \"errors\", \"total_usd\", \"avg_usd\", \"token_df\", \"total_time\", \"avg_time\", \"time_df\", \"avg_completion_iteration\", \"avg_completion_depth\", \"mcts_df\"])\n",
    "df.set_index(\"mcts_depth\", inplace=True)\n",
    "df[\"success_rate\"] = df[\"successes\"] / (df[[\"successes\", \"failures\", \"errors\"]].sum(axis=1))\n",
    "df = df[[\"success_rate\", \"total_usd\", \"avg_usd\", \"total_time\", \"avg_time\", \"avg_completion_iteration\", \"avg_completion_depth\", \"successes\", \"failures\", \"errors\", \"token_df\", \"time_df\", \"mcts_df\"]]\n",
    "df"
   ]
  },
  {
   "cell_type": "code",
   "execution_count": 10,
   "metadata": {},
   "outputs": [
    {
     "data": {
      "text/plain": [
       "completion_depth\n",
       "2.0    2\n",
       "3.0    1\n",
       "4.0    7\n",
       "5.0    1\n",
       "6.0    4\n",
       "Name: count, dtype: int64"
      ]
     },
     "execution_count": 10,
     "metadata": {},
     "output_type": "execute_result"
    }
   ],
   "source": [
    "df.loc[5].mcts_df[\"completion_depth\"].value_counts().sort_index()"
   ]
  },
  {
   "cell_type": "code",
   "execution_count": 11,
   "metadata": {},
   "outputs": [
    {
     "data": {
      "text/plain": [
       "(completion_depth\n",
       " 2.0     2\n",
       " 3.0     2\n",
       " 4.0     2\n",
       " 5.0     7\n",
       " 6.0     5\n",
       " 8.0     1\n",
       " 9.0     1\n",
       " 10.0    1\n",
       " Name: count, dtype: int64,\n",
       " completion_iteration\n",
       " 0.0    17\n",
       " 2.0     2\n",
       " 6.0     1\n",
       " 8.0     1\n",
       " Name: count, dtype: int64)"
      ]
     },
     "execution_count": 11,
     "metadata": {},
     "output_type": "execute_result"
    }
   ],
   "source": [
    "(df.loc[10].mcts_df[\"completion_depth\"].value_counts().sort_index(),\n",
    "df.loc[10].mcts_df[\"completion_iteration\"].value_counts().sort_index())"
   ]
  },
  {
   "cell_type": "code",
   "execution_count": 13,
   "metadata": {},
   "outputs": [
    {
     "data": {
      "text/plain": [
       "(completion_depth\n",
       " 2.0     3\n",
       " 3.0     4\n",
       " 4.0     4\n",
       " 5.0     3\n",
       " 6.0     2\n",
       " 7.0     7\n",
       " 8.0     5\n",
       " 9.0     1\n",
       " 10.0    1\n",
       " 12.0    1\n",
       " 16.0    1\n",
       " 19.0    2\n",
       " 21.0    1\n",
       " Name: count, dtype: int64,\n",
       " completion_iteration\n",
       " 0.0    29\n",
       " 2.0     3\n",
       " 3.0     1\n",
       " 4.0     1\n",
       " 8.0     1\n",
       " Name: count, dtype: int64)"
      ]
     },
     "execution_count": 13,
     "metadata": {},
     "output_type": "execute_result"
    }
   ],
   "source": [
    "(df.loc[20].mcts_df[\"completion_depth\"].value_counts().sort_index(),\n",
    "df.loc[20].mcts_df[\"completion_iteration\"].value_counts().sort_index())"
   ]
  },
  {
   "cell_type": "code",
   "execution_count": 14,
   "metadata": {},
   "outputs": [
    {
     "data": {
      "text/plain": [
       "(completion_depth\n",
       " 3.0     2\n",
       " 4.0     4\n",
       " 5.0     2\n",
       " 6.0     5\n",
       " 7.0     1\n",
       " 8.0     5\n",
       " 10.0    3\n",
       " 34.0    1\n",
       " Name: count, dtype: int64,\n",
       " completion_iteration\n",
       " 0.0    23\n",
       " Name: count, dtype: int64)"
      ]
     },
     "execution_count": 14,
     "metadata": {},
     "output_type": "execute_result"
    }
   ],
   "source": [
    "(df.loc[100].mcts_df[\"completion_depth\"].value_counts().sort_index(),\n",
    "df.loc[100].mcts_df[\"completion_iteration\"].value_counts().sort_index())"
   ]
  },
  {
   "cell_type": "code",
   "execution_count": 15,
   "metadata": {},
   "outputs": [
    {
     "data": {
      "text/plain": [
       "mcts_depth\n",
       "5      15\n",
       "10     21\n",
       "20     35\n",
       "100    23\n",
       "Name: successes, dtype: int64"
      ]
     },
     "execution_count": 15,
     "metadata": {},
     "output_type": "execute_result"
    }
   ],
   "source": [
    "df[\"successes\"]"
   ]
  },
  {
   "cell_type": "code",
   "execution_count": 16,
   "metadata": {},
   "outputs": [
    {
     "data": {
      "text/html": [
       "<div>\n",
       "<style scoped>\n",
       "    .dataframe tbody tr th:only-of-type {\n",
       "        vertical-align: middle;\n",
       "    }\n",
       "\n",
       "    .dataframe tbody tr th {\n",
       "        vertical-align: top;\n",
       "    }\n",
       "\n",
       "    .dataframe thead th {\n",
       "        text-align: right;\n",
       "    }\n",
       "</style>\n",
       "<table border=\"1\" class=\"dataframe\">\n",
       "  <thead>\n",
       "    <tr style=\"text-align: right;\">\n",
       "      <th></th>\n",
       "      <th>success_rate</th>\n",
       "      <th>successes</th>\n",
       "      <th>failures</th>\n",
       "      <th>errors</th>\n",
       "    </tr>\n",
       "    <tr>\n",
       "      <th>mcts_depth</th>\n",
       "      <th></th>\n",
       "      <th></th>\n",
       "      <th></th>\n",
       "      <th></th>\n",
       "    </tr>\n",
       "  </thead>\n",
       "  <tbody>\n",
       "    <tr>\n",
       "      <th>5</th>\n",
       "      <td>0.141509</td>\n",
       "      <td>15</td>\n",
       "      <td>89</td>\n",
       "      <td>2</td>\n",
       "    </tr>\n",
       "    <tr>\n",
       "      <th>10</th>\n",
       "      <td>0.198113</td>\n",
       "      <td>21</td>\n",
       "      <td>82</td>\n",
       "      <td>3</td>\n",
       "    </tr>\n",
       "    <tr>\n",
       "      <th>20</th>\n",
       "      <td>0.330189</td>\n",
       "      <td>35</td>\n",
       "      <td>67</td>\n",
       "      <td>4</td>\n",
       "    </tr>\n",
       "    <tr>\n",
       "      <th>100</th>\n",
       "      <td>0.234694</td>\n",
       "      <td>23</td>\n",
       "      <td>71</td>\n",
       "      <td>4</td>\n",
       "    </tr>\n",
       "  </tbody>\n",
       "</table>\n",
       "</div>"
      ],
      "text/plain": [
       "            success_rate  successes  failures  errors\n",
       "mcts_depth                                           \n",
       "5               0.141509         15        89       2\n",
       "10              0.198113         21        82       3\n",
       "20              0.330189         35        67       4\n",
       "100             0.234694         23        71       4"
      ]
     },
     "execution_count": 16,
     "metadata": {},
     "output_type": "execute_result"
    }
   ],
   "source": [
    "df[[\"success_rate\", \"successes\", \"failures\", \"errors\"]]"
   ]
  },
  {
   "cell_type": "code",
   "execution_count": 17,
   "metadata": {},
   "outputs": [
    {
     "data": {
      "text/html": [
       "<div>\n",
       "<style scoped>\n",
       "    .dataframe tbody tr th:only-of-type {\n",
       "        vertical-align: middle;\n",
       "    }\n",
       "\n",
       "    .dataframe tbody tr th {\n",
       "        vertical-align: top;\n",
       "    }\n",
       "\n",
       "    .dataframe thead th {\n",
       "        text-align: right;\n",
       "    }\n",
       "</style>\n",
       "<table border=\"1\" class=\"dataframe\">\n",
       "  <thead>\n",
       "    <tr style=\"text-align: right;\">\n",
       "      <th></th>\n",
       "      <th>total_usd</th>\n",
       "      <th>avg_usd</th>\n",
       "    </tr>\n",
       "    <tr>\n",
       "      <th>mcts_depth</th>\n",
       "      <th></th>\n",
       "      <th></th>\n",
       "    </tr>\n",
       "  </thead>\n",
       "  <tbody>\n",
       "    <tr>\n",
       "      <th>5</th>\n",
       "      <td>4.861763</td>\n",
       "      <td>0.045866</td>\n",
       "    </tr>\n",
       "    <tr>\n",
       "      <th>10</th>\n",
       "      <td>6.413142</td>\n",
       "      <td>0.060501</td>\n",
       "    </tr>\n",
       "    <tr>\n",
       "      <th>20</th>\n",
       "      <td>9.009063</td>\n",
       "      <td>0.084991</td>\n",
       "    </tr>\n",
       "    <tr>\n",
       "      <th>100</th>\n",
       "      <td>24.347977</td>\n",
       "      <td>0.245939</td>\n",
       "    </tr>\n",
       "  </tbody>\n",
       "</table>\n",
       "</div>"
      ],
      "text/plain": [
       "            total_usd   avg_usd\n",
       "mcts_depth                     \n",
       "5            4.861763  0.045866\n",
       "10           6.413142  0.060501\n",
       "20           9.009063  0.084991\n",
       "100         24.347977  0.245939"
      ]
     },
     "execution_count": 17,
     "metadata": {},
     "output_type": "execute_result"
    }
   ],
   "source": [
    "df[[\"total_usd\", \"avg_usd\"]]"
   ]
  },
  {
   "cell_type": "code",
   "execution_count": 18,
   "metadata": {},
   "outputs": [
    {
     "data": {
      "text/html": [
       "<div>\n",
       "<style scoped>\n",
       "    .dataframe tbody tr th:only-of-type {\n",
       "        vertical-align: middle;\n",
       "    }\n",
       "\n",
       "    .dataframe tbody tr th {\n",
       "        vertical-align: top;\n",
       "    }\n",
       "\n",
       "    .dataframe thead th {\n",
       "        text-align: right;\n",
       "    }\n",
       "</style>\n",
       "<table border=\"1\" class=\"dataframe\">\n",
       "  <thead>\n",
       "    <tr style=\"text-align: right;\">\n",
       "      <th></th>\n",
       "      <th>total_time</th>\n",
       "      <th>avg_time</th>\n",
       "    </tr>\n",
       "    <tr>\n",
       "      <th>mcts_depth</th>\n",
       "      <th></th>\n",
       "      <th></th>\n",
       "    </tr>\n",
       "  </thead>\n",
       "  <tbody>\n",
       "    <tr>\n",
       "      <th>5</th>\n",
       "      <td>40834.997811</td>\n",
       "      <td>385.235828</td>\n",
       "    </tr>\n",
       "    <tr>\n",
       "      <th>10</th>\n",
       "      <td>57128.987742</td>\n",
       "      <td>538.952715</td>\n",
       "    </tr>\n",
       "    <tr>\n",
       "      <th>20</th>\n",
       "      <td>91408.657527</td>\n",
       "      <td>862.345826</td>\n",
       "    </tr>\n",
       "    <tr>\n",
       "      <th>100</th>\n",
       "      <td>151213.642555</td>\n",
       "      <td>1527.410531</td>\n",
       "    </tr>\n",
       "  </tbody>\n",
       "</table>\n",
       "</div>"
      ],
      "text/plain": [
       "               total_time     avg_time\n",
       "mcts_depth                            \n",
       "5            40834.997811   385.235828\n",
       "10           57128.987742   538.952715\n",
       "20           91408.657527   862.345826\n",
       "100         151213.642555  1527.410531"
      ]
     },
     "execution_count": 18,
     "metadata": {},
     "output_type": "execute_result"
    }
   ],
   "source": [
    "df[[\"total_time\", \"avg_time\"]]"
   ]
  },
  {
   "cell_type": "code",
   "execution_count": 19,
   "metadata": {},
   "outputs": [
    {
     "data": {
      "text/plain": [
       "np.float64(0.21518763808320687)"
      ]
     },
     "execution_count": 19,
     "metadata": {},
     "output_type": "execute_result"
    }
   ],
   "source": [
    "df.loc[5].token_df.sum()[\"prompt_cached_tokens\"] / df.loc[20].token_df.sum()[\"total_tokens\"]"
   ]
  },
  {
   "cell_type": "code",
   "execution_count": 20,
   "metadata": {},
   "outputs": [
    {
     "data": {
      "text/plain": [
       "np.float64(0.3818400765842733)"
      ]
     },
     "execution_count": 20,
     "metadata": {},
     "output_type": "execute_result"
    }
   ],
   "source": [
    "df.loc[10].token_df.sum()[\"prompt_cached_tokens\"] / df.loc[20].token_df.sum()[\"total_tokens\"]"
   ]
  },
  {
   "cell_type": "code",
   "execution_count": 21,
   "metadata": {},
   "outputs": [
    {
     "data": {
      "text/plain": [
       "np.float64(0.5618936986507974)"
      ]
     },
     "execution_count": 21,
     "metadata": {},
     "output_type": "execute_result"
    }
   ],
   "source": [
    "df.loc[20].token_df.sum()[\"prompt_cached_tokens\"] / df.loc[20].token_df.sum()[\"total_tokens\"]"
   ]
  },
  {
   "cell_type": "code",
   "execution_count": 22,
   "metadata": {},
   "outputs": [
    {
     "data": {
      "text/plain": [
       "np.float64(0.6384836215629782)"
      ]
     },
     "execution_count": 22,
     "metadata": {},
     "output_type": "execute_result"
    }
   ],
   "source": [
    "df.loc[100].token_df.sum()[\"prompt_cached_tokens\"] / df.loc[100].token_df.sum()[\"total_tokens\"]"
   ]
  },
  {
   "cell_type": "code",
   "execution_count": 23,
   "metadata": {},
   "outputs": [
    {
     "data": {
      "text/plain": [
       "completion_iteration\n",
       "4.0     1\n",
       "8.0     1\n",
       "3.0     1\n",
       "2.0     3\n",
       "0.0    29\n",
       "Name: count, dtype: int64"
      ]
     },
     "execution_count": 23,
     "metadata": {},
     "output_type": "execute_result"
    }
   ],
   "source": [
    "df.loc[20].mcts_df[\"completion_iteration\"].value_counts().sort_values()"
   ]
  },
  {
   "cell_type": "code",
   "execution_count": 24,
   "metadata": {},
   "outputs": [
    {
     "data": {
      "text/plain": [
       "task_name\n",
       "webarena.581     True\n",
       "webarena.29     False\n",
       "webarena.409    False\n",
       "webarena.403     True\n",
       "webarena.584    False\n",
       "                ...  \n",
       "webarena.646    False\n",
       "webarena.648    False\n",
       "webarena.621     True\n",
       "webarena.624    False\n",
       "webarena.725    False\n",
       "Name: completion_iteration, Length: 106, dtype: bool"
      ]
     },
     "execution_count": 24,
     "metadata": {},
     "output_type": "execute_result"
    }
   ],
   "source": [
    "df.loc[20].mcts_df[\"completion_iteration\"] == 0"
   ]
  },
  {
   "cell_type": "code",
   "execution_count": 34,
   "metadata": {},
   "outputs": [],
   "source": [
    "\n",
    "# plt.plot(x, y1, label=\"Series 1\", linestyle='-', marker='o')\n",
    "# plt.plot(x, y2, label=\"Series 2\", linestyle='--', marker='s')"
   ]
  },
  {
   "cell_type": "code",
   "execution_count": 38,
   "metadata": {},
   "outputs": [
    {
     "data": {
      "text/plain": [
       "Text(0.5, 1.0, 'Tasks Completed V.S. Env Steps Taken')"
      ]
     },
     "execution_count": 38,
     "metadata": {},
     "output_type": "execute_result"
    },
    {
     "data": {
      "image/png": "[encoded data removed]",
      "text/plain": [
       "<Figure size 640x480 with 1 Axes>"
      ]
     },
     "metadata": {},
     "output_type": "display_data"
    }
   ],
   "source": [
    "df.loc[20].mcts_df[\n",
    "(df.loc[20].mcts_df[\"completion_iteration\"] >= 0)\n",
    "].env_steps_taken.value_counts().sort_index().cumsum().plot(label=\"MCTS(iterations=10, depth=20)\")\n",
    "\n",
    "temp = df.loc[100].mcts_df[\n",
    "(df.loc[100].mcts_df[\"completion_iteration\"] >= 0)\n",
    "].env_steps_taken.value_counts().sort_index().cumsum()\n",
    "temp[103] = 23\n",
    "temp.plot(label=\"MCTS(iterations=1, depth=100)\")\n",
    "plt.xlabel(\"Env Steps\")\n",
    "plt.ylabel(\"Tasks Completed\")\n",
    "plt.legend()\n",
    "# plt.ylim(0, 1)\n",
    "plt.title(\"Tasks Completed V.S. Env Steps Taken\")"
   ]
  },
  {
   "cell_type": "code",
   "execution_count": 120,
   "metadata": {},
   "outputs": [
    {
     "data": {
      "text/html": [
       "<div>\n",
       "<style scoped>\n",
       "    .dataframe tbody tr th:only-of-type {\n",
       "        vertical-align: middle;\n",
       "    }\n",
       "\n",
       "    .dataframe tbody tr th {\n",
       "        vertical-align: top;\n",
       "    }\n",
       "\n",
       "    .dataframe thead th {\n",
       "        text-align: right;\n",
       "    }\n",
       "</style>\n",
       "<table border=\"1\" class=\"dataframe\">\n",
       "  <thead>\n",
       "    <tr style=\"text-align: right;\">\n",
       "      <th></th>\n",
       "      <th>completion_iteration</th>\n",
       "      <th>completion_depth</th>\n",
       "      <th>max_depth</th>\n",
       "    </tr>\n",
       "    <tr>\n",
       "      <th>task_name</th>\n",
       "      <th></th>\n",
       "      <th></th>\n",
       "      <th></th>\n",
       "    </tr>\n",
       "  </thead>\n",
       "  <tbody>\n",
       "    <tr>\n",
       "      <th>webarena.581</th>\n",
       "      <td>0.0</td>\n",
       "      <td>8.0</td>\n",
       "      <td>8.0</td>\n",
       "    </tr>\n",
       "    <tr>\n",
       "      <th>webarena.403</th>\n",
       "      <td>0.0</td>\n",
       "      <td>8.0</td>\n",
       "      <td>8.0</td>\n",
       "    </tr>\n",
       "    <tr>\n",
       "      <th>webarena.605</th>\n",
       "      <td>0.0</td>\n",
       "      <td>2.0</td>\n",
       "      <td>2.0</td>\n",
       "    </tr>\n",
       "    <tr>\n",
       "      <th>webarena.582</th>\n",
       "      <td>0.0</td>\n",
       "      <td>4.0</td>\n",
       "      <td>4.0</td>\n",
       "    </tr>\n",
       "    <tr>\n",
       "      <th>webarena.596</th>\n",
       "      <td>0.0</td>\n",
       "      <td>4.0</td>\n",
       "      <td>4.0</td>\n",
       "    </tr>\n",
       "    <tr>\n",
       "      <th>webarena.609</th>\n",
       "      <td>0.0</td>\n",
       "      <td>16.0</td>\n",
       "      <td>16.0</td>\n",
       "    </tr>\n",
       "    <tr>\n",
       "      <th>webarena.399</th>\n",
       "      <td>0.0</td>\n",
       "      <td>6.0</td>\n",
       "      <td>6.0</td>\n",
       "    </tr>\n",
       "    <tr>\n",
       "      <th>webarena.607</th>\n",
       "      <td>0.0</td>\n",
       "      <td>3.0</td>\n",
       "      <td>3.0</td>\n",
       "    </tr>\n",
       "    <tr>\n",
       "      <th>webarena.610</th>\n",
       "      <td>0.0</td>\n",
       "      <td>9.0</td>\n",
       "      <td>9.0</td>\n",
       "    </tr>\n",
       "    <tr>\n",
       "      <th>webarena.400</th>\n",
       "      <td>0.0</td>\n",
       "      <td>6.0</td>\n",
       "      <td>6.0</td>\n",
       "    </tr>\n",
       "    <tr>\n",
       "      <th>webarena.595</th>\n",
       "      <td>0.0</td>\n",
       "      <td>5.0</td>\n",
       "      <td>5.0</td>\n",
       "    </tr>\n",
       "    <tr>\n",
       "      <th>webarena.597</th>\n",
       "      <td>0.0</td>\n",
       "      <td>7.0</td>\n",
       "      <td>7.0</td>\n",
       "    </tr>\n",
       "    <tr>\n",
       "      <th>webarena.580</th>\n",
       "      <td>0.0</td>\n",
       "      <td>8.0</td>\n",
       "      <td>8.0</td>\n",
       "    </tr>\n",
       "    <tr>\n",
       "      <th>webarena.613</th>\n",
       "      <td>0.0</td>\n",
       "      <td>12.0</td>\n",
       "      <td>12.0</td>\n",
       "    </tr>\n",
       "    <tr>\n",
       "      <th>webarena.620</th>\n",
       "      <td>0.0</td>\n",
       "      <td>7.0</td>\n",
       "      <td>7.0</td>\n",
       "    </tr>\n",
       "    <tr>\n",
       "      <th>webarena.69</th>\n",
       "      <td>0.0</td>\n",
       "      <td>4.0</td>\n",
       "      <td>4.0</td>\n",
       "    </tr>\n",
       "    <tr>\n",
       "      <th>webarena.602</th>\n",
       "      <td>0.0</td>\n",
       "      <td>5.0</td>\n",
       "      <td>5.0</td>\n",
       "    </tr>\n",
       "    <tr>\n",
       "      <th>webarena.729</th>\n",
       "      <td>0.0</td>\n",
       "      <td>3.0</td>\n",
       "      <td>3.0</td>\n",
       "    </tr>\n",
       "    <tr>\n",
       "      <th>webarena.728</th>\n",
       "      <td>0.0</td>\n",
       "      <td>3.0</td>\n",
       "      <td>3.0</td>\n",
       "    </tr>\n",
       "    <tr>\n",
       "      <th>webarena.623</th>\n",
       "      <td>0.0</td>\n",
       "      <td>7.0</td>\n",
       "      <td>7.0</td>\n",
       "    </tr>\n",
       "    <tr>\n",
       "      <th>webarena.631</th>\n",
       "      <td>0.0</td>\n",
       "      <td>10.0</td>\n",
       "      <td>10.0</td>\n",
       "    </tr>\n",
       "    <tr>\n",
       "      <th>webarena.651</th>\n",
       "      <td>0.0</td>\n",
       "      <td>2.0</td>\n",
       "      <td>2.0</td>\n",
       "    </tr>\n",
       "    <tr>\n",
       "      <th>webarena.734</th>\n",
       "      <td>0.0</td>\n",
       "      <td>8.0</td>\n",
       "      <td>8.0</td>\n",
       "    </tr>\n",
       "    <tr>\n",
       "      <th>webarena.622</th>\n",
       "      <td>0.0</td>\n",
       "      <td>7.0</td>\n",
       "      <td>7.0</td>\n",
       "    </tr>\n",
       "    <tr>\n",
       "      <th>webarena.716</th>\n",
       "      <td>0.0</td>\n",
       "      <td>21.0</td>\n",
       "      <td>21.0</td>\n",
       "    </tr>\n",
       "    <tr>\n",
       "      <th>webarena.726</th>\n",
       "      <td>0.0</td>\n",
       "      <td>5.0</td>\n",
       "      <td>5.0</td>\n",
       "    </tr>\n",
       "    <tr>\n",
       "      <th>webarena.652</th>\n",
       "      <td>0.0</td>\n",
       "      <td>3.0</td>\n",
       "      <td>3.0</td>\n",
       "    </tr>\n",
       "    <tr>\n",
       "      <th>webarena.650</th>\n",
       "      <td>0.0</td>\n",
       "      <td>2.0</td>\n",
       "      <td>2.0</td>\n",
       "    </tr>\n",
       "    <tr>\n",
       "      <th>webarena.621</th>\n",
       "      <td>0.0</td>\n",
       "      <td>7.0</td>\n",
       "      <td>7.0</td>\n",
       "    </tr>\n",
       "  </tbody>\n",
       "</table>\n",
       "</div>"
      ],
      "text/plain": [
       "              completion_iteration  completion_depth  max_depth\n",
       "task_name                                                      \n",
       "webarena.581                   0.0               8.0        8.0\n",
       "webarena.403                   0.0               8.0        8.0\n",
       "webarena.605                   0.0               2.0        2.0\n",
       "webarena.582                   0.0               4.0        4.0\n",
       "webarena.596                   0.0               4.0        4.0\n",
       "webarena.609                   0.0              16.0       16.0\n",
       "webarena.399                   0.0               6.0        6.0\n",
       "webarena.607                   0.0               3.0        3.0\n",
       "webarena.610                   0.0               9.0        9.0\n",
       "webarena.400                   0.0               6.0        6.0\n",
       "webarena.595                   0.0               5.0        5.0\n",
       "webarena.597                   0.0               7.0        7.0\n",
       "webarena.580                   0.0               8.0        8.0\n",
       "webarena.613                   0.0              12.0       12.0\n",
       "webarena.620                   0.0               7.0        7.0\n",
       "webarena.69                    0.0               4.0        4.0\n",
       "webarena.602                   0.0               5.0        5.0\n",
       "webarena.729                   0.0               3.0        3.0\n",
       "webarena.728                   0.0               3.0        3.0\n",
       "webarena.623                   0.0               7.0        7.0\n",
       "webarena.631                   0.0              10.0       10.0\n",
       "webarena.651                   0.0               2.0        2.0\n",
       "webarena.734                   0.0               8.0        8.0\n",
       "webarena.622                   0.0               7.0        7.0\n",
       "webarena.716                   0.0              21.0       21.0\n",
       "webarena.726                   0.0               5.0        5.0\n",
       "webarena.652                   0.0               3.0        3.0\n",
       "webarena.650                   0.0               2.0        2.0\n",
       "webarena.621                   0.0               7.0        7.0"
      ]
     },
     "execution_count": 120,
     "metadata": {},
     "output_type": "execute_result"
    }
   ],
   "source": [
    "df.loc[20].mcts_df[\n",
    "(df.loc[20].mcts_df[\"completion_iteration\"] == 0)\n",
    "]"
   ]
  },
  {
   "cell_type": "code",
   "execution_count": 82,
   "metadata": {},
   "outputs": [
    {
     "data": {
      "text/plain": [
       "Text(0.5, 1.0, 'Tasks Completed V.S. Depth')"
      ]
     },
     "execution_count": 82,
     "metadata": {},
     "output_type": "execute_result"
    },
    {
     "data": {
      "image/png": "[encoded data removed]",
      "text/plain": [
       "<Figure size 640x480 with 1 Axes>"
      ]
     },
     "metadata": {},
     "output_type": "display_data"
    }
   ],
   "source": [
    "df.loc[20].mcts_df.completion_depth.value_counts().sort_index().cumsum().plot()\n",
    "plt.xlabel(\"Depth\")\n",
    "plt.ylabel(\"Tasks Completed\")\n",
    "# plt.ylim(0, 1)\n",
    "plt.title(\"Tasks Completed V.S. Depth\")"
   ]
  },
  {
   "cell_type": "code",
   "execution_count": null,
   "metadata": {},
   "outputs": [],
   "source": [
    "import numpy as np\n",
    "\n",
    "tag = \"d5\"\n",
    "\n",
    "task_iteration_stats_rows = []\n",
    "results_dir = \"./results\"\n",
    "exp_names = os.listdir(results_dir)\n",
    "for exp_name in exp_names:\n",
    "  if tag in exp_name:\n",
    "\n",
    "    exp_path = os.path.join(results_dir, exp_name)\n",
    "    task_names = os.listdir(exp_path)\n",
    "\n",
    "    for task_name in task_names:\n",
    "      if \"webarena\" in task_name:\n",
    "        task_path = os.path.join(results_dir, exp_name, task_name)\n",
    "        if os.path.exists(os.path.join(task_path, \"result.pkl\")):\n",
    "          mcts_result = pickle.load(open(os.path.join(task_path, \"result.pkl\"), \"rb\"))\n",
    "          if mcts_result.cum_reward >= 100: # task successfully completed\n",
    "            completion_iteration = find_completion_iteration(mcts_result)\n",
    "            task_iteration_stats_rows.append([task_name, completion_iteration])\n",
    "          else:\n",
    "            task_iteration_stats_rows.append([task_name, np.nan])\n",
    "        else:\n",
    "          task_iteration_stats_rows.append([task_name, np.nan])"
   ]
  },
  {
   "cell_type": "code",
   "execution_count": 13,
   "metadata": {},
   "outputs": [
    {
     "name": "stderr",
     "output_type": "stream",
     "text": [
      "/tmp/ipykernel_2704942/507405824.py:6: UserWarning: No artists with labels found to put in legend.  Note that artists whose label start with an underscore are ignored when legend() is called with no argument.\n",
      "  plt.legend()\n"
     ]
    },
    {
     "data": {
      "image/png": "[encoded data removed]",
      "text/plain": [
       "<Figure size 640x480 with 1 Axes>"
      ]
     },
     "metadata": {},
     "output_type": "display_data"
    }
   ],
   "source": [
    "plt.plot(df.index, df[\"success_rate\"], marker=\"o\")\n",
    "plt.xlabel(\"MCTS Depth\")\n",
    "plt.ylabel(\"Success Rate\")\n",
    "plt.ylim(0, 1)\n",
    "plt.title(\"MCTS Depth V.S. Success Rate\")\n",
    "plt.legend()\n",
    "plt.show()"
   ]
  }
 ],
 "metadata": {
  "kernelspec": {
   "display_name": "py3117",
   "language": "python",
   "name": "python3"
  },
  "language_info": {
   "codemirror_mode": {
    "name": "ipython",
    "version": 3
   },
   "file_extension": ".py",
   "mimetype": "text/x-python",
   "name": "python",
   "nbconvert_exporter": "python",
   "pygments_lexer": "ipython3",
   "version": "3.11.7"
  }
 },
 "nbformat": 4,
 "nbformat_minor": 2
}
