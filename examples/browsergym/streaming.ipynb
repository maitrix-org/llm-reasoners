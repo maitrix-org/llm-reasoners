{
 "cells": [
  {
   "cell_type": "code",
   "execution_count": null,
   "metadata": {},
   "outputs": [],
   "source": [
    "from openai import OpenAI"
   ]
  },
  {
   "cell_type": "code",
   "execution_count": 2,
   "metadata": {},
   "outputs": [],
   "source": [
    "client = OpenAI(\n",
    "    base_url=\"http://127.0.0.1:30000/v1\",\n",
    "    api_key=\"None\"\n",
    ")"
   ]
  },
  {
   "cell_type": "code",
   "execution_count": null,
   "metadata": {},
   "outputs": [],
   "source": []
  },
  {
   "cell_type": "code",
   "execution_count": null,
   "metadata": {},
   "outputs": [
    {
     "name": "stdout",
     "output_type": "stream",
     "text": [
      "List 25 countries and their capitals.\n",
      "<think>\n",
      "\n",
      "\n",
      "Here isHere is a list of 25 countries along with their respective capitals:\n",
      "\n",
      "1. **Afghanistan** - Kabul  \n",
      "2. **Albania** - Tirana  \n",
      "3. **Algeria** - Algiers  \n",
      "4. **Andorra** - Andorra la Vella  \n",
      "5. **Angola** - Luanda  \n",
      "6. **Antigua and Barbuda** - St. John's  \n",
      "7. **Argentina** - Buenos Aires  \n",
      "8. **Armenia** - Yerevan  \n",
      "9. **Australia** - Canberra  \n",
      "10. **Austria** - Vienna  \n",
      "11. **Azerbaijan** - Baku  \n",
      "12. **Bahamas** - Nassau  \n",
      "13. **Bangladesh** - Dhaka  \n",
      "14. **Barbados** - Bridgetown  \n",
      "15. **Belarus** - Minsk  \n",
      "16. **Belgium** - Brussels  \n",
      "17. **Benin** - Porto-Novo  \n",
      "18. **Bhutan** - Thimphu  \n",
      "19. **Bolivia** - La Paz (administrative) and Sucre (constitutional)  \n",
      "20. **Bosnia and Herzegovina** - Sarajevo  \n",
      "21. **Botswana** - Gaborone  \n",
      "22. **Brazil** - Brasília  \n",
      "23. **Brunei** - Bandar Seri Begawan  \n",
      "24. **Bulgaria** - Sofia  \n",
      "25. **Burkina Faso** - Ouagadougou  \n",
      "\n",
      "This list provides a diverse representation of countries from various continents."
     ]
    }
   ],
   "source": [
    "messages = [\n",
    "  {\"role\": \"user\", \"content\": \"List 25 countries and their capitals.\"},\n",
    "  {\"role\": \"assistant\", \"content\": \"<think>\\n\"}\n",
    "]\n",
    "response = client.chat.completions.create(\n",
    "  model=\"DeepSeek-R1-Distill-Qwen-32B\",\n",
    "  messages=messages,\n",
    "  n=1,\n",
    "  temperature=0.6,\n",
    "  max_tokens=8192,\n",
    "  stream=True,\n",
    ")\n",
    "\n",
    "for message in messages:\n",
    "  print(message[\"content\"])\n",
    "\n",
    "chunks = 0\n",
    "for chunk in response:\n",
    "    if chunk.choices[0].delta.content:\n",
    "        print(chunk.choices[0].delta.content, end=\"\", flush=True)\n",
    "        chunks += 1"
   ]
  },
  {
   "cell_type": "code",
   "execution_count": 25,
   "metadata": {},
   "outputs": [
    {
     "data": {
      "text/plain": [
       "ChatCompletionChunk(id='4973d1715fa9403ca7e7b5f6cffe7c17', choices=[Choice(delta=ChoiceDelta(content='', function_call=None, refusal=None, role=None, tool_calls=None), finish_reason='stop', index=0, logprobs=None, matched_stop=151643)], created=1740192620, model='DeepSeek-R1-Distill-Qwen-32B', object='chat.completion.chunk', service_tier=None, system_fingerprint=None, usage=None)"
      ]
     },
     "execution_count": 25,
     "metadata": {},
     "output_type": "execute_result"
    }
   ],
   "source": [
    "chunk"
   ]
  },
  {
   "cell_type": "code",
   "execution_count": 26,
   "metadata": {},
   "outputs": [
    {
     "data": {
      "text/plain": [
       "335"
      ]
     },
     "execution_count": 26,
     "metadata": {},
     "output_type": "execute_result"
    }
   ],
   "source": [
    "chunks"
   ]
  },
  {
   "cell_type": "code",
   "execution_count": 15,
   "metadata": {},
   "outputs": [
    {
     "data": {
      "text/plain": [
       "ChatCompletionChunk(id='3fa945e6a0454ee4be258249db51bd66', choices=[Choice(delta=ChoiceDelta(content='', function_call=None, refusal=None, role=None, tool_calls=None), finish_reason='stop', index=0, logprobs=None, matched_stop=151643)], created=1740192161, model='DeepSeek-R1-Distill-Qwen-32B', object='chat.completion.chunk', service_tier=None, system_fingerprint=None, usage=None)"
      ]
     },
     "execution_count": 15,
     "metadata": {},
     "output_type": "execute_result"
    }
   ],
   "source": [
    "chunk"
   ]
  },
  {
   "cell_type": "code",
   "execution_count": 12,
   "metadata": {},
   "outputs": [
    {
     "data": {
      "text/plain": [
       "CompletionUsage(completion_tokens=299, prompt_tokens=16, total_tokens=315, completion_tokens_details=None, prompt_tokens_details=None)"
      ]
     },
     "execution_count": 12,
     "metadata": {},
     "output_type": "execute_result"
    }
   ],
   "source": [
    "messages = [\n",
    "  {\"role\": \"user\", \"content\": \"List 3 countries and their capitals.\"},\n",
    "  {\"role\": \"assistant\", \"content\": \"<think>\\n\"}\n",
    "]\n",
    "response = client.chat.completions.create(\n",
    "  model=\"DeepSeek-R1-Distill-Qwen-32B\",\n",
    "  messages=messages,\n",
    "  n=1,\n",
    "  temperature=0.6,\n",
    "  max_tokens=1024,\n",
    "  # stream=True,\n",
    ")\n",
    "\n",
    "response.usage"
   ]
  },
  {
   "cell_type": "code",
   "execution_count": null,
   "metadata": {},
   "outputs": [],
   "source": []
  }
 ],
 "metadata": {
  "kernelspec": {
   "display_name": "h100",
   "language": "python",
   "name": "python3"
  },
  "language_info": {
   "codemirror_mode": {
    "name": "ipython",
    "version": 3
   },
   "file_extension": ".py",
   "mimetype": "text/x-python",
   "name": "python",
   "nbconvert_exporter": "python",
   "pygments_lexer": "ipython3",
   "version": "3.11.7"
  }
 },
 "nbformat": 4,
 "nbformat_minor": 2
}
