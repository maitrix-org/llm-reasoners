{
 "cells": [
  {
   "cell_type": "code",
   "execution_count": 79,
   "metadata": {},
   "outputs": [],
   "source": [
    "import pandas as pd\n",
    "import matplotlib.pyplot as plt\n",
    "import os\n",
    "import pickle\n",
    "\n",
    "plt.style.use(\"ggplot\")\n",
    "\n",
    "plt.rcParams.update({\n",
    "    'font.size': 14,\n",
    "    'axes.labelsize': 14,\n",
    "    'axes.titlesize': 16,\n",
    "    'xtick.labelsize': 12,\n",
    "    'ytick.labelsize': 12,\n",
    "    'legend.fontsize': 12,\n",
    "    'lines.linewidth': 2.5,\n",
    "    'axes.grid': True,\n",
    "    'grid.alpha': 0.5\n",
    "})"
   ]
  },
  {
   "cell_type": "code",
   "execution_count": 80,
   "metadata": {},
   "outputs": [],
   "source": [
    "from analysis import get_stats"
   ]
  },
  {
   "cell_type": "code",
   "execution_count": 81,
   "metadata": {},
   "outputs": [
    {
     "data": {
      "text/plain": [
       "[5,\n",
       " 25,\n",
       " 81,\n",
       " 2,\n",
       " 11.914668149999999,\n",
       " 0.10831516499999999,\n",
       " 476076.39090909093,\n",
       " 394068.15454545454,\n",
       " 82008.23636363636,\n",
       "         task_name  usd_cost  prompt_tokens  prompt_cached_tokens  \\\n",
       " 0    webarena.601  0.078193         238903                     0   \n",
       " 1    webarena.583  0.099352         182063                     0   \n",
       " 2    webarena.603  0.069993         208348                     0   \n",
       " 3    webarena.610  0.071495         196187                     0   \n",
       " 4    webarena.600  0.081348         240601                     0   \n",
       " ..            ...       ...            ...                   ...   \n",
       " 105  webarena.625  0.085038         186661                     0   \n",
       " 106  webarena.620  0.057675         171686                     0   \n",
       " 107  webarena.624  0.094078         156837                     0   \n",
       " 108  webarena.626  0.118415         265451                     0   \n",
       " 109  webarena.627  0.111950         287046                     0   \n",
       " \n",
       "      prompt_non_cached_tokens  completion_tokens  total_tokens  \n",
       " 0                      238903              70596        309499  \n",
       " 1                      182063             120071        302134  \n",
       " 2                      208348              64568        272916  \n",
       " 3                      196187              70112        266299  \n",
       " 4                      240601              75429        316030  \n",
       " ..                        ...                ...           ...  \n",
       " 105                    186661              95064        281725  \n",
       " 106                    171686              53204        224890  \n",
       " 107                    156837             117588        274425  \n",
       " 108                    265451             130996        396447  \n",
       " 109                    287046             114822        401868  \n",
       " \n",
       " [110 rows x 7 columns],\n",
       " 180452.88765358925,\n",
       " 1640.4807968508114,\n",
       " 1036.8700075431304,\n",
       " 421.52451264208014,\n",
       " 106.43707304217598,\n",
       "         task_name  total_time_taken  total_proposal_time  \\\n",
       " 0    webarena.601       1650.664257          1112.927121   \n",
       " 1    webarena.583       2414.501901          1563.547805   \n",
       " 2    webarena.603        660.426999           290.117087   \n",
       " 3    webarena.610        867.703798           415.270719   \n",
       " 4    webarena.600       1073.125370           502.320266   \n",
       " ..            ...               ...                  ...   \n",
       " 105  webarena.625       1359.874788           822.666032   \n",
       " 106  webarena.620        873.957924           418.417512   \n",
       " 107  webarena.624       1859.933818          1175.841809   \n",
       " 108  webarena.626       1971.023457          1231.238916   \n",
       " 109  webarena.627       3141.474944          2013.274384   \n",
       " \n",
       "      total_evaluation_time  total_envstep_time  \n",
       " 0               368.176879           79.562035  \n",
       " 1               594.353694          157.532610  \n",
       " 2               234.164783           70.890543  \n",
       " 3               320.868055           81.935431  \n",
       " 4               397.621961           82.610891  \n",
       " ..                     ...                 ...  \n",
       " 105             357.284019          103.829945  \n",
       " 106             324.814496           70.132108  \n",
       " 107             456.656785          127.501207  \n",
       " 108             471.343869          135.483959  \n",
       " 109             898.444858          126.054480  \n",
       " \n",
       " [110 rows x 5 columns],\n",
       " 2.92,\n",
       " 4.4,\n",
       "               completion_iteration  completion_depth  max_depth  \\\n",
       " task_name                                                         \n",
       " webarena.601                   NaN               NaN        6.0   \n",
       " webarena.583                   NaN               NaN        6.0   \n",
       " webarena.603                   NaN               NaN        6.0   \n",
       " webarena.610                   NaN               NaN        6.0   \n",
       " webarena.600                   NaN               NaN        6.0   \n",
       " ...                            ...               ...        ...   \n",
       " webarena.625                   NaN               NaN        6.0   \n",
       " webarena.620                   NaN               NaN        6.0   \n",
       " webarena.624                   NaN               NaN        6.0   \n",
       " webarena.626                   NaN               NaN        6.0   \n",
       " webarena.627                   NaN               NaN        6.0   \n",
       " \n",
       "               env_steps_taken  \n",
       " task_name                      \n",
       " webarena.601             54.0  \n",
       " webarena.583             60.0  \n",
       " webarena.603             60.0  \n",
       " webarena.610             60.0  \n",
       " webarena.600             54.0  \n",
       " ...                       ...  \n",
       " webarena.625             60.0  \n",
       " webarena.620             60.0  \n",
       " webarena.624             60.0  \n",
       " webarena.626             60.0  \n",
       " webarena.627             60.0  \n",
       " \n",
       " [110 rows x 4 columns]]"
      ]
     },
     "execution_count": 81,
     "metadata": {},
     "output_type": "execute_result"
    }
   ],
   "source": [
    "stats = get_stats(\"d5\", \"/data/samuel/results-r132b-bf16/\")\n",
    "stats"
   ]
  },
  {
   "cell_type": "code",
   "execution_count": null,
   "metadata": {},
   "outputs": [
    {
     "data": {
      "text/html": [
       "<div>\n",
       "<style scoped>\n",
       "    .dataframe tbody tr th:only-of-type {\n",
       "        vertical-align: middle;\n",
       "    }\n",
       "\n",
       "    .dataframe tbody tr th {\n",
       "        vertical-align: top;\n",
       "    }\n",
       "\n",
       "    .dataframe thead th {\n",
       "        text-align: right;\n",
       "    }\n",
       "</style>\n",
       "<table border=\"1\" class=\"dataframe\">\n",
       "  <thead>\n",
       "    <tr style=\"text-align: right;\">\n",
       "      <th></th>\n",
       "      <th>successes</th>\n",
       "      <th>failures</th>\n",
       "      <th>errors</th>\n",
       "      <th>total_usd</th>\n",
       "      <th>avg_usd</th>\n",
       "      <th>avg_tokens</th>\n",
       "      <th>avg_prompt</th>\n",
       "      <th>avg_completion</th>\n",
       "      <th>token_df</th>\n",
       "      <th>total_time</th>\n",
       "      <th>avg_time</th>\n",
       "      <th>avg_prop_time</th>\n",
       "      <th>avg_eval_time</th>\n",
       "      <th>avg_step_time</th>\n",
       "      <th>time_df</th>\n",
       "      <th>avg_completion_iteration</th>\n",
       "      <th>avg_completion_depth</th>\n",
       "      <th>mcts_df</th>\n",
       "      <th>success_rate</th>\n",
       "    </tr>\n",
       "    <tr>\n",
       "      <th>mcts_depth</th>\n",
       "      <th></th>\n",
       "      <th></th>\n",
       "      <th></th>\n",
       "      <th></th>\n",
       "      <th></th>\n",
       "      <th></th>\n",
       "      <th></th>\n",
       "      <th></th>\n",
       "      <th></th>\n",
       "      <th></th>\n",
       "      <th></th>\n",
       "      <th></th>\n",
       "      <th></th>\n",
       "      <th></th>\n",
       "      <th></th>\n",
       "      <th></th>\n",
       "      <th></th>\n",
       "      <th></th>\n",
       "      <th></th>\n",
       "    </tr>\n",
       "  </thead>\n",
       "  <tbody>\n",
       "    <tr>\n",
       "      <th>5</th>\n",
       "      <td>14</td>\n",
       "      <td>83</td>\n",
       "      <td>9</td>\n",
       "      <td>3.639984</td>\n",
       "      <td>0.034339</td>\n",
       "      <td>168209.594340</td>\n",
       "      <td>147969.528302</td>\n",
       "      <td>20240.066038</td>\n",
       "      <td>task_name  usd_cost  prompt_tokens  pr...</td>\n",
       "      <td>50816.707428</td>\n",
       "      <td>479.402900</td>\n",
       "      <td>189.362815</td>\n",
       "      <td>108.004408</td>\n",
       "      <td>120.619324</td>\n",
       "      <td>task_name  total_time_taken  total_pro...</td>\n",
       "      <td>2.357143</td>\n",
       "      <td>4.714286</td>\n",
       "      <td>completion_iteration  completion...</td>\n",
       "      <td>0.132075</td>\n",
       "    </tr>\n",
       "    <tr>\n",
       "      <th>10</th>\n",
       "      <td>12</td>\n",
       "      <td>85</td>\n",
       "      <td>9</td>\n",
       "      <td>4.631175</td>\n",
       "      <td>0.043690</td>\n",
       "      <td>203777.603774</td>\n",
       "      <td>174613.858491</td>\n",
       "      <td>29163.745283</td>\n",
       "      <td>task_name  usd_cost  prompt_tokens  pr...</td>\n",
       "      <td>73172.907518</td>\n",
       "      <td>690.310448</td>\n",
       "      <td>236.657843</td>\n",
       "      <td>121.910255</td>\n",
       "      <td>174.458772</td>\n",
       "      <td>task_name  total_time_taken  total_pro...</td>\n",
       "      <td>1.000000</td>\n",
       "      <td>6.583333</td>\n",
       "      <td>completion_iteration  completion...</td>\n",
       "      <td>0.113208</td>\n",
       "    </tr>\n",
       "    <tr>\n",
       "      <th>20</th>\n",
       "      <td>8</td>\n",
       "      <td>91</td>\n",
       "      <td>7</td>\n",
       "      <td>9.575581</td>\n",
       "      <td>0.090336</td>\n",
       "      <td>460726.603774</td>\n",
       "      <td>413556.198113</td>\n",
       "      <td>47170.405660</td>\n",
       "      <td>task_name  usd_cost  prompt_tokens  pr...</td>\n",
       "      <td>138819.981616</td>\n",
       "      <td>1309.622468</td>\n",
       "      <td>376.618517</td>\n",
       "      <td>234.946513</td>\n",
       "      <td>288.917886</td>\n",
       "      <td>task_name  total_time_taken  total_pro...</td>\n",
       "      <td>1.000000</td>\n",
       "      <td>9.375000</td>\n",
       "      <td>completion_iteration  completion...</td>\n",
       "      <td>0.075472</td>\n",
       "    </tr>\n",
       "    <tr>\n",
       "      <th>100</th>\n",
       "      <td>9</td>\n",
       "      <td>74</td>\n",
       "      <td>13</td>\n",
       "      <td>15.519388</td>\n",
       "      <td>0.159994</td>\n",
       "      <td>878608.061856</td>\n",
       "      <td>815935.876289</td>\n",
       "      <td>62672.185567</td>\n",
       "      <td>task_name  usd_cost  prompt_tokens  pro...</td>\n",
       "      <td>80550.312426</td>\n",
       "      <td>830.415592</td>\n",
       "      <td>503.033983</td>\n",
       "      <td>322.929495</td>\n",
       "      <td>336.195385</td>\n",
       "      <td>task_name  total_time_taken  total_prop...</td>\n",
       "      <td>0.000000</td>\n",
       "      <td>5.000000</td>\n",
       "      <td>completion_iteration  completion...</td>\n",
       "      <td>0.093750</td>\n",
       "    </tr>\n",
       "  </tbody>\n",
       "</table>\n",
       "</div>"
      ],
      "text/plain": [
       "            successes  failures  errors  total_usd   avg_usd     avg_tokens  \\\n",
       "mcts_depth                                                                    \n",
       "5                  14        83       9   3.639984  0.034339  168209.594340   \n",
       "10                 12        85       9   4.631175  0.043690  203777.603774   \n",
       "20                  8        91       7   9.575581  0.090336  460726.603774   \n",
       "100                 9        74      13  15.519388  0.159994  878608.061856   \n",
       "\n",
       "               avg_prompt  avg_completion  \\\n",
       "mcts_depth                                  \n",
       "5           147969.528302    20240.066038   \n",
       "10          174613.858491    29163.745283   \n",
       "20          413556.198113    47170.405660   \n",
       "100         815935.876289    62672.185567   \n",
       "\n",
       "                                                     token_df     total_time  \\\n",
       "mcts_depth                                                                     \n",
       "5                   task_name  usd_cost  prompt_tokens  pr...   50816.707428   \n",
       "10                  task_name  usd_cost  prompt_tokens  pr...   73172.907518   \n",
       "20                  task_name  usd_cost  prompt_tokens  pr...  138819.981616   \n",
       "100                task_name  usd_cost  prompt_tokens  pro...   80550.312426   \n",
       "\n",
       "               avg_time  avg_prop_time  avg_eval_time  avg_step_time  \\\n",
       "mcts_depth                                                             \n",
       "5            479.402900     189.362815     108.004408     120.619324   \n",
       "10           690.310448     236.657843     121.910255     174.458772   \n",
       "20          1309.622468     376.618517     234.946513     288.917886   \n",
       "100          830.415592     503.033983     322.929495     336.195385   \n",
       "\n",
       "                                                      time_df  \\\n",
       "mcts_depth                                                      \n",
       "5                   task_name  total_time_taken  total_pro...   \n",
       "10                  task_name  total_time_taken  total_pro...   \n",
       "20                  task_name  total_time_taken  total_pro...   \n",
       "100                task_name  total_time_taken  total_prop...   \n",
       "\n",
       "            avg_completion_iteration  avg_completion_depth  \\\n",
       "mcts_depth                                                   \n",
       "5                           2.357143              4.714286   \n",
       "10                          1.000000              6.583333   \n",
       "20                          1.000000              9.375000   \n",
       "100                         0.000000              5.000000   \n",
       "\n",
       "                                                      mcts_df  success_rate  \n",
       "mcts_depth                                                                   \n",
       "5                         completion_iteration  completion...      0.132075  \n",
       "10                        completion_iteration  completion...      0.113208  \n",
       "20                        completion_iteration  completion...      0.075472  \n",
       "100                       completion_iteration  completion...      0.093750  "
      ]
     },
     "execution_count": 82,
     "metadata": {},
     "output_type": "execute_result"
    }
   ],
   "source": [
    "d5_stats = get_stats(\"d5\", \"/data/samuel/results-nd/\")\n",
    "d10_stats = get_stats(\"d10\", \"/data/samuel/results-nd/\")\n",
    "d20_stats = get_stats(\"d20\", \"/data/samuel/results-nd/\")\n",
    "d100_stats = get_stats(\"e100\", \"/data/samuel/results-nd/\")\n",
    "\n",
    "df_nd = pd.DataFrame([d5_stats, d10_stats, d20_stats, d100_stats], \n",
    "                  columns=[\"mcts_depth\", \"successes\", \"failures\", \"errors\", \"total_usd\", \"avg_usd\", \"avg_tokens\", \"avg_prompt\", \"avg_completion\", \"token_df\", \"total_time\", \"avg_time\", \"avg_prop_time\", \"avg_eval_time\", \"avg_step_time\", \"time_df\", \"avg_completion_iteration\", \"avg_completion_depth\", \"mcts_df\"])\n",
    "df_nd.set_index(\"mcts_depth\", inplace=True)\n",
    "df_nd[\"success_rate\"] = df_nd[\"successes\"] / (df_nd[[\"successes\", \"failures\", \"errors\"]].sum(axis=1))\n",
    "# df_r1 = df_nd[[\"successes\", \"failures\", \"errors\", \"avg_tokens\", \"avg_prompt\", \"avg_completion\", \"avg_time\", \"avg_prop_time\", \"avg_eval_time\", \"avg_step_time\", \"token_df\", \"time_df\", \"mcts_df\"]]\n",
    "df_nd"
   ]
  },
  {
   "cell_type": "code",
   "execution_count": 112,
   "metadata": {},
   "outputs": [
    {
     "data": {
      "text/html": [
       "<div>\n",
       "<style scoped>\n",
       "    .dataframe tbody tr th:only-of-type {\n",
       "        vertical-align: middle;\n",
       "    }\n",
       "\n",
       "    .dataframe tbody tr th {\n",
       "        vertical-align: top;\n",
       "    }\n",
       "\n",
       "    .dataframe thead th {\n",
       "        text-align: right;\n",
       "    }\n",
       "</style>\n",
       "<table border=\"1\" class=\"dataframe\">\n",
       "  <thead>\n",
       "    <tr style=\"text-align: right;\">\n",
       "      <th></th>\n",
       "      <th>successes</th>\n",
       "      <th>failures</th>\n",
       "      <th>errors</th>\n",
       "      <th>total_usd</th>\n",
       "      <th>avg_usd</th>\n",
       "      <th>avg_tokens</th>\n",
       "      <th>avg_prompt</th>\n",
       "      <th>avg_completion</th>\n",
       "      <th>token_df</th>\n",
       "      <th>total_time</th>\n",
       "      <th>avg_time</th>\n",
       "      <th>avg_prop_time</th>\n",
       "      <th>avg_eval_time</th>\n",
       "      <th>avg_step_time</th>\n",
       "      <th>time_df</th>\n",
       "      <th>avg_completion_iteration</th>\n",
       "      <th>avg_completion_depth</th>\n",
       "      <th>mcts_df</th>\n",
       "      <th>success_rate</th>\n",
       "    </tr>\n",
       "    <tr>\n",
       "      <th>mcts_depth</th>\n",
       "      <th></th>\n",
       "      <th></th>\n",
       "      <th></th>\n",
       "      <th></th>\n",
       "      <th></th>\n",
       "      <th></th>\n",
       "      <th></th>\n",
       "      <th></th>\n",
       "      <th></th>\n",
       "      <th></th>\n",
       "      <th></th>\n",
       "      <th></th>\n",
       "      <th></th>\n",
       "      <th></th>\n",
       "      <th></th>\n",
       "      <th></th>\n",
       "      <th></th>\n",
       "      <th></th>\n",
       "      <th></th>\n",
       "    </tr>\n",
       "  </thead>\n",
       "  <tbody>\n",
       "    <tr>\n",
       "      <th>5</th>\n",
       "      <td>25</td>\n",
       "      <td>81</td>\n",
       "      <td>2</td>\n",
       "      <td>11.914668</td>\n",
       "      <td>0.108315</td>\n",
       "      <td>4.760764e+05</td>\n",
       "      <td>3.940682e+05</td>\n",
       "      <td>82008.236364</td>\n",
       "      <td>task_name  usd_cost  prompt_tokens  pr...</td>\n",
       "      <td>180452.887654</td>\n",
       "      <td>1640.480797</td>\n",
       "      <td>1036.870008</td>\n",
       "      <td>421.524513</td>\n",
       "      <td>106.437073</td>\n",
       "      <td>task_name  total_time_taken  total_pro...</td>\n",
       "      <td>2.920000</td>\n",
       "      <td>4.400000</td>\n",
       "      <td>completion_iteration  completion...</td>\n",
       "      <td>0.231481</td>\n",
       "    </tr>\n",
       "    <tr>\n",
       "      <th>10</th>\n",
       "      <td>34</td>\n",
       "      <td>69</td>\n",
       "      <td>2</td>\n",
       "      <td>15.841632</td>\n",
       "      <td>0.148053</td>\n",
       "      <td>6.472741e+05</td>\n",
       "      <td>5.340263e+05</td>\n",
       "      <td>113247.822430</td>\n",
       "      <td>task_name  usd_cost  prompt_tokens  pr...</td>\n",
       "      <td>235639.261530</td>\n",
       "      <td>2202.236089</td>\n",
       "      <td>1309.311573</td>\n",
       "      <td>592.783625</td>\n",
       "      <td>164.951645</td>\n",
       "      <td>task_name  total_time_taken  total_pro...</td>\n",
       "      <td>2.176471</td>\n",
       "      <td>6.558824</td>\n",
       "      <td>completion_iteration  completion...</td>\n",
       "      <td>0.323810</td>\n",
       "    </tr>\n",
       "    <tr>\n",
       "      <th>20</th>\n",
       "      <td>35</td>\n",
       "      <td>70</td>\n",
       "      <td>2</td>\n",
       "      <td>22.921202</td>\n",
       "      <td>0.208375</td>\n",
       "      <td>8.472956e+05</td>\n",
       "      <td>6.666728e+05</td>\n",
       "      <td>180622.727273</td>\n",
       "      <td>task_name  usd_cost  prompt_tokens  pr...</td>\n",
       "      <td>386273.144483</td>\n",
       "      <td>3511.574041</td>\n",
       "      <td>2096.982787</td>\n",
       "      <td>879.989893</td>\n",
       "      <td>221.367512</td>\n",
       "      <td>task_name  total_time_taken  total_pro...</td>\n",
       "      <td>0.592593</td>\n",
       "      <td>7.703704</td>\n",
       "      <td>completion_iteration  completion...</td>\n",
       "      <td>0.327103</td>\n",
       "    </tr>\n",
       "    <tr>\n",
       "      <th>100</th>\n",
       "      <td>28</td>\n",
       "      <td>75</td>\n",
       "      <td>6</td>\n",
       "      <td>67.181274</td>\n",
       "      <td>0.579149</td>\n",
       "      <td>2.569146e+06</td>\n",
       "      <td>2.138531e+06</td>\n",
       "      <td>430615.500000</td>\n",
       "      <td>task_name  usd_cost  prompt_tokens  pr...</td>\n",
       "      <td>619201.611568</td>\n",
       "      <td>5337.944927</td>\n",
       "      <td>3500.116294</td>\n",
       "      <td>1766.541577</td>\n",
       "      <td>606.086697</td>\n",
       "      <td>task_name  total_time_taken  total_pro...</td>\n",
       "      <td>0.000000</td>\n",
       "      <td>6.250000</td>\n",
       "      <td>completion_iteration  completion...</td>\n",
       "      <td>0.256881</td>\n",
       "    </tr>\n",
       "  </tbody>\n",
       "</table>\n",
       "</div>"
      ],
      "text/plain": [
       "            successes  failures  errors  total_usd   avg_usd    avg_tokens  \\\n",
       "mcts_depth                                                                   \n",
       "5                  25        81       2  11.914668  0.108315  4.760764e+05   \n",
       "10                 34        69       2  15.841632  0.148053  6.472741e+05   \n",
       "20                 35        70       2  22.921202  0.208375  8.472956e+05   \n",
       "100                28        75       6  67.181274  0.579149  2.569146e+06   \n",
       "\n",
       "              avg_prompt  avg_completion  \\\n",
       "mcts_depth                                 \n",
       "5           3.940682e+05    82008.236364   \n",
       "10          5.340263e+05   113247.822430   \n",
       "20          6.666728e+05   180622.727273   \n",
       "100         2.138531e+06   430615.500000   \n",
       "\n",
       "                                                     token_df     total_time  \\\n",
       "mcts_depth                                                                     \n",
       "5                   task_name  usd_cost  prompt_tokens  pr...  180452.887654   \n",
       "10                  task_name  usd_cost  prompt_tokens  pr...  235639.261530   \n",
       "20                  task_name  usd_cost  prompt_tokens  pr...  386273.144483   \n",
       "100                 task_name  usd_cost  prompt_tokens  pr...  619201.611568   \n",
       "\n",
       "               avg_time  avg_prop_time  avg_eval_time  avg_step_time  \\\n",
       "mcts_depth                                                             \n",
       "5           1640.480797    1036.870008     421.524513     106.437073   \n",
       "10          2202.236089    1309.311573     592.783625     164.951645   \n",
       "20          3511.574041    2096.982787     879.989893     221.367512   \n",
       "100         5337.944927    3500.116294    1766.541577     606.086697   \n",
       "\n",
       "                                                      time_df  \\\n",
       "mcts_depth                                                      \n",
       "5                   task_name  total_time_taken  total_pro...   \n",
       "10                  task_name  total_time_taken  total_pro...   \n",
       "20                  task_name  total_time_taken  total_pro...   \n",
       "100                 task_name  total_time_taken  total_pro...   \n",
       "\n",
       "            avg_completion_iteration  avg_completion_depth  \\\n",
       "mcts_depth                                                   \n",
       "5                           2.920000              4.400000   \n",
       "10                          2.176471              6.558824   \n",
       "20                          0.592593              7.703704   \n",
       "100                         0.000000              6.250000   \n",
       "\n",
       "                                                      mcts_df  success_rate  \n",
       "mcts_depth                                                                   \n",
       "5                         completion_iteration  completion...      0.231481  \n",
       "10                        completion_iteration  completion...      0.323810  \n",
       "20                        completion_iteration  completion...      0.327103  \n",
       "100                       completion_iteration  completion...      0.256881  "
      ]
     },
     "execution_count": 112,
     "metadata": {},
     "output_type": "execute_result"
    }
   ],
   "source": [
    "d5_stats = get_stats(\"d5\", \"/data/samuel/results-r132b-bf16/\")\n",
    "d10_stats = get_stats(\"d10\", \"/data/samuel/results-r132b-bf16/\")\n",
    "d20_stats = get_stats(\"d20\", \"/data/samuel/results-r132b-bf16/\")\n",
    "d100_stats = get_stats(\"e100\", \"/data/samuel/results-r132b-bf16/\")\n",
    "\n",
    "df_r1 = pd.DataFrame([d5_stats, d10_stats, d20_stats, d100_stats], \n",
    "                  columns=[\"mcts_depth\", \"successes\", \"failures\", \"errors\", \"total_usd\", \"avg_usd\", \"avg_tokens\", \"avg_prompt\", \"avg_completion\", \"token_df\", \"total_time\", \"avg_time\", \"avg_prop_time\", \"avg_eval_time\", \"avg_step_time\", \"time_df\", \"avg_completion_iteration\", \"avg_completion_depth\", \"mcts_df\"])\n",
    "df_r1.set_index(\"mcts_depth\", inplace=True)\n",
    "df_r1[\"success_rate\"] = df_r1[\"successes\"] / (df_r1[[\"successes\", \"failures\", \"errors\"]].sum(axis=1))\n",
    "# df_r1 = df_r1[[\"successes\", \"failures\", \"errors\", \"avg_tokens\", \"avg_prompt\", \"avg_completion\", \"avg_time\", \"avg_prop_time\", \"avg_eval_time\", \"avg_step_time\", \"token_df\", \"time_df\", \"mcts_df\"]]\n",
    "df_r1"
   ]
  },
  {
   "cell_type": "code",
   "execution_count": 84,
   "metadata": {},
   "outputs": [
    {
     "data": {
      "text/plain": [
       "(completion_depth\n",
       " 2.0     4\n",
       " 4.0     6\n",
       " 5.0     3\n",
       " 6.0     2\n",
       " 7.0     7\n",
       " 8.0     3\n",
       " 9.0     3\n",
       " 10.0    2\n",
       " 11.0    4\n",
       " Name: count, dtype: int64,\n",
       " completion_iteration\n",
       " 0.0    20\n",
       " 4.0     6\n",
       " 5.0     3\n",
       " 6.0     3\n",
       " 8.0     1\n",
       " 9.0     1\n",
       " Name: count, dtype: int64)"
      ]
     },
     "execution_count": 84,
     "metadata": {},
     "output_type": "execute_result"
    }
   ],
   "source": [
    "(df_r1.loc[10].mcts_df[\"completion_depth\"].value_counts().sort_index(),\n",
    "df_r1.loc[10].mcts_df[\"completion_iteration\"].value_counts().sort_index())"
   ]
  },
  {
   "cell_type": "code",
   "execution_count": 85,
   "metadata": {},
   "outputs": [
    {
     "data": {
      "text/plain": [
       "(completion_depth\n",
       " 2.0     3\n",
       " 4.0     6\n",
       " 5.0     5\n",
       " 6.0     2\n",
       " 7.0     1\n",
       " 8.0     4\n",
       " 11.0    2\n",
       " 19.0    1\n",
       " 20.0    2\n",
       " 21.0    1\n",
       " Name: count, dtype: int64,\n",
       " completion_iteration\n",
       " 0.0    22\n",
       " 1.0     1\n",
       " 3.0     3\n",
       " 6.0     1\n",
       " Name: count, dtype: int64)"
      ]
     },
     "execution_count": 85,
     "metadata": {},
     "output_type": "execute_result"
    }
   ],
   "source": [
    "(df_r1.loc[20].mcts_df[\"completion_depth\"].value_counts().sort_index(),\n",
    "df_r1.loc[20].mcts_df[\"completion_iteration\"].value_counts().sort_index())"
   ]
  },
  {
   "cell_type": "code",
   "execution_count": 86,
   "metadata": {},
   "outputs": [
    {
     "data": {
      "text/plain": [
       "(completion_depth\n",
       " 2.0     3\n",
       " 4.0     4\n",
       " 5.0     8\n",
       " 6.0     4\n",
       " 7.0     2\n",
       " 8.0     1\n",
       " 9.0     3\n",
       " 11.0    1\n",
       " 12.0    1\n",
       " 17.0    1\n",
       " Name: count, dtype: int64,\n",
       " completion_iteration\n",
       " 0.0    28\n",
       " Name: count, dtype: int64)"
      ]
     },
     "execution_count": 86,
     "metadata": {},
     "output_type": "execute_result"
    }
   ],
   "source": [
    "(df_r1.loc[100].mcts_df[\"completion_depth\"].value_counts().sort_index(),\n",
    "df_r1.loc[100].mcts_df[\"completion_iteration\"].value_counts().sort_index())"
   ]
  },
  {
   "cell_type": "code",
   "execution_count": 87,
   "metadata": {},
   "outputs": [
    {
     "data": {
      "text/plain": [
       "mcts_depth\n",
       "5      25\n",
       "10     34\n",
       "20     35\n",
       "100    28\n",
       "Name: successes, dtype: int64"
      ]
     },
     "execution_count": 87,
     "metadata": {},
     "output_type": "execute_result"
    }
   ],
   "source": [
    "df_r1[\"successes\"]"
   ]
  },
  {
   "cell_type": "code",
   "execution_count": 88,
   "metadata": {},
   "outputs": [
    {
     "ename": "KeyError",
     "evalue": "\"['success_rate'] not in index\"",
     "output_type": "error",
     "traceback": [
      "\u001b[0;31m---------------------------------------------------------------------------\u001b[0m",
      "\u001b[0;31mKeyError\u001b[0m                                  Traceback (most recent call last)",
      "Cell \u001b[0;32mIn[88], line 1\u001b[0m\n\u001b[0;32m----> 1\u001b[0m \u001b[43mdf_r1\u001b[49m\u001b[43m[\u001b[49m\u001b[43m[\u001b[49m\u001b[38;5;124;43m\"\u001b[39;49m\u001b[38;5;124;43msuccess_rate\u001b[39;49m\u001b[38;5;124;43m\"\u001b[39;49m\u001b[43m,\u001b[49m\u001b[43m \u001b[49m\u001b[38;5;124;43m\"\u001b[39;49m\u001b[38;5;124;43msuccesses\u001b[39;49m\u001b[38;5;124;43m\"\u001b[39;49m\u001b[43m,\u001b[49m\u001b[43m \u001b[49m\u001b[38;5;124;43m\"\u001b[39;49m\u001b[38;5;124;43mfailures\u001b[39;49m\u001b[38;5;124;43m\"\u001b[39;49m\u001b[43m,\u001b[49m\u001b[43m \u001b[49m\u001b[38;5;124;43m\"\u001b[39;49m\u001b[38;5;124;43merrors\u001b[39;49m\u001b[38;5;124;43m\"\u001b[39;49m\u001b[43m]\u001b[49m\u001b[43m]\u001b[49m\n",
      "File \u001b[0;32m~/miniconda3/envs/h100/lib/python3.11/site-packages/pandas/core/frame.py:4108\u001b[0m, in \u001b[0;36mDataFrame.__getitem__\u001b[0;34m(self, key)\u001b[0m\n\u001b[1;32m   4106\u001b[0m     \u001b[38;5;28;01mif\u001b[39;00m is_iterator(key):\n\u001b[1;32m   4107\u001b[0m         key \u001b[38;5;241m=\u001b[39m \u001b[38;5;28mlist\u001b[39m(key)\n\u001b[0;32m-> 4108\u001b[0m     indexer \u001b[38;5;241m=\u001b[39m \u001b[38;5;28;43mself\u001b[39;49m\u001b[38;5;241;43m.\u001b[39;49m\u001b[43mcolumns\u001b[49m\u001b[38;5;241;43m.\u001b[39;49m\u001b[43m_get_indexer_strict\u001b[49m\u001b[43m(\u001b[49m\u001b[43mkey\u001b[49m\u001b[43m,\u001b[49m\u001b[43m \u001b[49m\u001b[38;5;124;43m\"\u001b[39;49m\u001b[38;5;124;43mcolumns\u001b[39;49m\u001b[38;5;124;43m\"\u001b[39;49m\u001b[43m)\u001b[49m[\u001b[38;5;241m1\u001b[39m]\n\u001b[1;32m   4110\u001b[0m \u001b[38;5;66;03m# take() does not accept boolean indexers\u001b[39;00m\n\u001b[1;32m   4111\u001b[0m \u001b[38;5;28;01mif\u001b[39;00m \u001b[38;5;28mgetattr\u001b[39m(indexer, \u001b[38;5;124m\"\u001b[39m\u001b[38;5;124mdtype\u001b[39m\u001b[38;5;124m\"\u001b[39m, \u001b[38;5;28;01mNone\u001b[39;00m) \u001b[38;5;241m==\u001b[39m \u001b[38;5;28mbool\u001b[39m:\n",
      "File \u001b[0;32m~/miniconda3/envs/h100/lib/python3.11/site-packages/pandas/core/indexes/base.py:6200\u001b[0m, in \u001b[0;36mIndex._get_indexer_strict\u001b[0;34m(self, key, axis_name)\u001b[0m\n\u001b[1;32m   6197\u001b[0m \u001b[38;5;28;01melse\u001b[39;00m:\n\u001b[1;32m   6198\u001b[0m     keyarr, indexer, new_indexer \u001b[38;5;241m=\u001b[39m \u001b[38;5;28mself\u001b[39m\u001b[38;5;241m.\u001b[39m_reindex_non_unique(keyarr)\n\u001b[0;32m-> 6200\u001b[0m \u001b[38;5;28;43mself\u001b[39;49m\u001b[38;5;241;43m.\u001b[39;49m\u001b[43m_raise_if_missing\u001b[49m\u001b[43m(\u001b[49m\u001b[43mkeyarr\u001b[49m\u001b[43m,\u001b[49m\u001b[43m \u001b[49m\u001b[43mindexer\u001b[49m\u001b[43m,\u001b[49m\u001b[43m \u001b[49m\u001b[43maxis_name\u001b[49m\u001b[43m)\u001b[49m\n\u001b[1;32m   6202\u001b[0m keyarr \u001b[38;5;241m=\u001b[39m \u001b[38;5;28mself\u001b[39m\u001b[38;5;241m.\u001b[39mtake(indexer)\n\u001b[1;32m   6203\u001b[0m \u001b[38;5;28;01mif\u001b[39;00m \u001b[38;5;28misinstance\u001b[39m(key, Index):\n\u001b[1;32m   6204\u001b[0m     \u001b[38;5;66;03m# GH 42790 - Preserve name from an Index\u001b[39;00m\n",
      "File \u001b[0;32m~/miniconda3/envs/h100/lib/python3.11/site-packages/pandas/core/indexes/base.py:6252\u001b[0m, in \u001b[0;36mIndex._raise_if_missing\u001b[0;34m(self, key, indexer, axis_name)\u001b[0m\n\u001b[1;32m   6249\u001b[0m     \u001b[38;5;28;01mraise\u001b[39;00m \u001b[38;5;167;01mKeyError\u001b[39;00m(\u001b[38;5;124mf\u001b[39m\u001b[38;5;124m\"\u001b[39m\u001b[38;5;124mNone of [\u001b[39m\u001b[38;5;132;01m{\u001b[39;00mkey\u001b[38;5;132;01m}\u001b[39;00m\u001b[38;5;124m] are in the [\u001b[39m\u001b[38;5;132;01m{\u001b[39;00maxis_name\u001b[38;5;132;01m}\u001b[39;00m\u001b[38;5;124m]\u001b[39m\u001b[38;5;124m\"\u001b[39m)\n\u001b[1;32m   6251\u001b[0m not_found \u001b[38;5;241m=\u001b[39m \u001b[38;5;28mlist\u001b[39m(ensure_index(key)[missing_mask\u001b[38;5;241m.\u001b[39mnonzero()[\u001b[38;5;241m0\u001b[39m]]\u001b[38;5;241m.\u001b[39munique())\n\u001b[0;32m-> 6252\u001b[0m \u001b[38;5;28;01mraise\u001b[39;00m \u001b[38;5;167;01mKeyError\u001b[39;00m(\u001b[38;5;124mf\u001b[39m\u001b[38;5;124m\"\u001b[39m\u001b[38;5;132;01m{\u001b[39;00mnot_found\u001b[38;5;132;01m}\u001b[39;00m\u001b[38;5;124m not in index\u001b[39m\u001b[38;5;124m\"\u001b[39m)\n",
      "\u001b[0;31mKeyError\u001b[0m: \"['success_rate'] not in index\""
     ]
    }
   ],
   "source": [
    "df_r1[[\"success_rate\", \"successes\", \"failures\", \"errors\"]]"
   ]
  },
  {
   "cell_type": "code",
   "execution_count": null,
   "metadata": {},
   "outputs": [
    {
     "data": {
      "text/html": [
       "<div>\n",
       "<style scoped>\n",
       "    .dataframe tbody tr th:only-of-type {\n",
       "        vertical-align: middle;\n",
       "    }\n",
       "\n",
       "    .dataframe tbody tr th {\n",
       "        vertical-align: top;\n",
       "    }\n",
       "\n",
       "    .dataframe thead th {\n",
       "        text-align: right;\n",
       "    }\n",
       "</style>\n",
       "<table border=\"1\" class=\"dataframe\">\n",
       "  <thead>\n",
       "    <tr style=\"text-align: right;\">\n",
       "      <th></th>\n",
       "      <th>total_usd</th>\n",
       "      <th>avg_usd</th>\n",
       "    </tr>\n",
       "    <tr>\n",
       "      <th>mcts_depth</th>\n",
       "      <th></th>\n",
       "      <th></th>\n",
       "    </tr>\n",
       "  </thead>\n",
       "  <tbody>\n",
       "    <tr>\n",
       "      <th>5</th>\n",
       "      <td>4.861763</td>\n",
       "      <td>0.045866</td>\n",
       "    </tr>\n",
       "    <tr>\n",
       "      <th>10</th>\n",
       "      <td>6.413142</td>\n",
       "      <td>0.060501</td>\n",
       "    </tr>\n",
       "    <tr>\n",
       "      <th>20</th>\n",
       "      <td>9.009063</td>\n",
       "      <td>0.084991</td>\n",
       "    </tr>\n",
       "    <tr>\n",
       "      <th>100</th>\n",
       "      <td>24.347977</td>\n",
       "      <td>0.245939</td>\n",
       "    </tr>\n",
       "  </tbody>\n",
       "</table>\n",
       "</div>"
      ],
      "text/plain": [
       "            total_usd   avg_usd\n",
       "mcts_depth                     \n",
       "5            4.861763  0.045866\n",
       "10           6.413142  0.060501\n",
       "20           9.009063  0.084991\n",
       "100         24.347977  0.245939"
      ]
     },
     "execution_count": 17,
     "metadata": {},
     "output_type": "execute_result"
    }
   ],
   "source": [
    "df_r1[[\"total_usd\", \"avg_usd\"]]"
   ]
  },
  {
   "cell_type": "code",
   "execution_count": 90,
   "metadata": {},
   "outputs": [
    {
     "ename": "KeyError",
     "evalue": "\"['total_time'] not in index\"",
     "output_type": "error",
     "traceback": [
      "\u001b[0;31m---------------------------------------------------------------------------\u001b[0m",
      "\u001b[0;31mKeyError\u001b[0m                                  Traceback (most recent call last)",
      "Cell \u001b[0;32mIn[90], line 1\u001b[0m\n\u001b[0;32m----> 1\u001b[0m \u001b[43mdf_r1\u001b[49m\u001b[43m[\u001b[49m\u001b[43m[\u001b[49m\u001b[38;5;124;43m\"\u001b[39;49m\u001b[38;5;124;43mtotal_time\u001b[39;49m\u001b[38;5;124;43m\"\u001b[39;49m\u001b[43m,\u001b[49m\u001b[43m \u001b[49m\u001b[38;5;124;43m\"\u001b[39;49m\u001b[38;5;124;43mavg_time\u001b[39;49m\u001b[38;5;124;43m\"\u001b[39;49m\u001b[43m]\u001b[49m\u001b[43m]\u001b[49m\n",
      "File \u001b[0;32m~/miniconda3/envs/h100/lib/python3.11/site-packages/pandas/core/frame.py:4108\u001b[0m, in \u001b[0;36mDataFrame.__getitem__\u001b[0;34m(self, key)\u001b[0m\n\u001b[1;32m   4106\u001b[0m     \u001b[38;5;28;01mif\u001b[39;00m is_iterator(key):\n\u001b[1;32m   4107\u001b[0m         key \u001b[38;5;241m=\u001b[39m \u001b[38;5;28mlist\u001b[39m(key)\n\u001b[0;32m-> 4108\u001b[0m     indexer \u001b[38;5;241m=\u001b[39m \u001b[38;5;28;43mself\u001b[39;49m\u001b[38;5;241;43m.\u001b[39;49m\u001b[43mcolumns\u001b[49m\u001b[38;5;241;43m.\u001b[39;49m\u001b[43m_get_indexer_strict\u001b[49m\u001b[43m(\u001b[49m\u001b[43mkey\u001b[49m\u001b[43m,\u001b[49m\u001b[43m \u001b[49m\u001b[38;5;124;43m\"\u001b[39;49m\u001b[38;5;124;43mcolumns\u001b[39;49m\u001b[38;5;124;43m\"\u001b[39;49m\u001b[43m)\u001b[49m[\u001b[38;5;241m1\u001b[39m]\n\u001b[1;32m   4110\u001b[0m \u001b[38;5;66;03m# take() does not accept boolean indexers\u001b[39;00m\n\u001b[1;32m   4111\u001b[0m \u001b[38;5;28;01mif\u001b[39;00m \u001b[38;5;28mgetattr\u001b[39m(indexer, \u001b[38;5;124m\"\u001b[39m\u001b[38;5;124mdtype\u001b[39m\u001b[38;5;124m\"\u001b[39m, \u001b[38;5;28;01mNone\u001b[39;00m) \u001b[38;5;241m==\u001b[39m \u001b[38;5;28mbool\u001b[39m:\n",
      "File \u001b[0;32m~/miniconda3/envs/h100/lib/python3.11/site-packages/pandas/core/indexes/base.py:6200\u001b[0m, in \u001b[0;36mIndex._get_indexer_strict\u001b[0;34m(self, key, axis_name)\u001b[0m\n\u001b[1;32m   6197\u001b[0m \u001b[38;5;28;01melse\u001b[39;00m:\n\u001b[1;32m   6198\u001b[0m     keyarr, indexer, new_indexer \u001b[38;5;241m=\u001b[39m \u001b[38;5;28mself\u001b[39m\u001b[38;5;241m.\u001b[39m_reindex_non_unique(keyarr)\n\u001b[0;32m-> 6200\u001b[0m \u001b[38;5;28;43mself\u001b[39;49m\u001b[38;5;241;43m.\u001b[39;49m\u001b[43m_raise_if_missing\u001b[49m\u001b[43m(\u001b[49m\u001b[43mkeyarr\u001b[49m\u001b[43m,\u001b[49m\u001b[43m \u001b[49m\u001b[43mindexer\u001b[49m\u001b[43m,\u001b[49m\u001b[43m \u001b[49m\u001b[43maxis_name\u001b[49m\u001b[43m)\u001b[49m\n\u001b[1;32m   6202\u001b[0m keyarr \u001b[38;5;241m=\u001b[39m \u001b[38;5;28mself\u001b[39m\u001b[38;5;241m.\u001b[39mtake(indexer)\n\u001b[1;32m   6203\u001b[0m \u001b[38;5;28;01mif\u001b[39;00m \u001b[38;5;28misinstance\u001b[39m(key, Index):\n\u001b[1;32m   6204\u001b[0m     \u001b[38;5;66;03m# GH 42790 - Preserve name from an Index\u001b[39;00m\n",
      "File \u001b[0;32m~/miniconda3/envs/h100/lib/python3.11/site-packages/pandas/core/indexes/base.py:6252\u001b[0m, in \u001b[0;36mIndex._raise_if_missing\u001b[0;34m(self, key, indexer, axis_name)\u001b[0m\n\u001b[1;32m   6249\u001b[0m     \u001b[38;5;28;01mraise\u001b[39;00m \u001b[38;5;167;01mKeyError\u001b[39;00m(\u001b[38;5;124mf\u001b[39m\u001b[38;5;124m\"\u001b[39m\u001b[38;5;124mNone of [\u001b[39m\u001b[38;5;132;01m{\u001b[39;00mkey\u001b[38;5;132;01m}\u001b[39;00m\u001b[38;5;124m] are in the [\u001b[39m\u001b[38;5;132;01m{\u001b[39;00maxis_name\u001b[38;5;132;01m}\u001b[39;00m\u001b[38;5;124m]\u001b[39m\u001b[38;5;124m\"\u001b[39m)\n\u001b[1;32m   6251\u001b[0m not_found \u001b[38;5;241m=\u001b[39m \u001b[38;5;28mlist\u001b[39m(ensure_index(key)[missing_mask\u001b[38;5;241m.\u001b[39mnonzero()[\u001b[38;5;241m0\u001b[39m]]\u001b[38;5;241m.\u001b[39munique())\n\u001b[0;32m-> 6252\u001b[0m \u001b[38;5;28;01mraise\u001b[39;00m \u001b[38;5;167;01mKeyError\u001b[39;00m(\u001b[38;5;124mf\u001b[39m\u001b[38;5;124m\"\u001b[39m\u001b[38;5;132;01m{\u001b[39;00mnot_found\u001b[38;5;132;01m}\u001b[39;00m\u001b[38;5;124m not in index\u001b[39m\u001b[38;5;124m\"\u001b[39m)\n",
      "\u001b[0;31mKeyError\u001b[0m: \"['total_time'] not in index\""
     ]
    }
   ],
   "source": [
    "df_r1[[\"total_time\", \"avg_time\"]]"
   ]
  },
  {
   "cell_type": "code",
   "execution_count": 89,
   "metadata": {},
   "outputs": [
    {
     "data": {
      "text/plain": [
       "0.0"
      ]
     },
     "execution_count": 89,
     "metadata": {},
     "output_type": "execute_result"
    }
   ],
   "source": [
    "df_r1.loc[5].token_df.sum()[\"prompt_cached_tokens\"] / df_r1.loc[20].token_df.sum()[\"total_tokens\"]"
   ]
  },
  {
   "cell_type": "code",
   "execution_count": null,
   "metadata": {},
   "outputs": [
    {
     "data": {
      "text/plain": [
       "np.float64(0.3818400765842733)"
      ]
     },
     "execution_count": 20,
     "metadata": {},
     "output_type": "execute_result"
    }
   ],
   "source": [
    "df_r1.loc[10].token_df.sum()[\"prompt_cached_tokens\"] / df_r1.loc[20].token_df.sum()[\"total_tokens\"]"
   ]
  },
  {
   "cell_type": "code",
   "execution_count": null,
   "metadata": {},
   "outputs": [
    {
     "data": {
      "text/plain": [
       "np.float64(0.5618936986507974)"
      ]
     },
     "execution_count": 21,
     "metadata": {},
     "output_type": "execute_result"
    }
   ],
   "source": [
    "df_r1.loc[20].token_df.sum()[\"prompt_cached_tokens\"] / df_r1.loc[20].token_df.sum()[\"total_tokens\"]"
   ]
  },
  {
   "cell_type": "code",
   "execution_count": null,
   "metadata": {},
   "outputs": [
    {
     "data": {
      "text/plain": [
       "np.float64(0.6384836215629782)"
      ]
     },
     "execution_count": 22,
     "metadata": {},
     "output_type": "execute_result"
    }
   ],
   "source": [
    "df_r1.loc[100].token_df.sum()[\"prompt_cached_tokens\"] / df_r1.loc[100].token_df.sum()[\"total_tokens\"]"
   ]
  },
  {
   "cell_type": "code",
   "execution_count": null,
   "metadata": {},
   "outputs": [
    {
     "data": {
      "text/plain": [
       "completion_iteration\n",
       "4.0     1\n",
       "8.0     1\n",
       "3.0     1\n",
       "2.0     3\n",
       "0.0    29\n",
       "Name: count, dtype: int64"
      ]
     },
     "execution_count": 23,
     "metadata": {},
     "output_type": "execute_result"
    }
   ],
   "source": [
    "df_r1.loc[20].mcts_df[\"completion_iteration\"].value_counts().sort_values()"
   ]
  },
  {
   "cell_type": "code",
   "execution_count": null,
   "metadata": {},
   "outputs": [
    {
     "data": {
      "text/plain": [
       "task_name\n",
       "webarena.581     True\n",
       "webarena.29     False\n",
       "webarena.409    False\n",
       "webarena.403     True\n",
       "webarena.584    False\n",
       "                ...  \n",
       "webarena.646    False\n",
       "webarena.648    False\n",
       "webarena.621     True\n",
       "webarena.624    False\n",
       "webarena.725    False\n",
       "Name: completion_iteration, Length: 106, dtype: bool"
      ]
     },
     "execution_count": 24,
     "metadata": {},
     "output_type": "execute_result"
    }
   ],
   "source": [
    "df_r1.loc[20].mcts_df[\"completion_iteration\"] == 0"
   ]
  },
  {
   "cell_type": "code",
   "execution_count": 34,
   "metadata": {},
   "outputs": [],
   "source": [
    "\n",
    "# plt.plot(x, y1, label=\"Series 1\", linestyle='-', marker='o')\n",
    "# plt.plot(x, y2, label=\"Series 2\", linestyle='--', marker='s')"
   ]
  },
  {
   "cell_type": "code",
   "execution_count": 97,
   "metadata": {},
   "outputs": [],
   "source": [
    "mini_20 = pd.Series(\n",
    "    {\n",
    "        0: 0, 2.0: 3, 3.0: 7, 4.0: 10, 5.0: 13, 6.0: 15, \n",
    "        7.0: 20, 8.0: 24, 9.0: 25, 10.0: 26, 11.0: 27, \n",
    "        12.0: 28, 16.0: 29, 17.0: 30, 20.0: 31, 21.0: 32, \n",
    "        22.0: 33, 82.0: 34, 103.0: 35, 188: 35\n",
    "    },\n",
    "    name=\"count\",\n",
    "    dtype=\"int64\"\n",
    ")\n",
    "# type(mini_20)\n",
    "mini_100 = pd.Series(\n",
    "    {\n",
    "        0: 0, 3.0: 2, 4.0: 6, 5.0: 8, 6.0: 13, 7.0: 14, \n",
    "        8.0: 19, 10.0: 22, 34.0: 23, 188: 23\n",
    "    },\n",
    "    name=\"count\",\n",
    "    dtype=\"int64\"\n",
    ")"
   ]
  },
  {
   "cell_type": "code",
   "execution_count": 98,
   "metadata": {},
   "outputs": [
    {
     "data": {
      "text/plain": [
       "env_steps_taken\n",
       "0.0      0\n",
       "2.0      2\n",
       "5.0      5\n",
       "6.0      8\n",
       "8.0      9\n",
       "188.0    9\n",
       "Name: count, dtype: int64"
      ]
     },
     "execution_count": 98,
     "metadata": {},
     "output_type": "execute_result"
    }
   ],
   "source": [
    "nd_20 = df_nd.loc[20].mcts_df[\n",
    "(df_nd.loc[20].mcts_df[\"completion_iteration\"] >= 0)\n",
    "].env_steps_taken.value_counts().sort_index().cumsum() + 4\n",
    "nd_20[0] = 0\n",
    "nd_20 = nd_20.sort_index()\n",
    "\n",
    "nd_100 = df_nd.loc[100].mcts_df[\n",
    "(df_nd.loc[100].mcts_df[\"completion_iteration\"] >= 0)\n",
    "].env_steps_taken.value_counts().sort_index().cumsum()\n",
    "nd_100[0] = 0; nd_100[188] = 9\n",
    "nd_100 = nd_100.sort_index()\n",
    "nd_100"
   ]
  },
  {
   "cell_type": "code",
   "execution_count": 99,
   "metadata": {},
   "outputs": [
    {
     "data": {
      "text/plain": [
       "pandas.core.series.Series"
      ]
     },
     "execution_count": 99,
     "metadata": {},
     "output_type": "execute_result"
    }
   ],
   "source": [
    "type(nd_20)"
   ]
  },
  {
   "cell_type": "code",
   "execution_count": 107,
   "metadata": {},
   "outputs": [
    {
     "data": {
      "text/plain": [
       "env_steps_taken\n",
       "0.0       0\n",
       "2.0       3\n",
       "4.0       7\n",
       "5.0      15\n",
       "6.0      19\n",
       "7.0      21\n",
       "8.0      22\n",
       "9.0      25\n",
       "11.0     26\n",
       "12.0     27\n",
       "17.0     28\n",
       "100.0    28\n",
       "188.0    28\n",
       "Name: count, dtype: int64"
      ]
     },
     "execution_count": 107,
     "metadata": {},
     "output_type": "execute_result"
    }
   ],
   "source": [
    "r1_20 = df_r1.loc[20].mcts_df[\n",
    "(df_r1.loc[20].mcts_df[\"completion_iteration\"] >= 0)\n",
    "].env_steps_taken.value_counts().sort_index().cumsum() + 8\n",
    "r1_20[0] = 0; r1_20[188] = 35\n",
    "r1_20 = r1_20.sort_index()\n",
    "\n",
    "r1_100 = df_r1.loc[100].mcts_df[\n",
    "(df_r1.loc[100].mcts_df[\"completion_iteration\"] >= 0)\n",
    "].env_steps_taken.value_counts().sort_index().cumsum()\n",
    "r1_100[0] = 0; r1_100[100] = 28; r1_100[188] = 28\n",
    "r1_100 = r1_100.sort_index()\n",
    "r1_100"
   ]
  },
  {
   "cell_type": "code",
   "execution_count": 111,
   "metadata": {},
   "outputs": [
    {
     "data": {
      "text/plain": [
       "Text(0.5, 1.0, 'Tasks Completed V.S. Env Steps Taken')"
      ]
     },
     "execution_count": 111,
     "metadata": {},
     "output_type": "execute_result"
    },
    {
     "data": {
      "image/png": "[encoded data removed]",
      "text/plain": [
       "<Figure size 640x480 with 1 Axes>"
      ]
     },
     "metadata": {},
     "output_type": "display_data"
    }
   ],
   "source": [
    "mini_20.plot(label=\"4o-mini MCTS(iterations=20, depth=10)\")\n",
    "mini_100.plot(label=\"4o-mini MCTS(iterations=1, depth=100)\")\n",
    "\n",
    "r1_20.plot(label=\"R1-Distill-32B MCTS(iterations=10, depth=20)\")\n",
    "r1_100.plot(label=\"R1-Distill-32B MCTS(iterations=1, depth=100)\")\n",
    "# nd_20.plot(label=\"Qwen2.5-32B MCTS(iterations=10, depth=20)\")\n",
    "# nd_100.plot(label=\"Qwen2.5-32B MCTS(iterations=1, depth=100)\")\n",
    "plt.xlabel(\"Env Steps\")\n",
    "plt.ylabel(\"Tasks Completed\")\n",
    "plt.legend()\n",
    "# plt.ylim(0, 50)\n",
    "plt.xlim(0, 100)\n",
    "plt.title(\"Tasks Completed V.S. Env Steps Taken\")"
   ]
  },
  {
   "cell_type": "code",
   "execution_count": null,
   "metadata": {},
   "outputs": [
    {
     "data": {
      "text/html": [
       "<div>\n",
       "<style scoped>\n",
       "    .dataframe tbody tr th:only-of-type {\n",
       "        vertical-align: middle;\n",
       "    }\n",
       "\n",
       "    .dataframe tbody tr th {\n",
       "        vertical-align: top;\n",
       "    }\n",
       "\n",
       "    .dataframe thead th {\n",
       "        text-align: right;\n",
       "    }\n",
       "</style>\n",
       "<table border=\"1\" class=\"dataframe\">\n",
       "  <thead>\n",
       "    <tr style=\"text-align: right;\">\n",
       "      <th></th>\n",
       "      <th>completion_iteration</th>\n",
       "      <th>completion_depth</th>\n",
       "      <th>max_depth</th>\n",
       "    </tr>\n",
       "    <tr>\n",
       "      <th>task_name</th>\n",
       "      <th></th>\n",
       "      <th></th>\n",
       "      <th></th>\n",
       "    </tr>\n",
       "  </thead>\n",
       "  <tbody>\n",
       "    <tr>\n",
       "      <th>webarena.581</th>\n",
       "      <td>0.0</td>\n",
       "      <td>8.0</td>\n",
       "      <td>8.0</td>\n",
       "    </tr>\n",
       "    <tr>\n",
       "      <th>webarena.403</th>\n",
       "      <td>0.0</td>\n",
       "      <td>8.0</td>\n",
       "      <td>8.0</td>\n",
       "    </tr>\n",
       "    <tr>\n",
       "      <th>webarena.605</th>\n",
       "      <td>0.0</td>\n",
       "      <td>2.0</td>\n",
       "      <td>2.0</td>\n",
       "    </tr>\n",
       "    <tr>\n",
       "      <th>webarena.582</th>\n",
       "      <td>0.0</td>\n",
       "      <td>4.0</td>\n",
       "      <td>4.0</td>\n",
       "    </tr>\n",
       "    <tr>\n",
       "      <th>webarena.596</th>\n",
       "      <td>0.0</td>\n",
       "      <td>4.0</td>\n",
       "      <td>4.0</td>\n",
       "    </tr>\n",
       "    <tr>\n",
       "      <th>webarena.609</th>\n",
       "      <td>0.0</td>\n",
       "      <td>16.0</td>\n",
       "      <td>16.0</td>\n",
       "    </tr>\n",
       "    <tr>\n",
       "      <th>webarena.399</th>\n",
       "      <td>0.0</td>\n",
       "      <td>6.0</td>\n",
       "      <td>6.0</td>\n",
       "    </tr>\n",
       "    <tr>\n",
       "      <th>webarena.607</th>\n",
       "      <td>0.0</td>\n",
       "      <td>3.0</td>\n",
       "      <td>3.0</td>\n",
       "    </tr>\n",
       "    <tr>\n",
       "      <th>webarena.610</th>\n",
       "      <td>0.0</td>\n",
       "      <td>9.0</td>\n",
       "      <td>9.0</td>\n",
       "    </tr>\n",
       "    <tr>\n",
       "      <th>webarena.400</th>\n",
       "      <td>0.0</td>\n",
       "      <td>6.0</td>\n",
       "      <td>6.0</td>\n",
       "    </tr>\n",
       "    <tr>\n",
       "      <th>webarena.595</th>\n",
       "      <td>0.0</td>\n",
       "      <td>5.0</td>\n",
       "      <td>5.0</td>\n",
       "    </tr>\n",
       "    <tr>\n",
       "      <th>webarena.597</th>\n",
       "      <td>0.0</td>\n",
       "      <td>7.0</td>\n",
       "      <td>7.0</td>\n",
       "    </tr>\n",
       "    <tr>\n",
       "      <th>webarena.580</th>\n",
       "      <td>0.0</td>\n",
       "      <td>8.0</td>\n",
       "      <td>8.0</td>\n",
       "    </tr>\n",
       "    <tr>\n",
       "      <th>webarena.613</th>\n",
       "      <td>0.0</td>\n",
       "      <td>12.0</td>\n",
       "      <td>12.0</td>\n",
       "    </tr>\n",
       "    <tr>\n",
       "      <th>webarena.620</th>\n",
       "      <td>0.0</td>\n",
       "      <td>7.0</td>\n",
       "      <td>7.0</td>\n",
       "    </tr>\n",
       "    <tr>\n",
       "      <th>webarena.69</th>\n",
       "      <td>0.0</td>\n",
       "      <td>4.0</td>\n",
       "      <td>4.0</td>\n",
       "    </tr>\n",
       "    <tr>\n",
       "      <th>webarena.602</th>\n",
       "      <td>0.0</td>\n",
       "      <td>5.0</td>\n",
       "      <td>5.0</td>\n",
       "    </tr>\n",
       "    <tr>\n",
       "      <th>webarena.729</th>\n",
       "      <td>0.0</td>\n",
       "      <td>3.0</td>\n",
       "      <td>3.0</td>\n",
       "    </tr>\n",
       "    <tr>\n",
       "      <th>webarena.728</th>\n",
       "      <td>0.0</td>\n",
       "      <td>3.0</td>\n",
       "      <td>3.0</td>\n",
       "    </tr>\n",
       "    <tr>\n",
       "      <th>webarena.623</th>\n",
       "      <td>0.0</td>\n",
       "      <td>7.0</td>\n",
       "      <td>7.0</td>\n",
       "    </tr>\n",
       "    <tr>\n",
       "      <th>webarena.631</th>\n",
       "      <td>0.0</td>\n",
       "      <td>10.0</td>\n",
       "      <td>10.0</td>\n",
       "    </tr>\n",
       "    <tr>\n",
       "      <th>webarena.651</th>\n",
       "      <td>0.0</td>\n",
       "      <td>2.0</td>\n",
       "      <td>2.0</td>\n",
       "    </tr>\n",
       "    <tr>\n",
       "      <th>webarena.734</th>\n",
       "      <td>0.0</td>\n",
       "      <td>8.0</td>\n",
       "      <td>8.0</td>\n",
       "    </tr>\n",
       "    <tr>\n",
       "      <th>webarena.622</th>\n",
       "      <td>0.0</td>\n",
       "      <td>7.0</td>\n",
       "      <td>7.0</td>\n",
       "    </tr>\n",
       "    <tr>\n",
       "      <th>webarena.716</th>\n",
       "      <td>0.0</td>\n",
       "      <td>21.0</td>\n",
       "      <td>21.0</td>\n",
       "    </tr>\n",
       "    <tr>\n",
       "      <th>webarena.726</th>\n",
       "      <td>0.0</td>\n",
       "      <td>5.0</td>\n",
       "      <td>5.0</td>\n",
       "    </tr>\n",
       "    <tr>\n",
       "      <th>webarena.652</th>\n",
       "      <td>0.0</td>\n",
       "      <td>3.0</td>\n",
       "      <td>3.0</td>\n",
       "    </tr>\n",
       "    <tr>\n",
       "      <th>webarena.650</th>\n",
       "      <td>0.0</td>\n",
       "      <td>2.0</td>\n",
       "      <td>2.0</td>\n",
       "    </tr>\n",
       "    <tr>\n",
       "      <th>webarena.621</th>\n",
       "      <td>0.0</td>\n",
       "      <td>7.0</td>\n",
       "      <td>7.0</td>\n",
       "    </tr>\n",
       "  </tbody>\n",
       "</table>\n",
       "</div>"
      ],
      "text/plain": [
       "              completion_iteration  completion_depth  max_depth\n",
       "task_name                                                      \n",
       "webarena.581                   0.0               8.0        8.0\n",
       "webarena.403                   0.0               8.0        8.0\n",
       "webarena.605                   0.0               2.0        2.0\n",
       "webarena.582                   0.0               4.0        4.0\n",
       "webarena.596                   0.0               4.0        4.0\n",
       "webarena.609                   0.0              16.0       16.0\n",
       "webarena.399                   0.0               6.0        6.0\n",
       "webarena.607                   0.0               3.0        3.0\n",
       "webarena.610                   0.0               9.0        9.0\n",
       "webarena.400                   0.0               6.0        6.0\n",
       "webarena.595                   0.0               5.0        5.0\n",
       "webarena.597                   0.0               7.0        7.0\n",
       "webarena.580                   0.0               8.0        8.0\n",
       "webarena.613                   0.0              12.0       12.0\n",
       "webarena.620                   0.0               7.0        7.0\n",
       "webarena.69                    0.0               4.0        4.0\n",
       "webarena.602                   0.0               5.0        5.0\n",
       "webarena.729                   0.0               3.0        3.0\n",
       "webarena.728                   0.0               3.0        3.0\n",
       "webarena.623                   0.0               7.0        7.0\n",
       "webarena.631                   0.0              10.0       10.0\n",
       "webarena.651                   0.0               2.0        2.0\n",
       "webarena.734                   0.0               8.0        8.0\n",
       "webarena.622                   0.0               7.0        7.0\n",
       "webarena.716                   0.0              21.0       21.0\n",
       "webarena.726                   0.0               5.0        5.0\n",
       "webarena.652                   0.0               3.0        3.0\n",
       "webarena.650                   0.0               2.0        2.0\n",
       "webarena.621                   0.0               7.0        7.0"
      ]
     },
     "execution_count": 120,
     "metadata": {},
     "output_type": "execute_result"
    }
   ],
   "source": [
    "df_r1.loc[20].mcts_df[\n",
    "(df_r1.loc[20].mcts_df[\"completion_iteration\"] == 0)\n",
    "]"
   ]
  },
  {
   "cell_type": "code",
   "execution_count": null,
   "metadata": {},
   "outputs": [
    {
     "data": {
      "text/plain": [
       "Text(0.5, 1.0, 'Tasks Completed V.S. Depth')"
      ]
     },
     "execution_count": 82,
     "metadata": {},
     "output_type": "execute_result"
    },
    {
     "data": {
      "image/png": "[encoded data removed]",
      "text/plain": [
       "<Figure size 640x480 with 1 Axes>"
      ]
     },
     "metadata": {},
     "output_type": "display_data"
    }
   ],
   "source": [
    "df_r1.loc[20].mcts_df.completion_depth.value_counts().sort_index().cumsum().plot()\n",
    "plt.xlabel(\"Depth\")\n",
    "plt.ylabel(\"Tasks Completed\")\n",
    "# plt.ylim(0, 1)\n",
    "plt.title(\"Tasks Completed V.S. Depth\")"
   ]
  },
  {
   "cell_type": "code",
   "execution_count": null,
   "metadata": {},
   "outputs": [],
   "source": [
    "import numpy as np\n",
    "\n",
    "tag = \"d5\"\n",
    "\n",
    "task_iteration_stats_rows = []\n",
    "results_dir = \"./results\"\n",
    "exp_names = os.listdir(results_dir)\n",
    "for exp_name in exp_names:\n",
    "  if tag in exp_name:\n",
    "\n",
    "    exp_path = os.path.join(results_dir, exp_name)\n",
    "    task_names = os.listdir(exp_path)\n",
    "\n",
    "    for task_name in task_names:\n",
    "      if \"webarena\" in task_name:\n",
    "        task_path = os.path.join(results_dir, exp_name, task_name)\n",
    "        if os.path.exists(os.path.join(task_path, \"result.pkl\")):\n",
    "          mcts_result = pickle.load(open(os.path.join(task_path, \"result.pkl\"), \"rb\"))\n",
    "          if mcts_result.cum_reward >= 100: # task successfully completed\n",
    "            completion_iteration = find_completion_iteration(mcts_result)\n",
    "            task_iteration_stats_rows.append([task_name, completion_iteration])\n",
    "          else:\n",
    "            task_iteration_stats_rows.append([task_name, np.nan])\n",
    "        else:\n",
    "          task_iteration_stats_rows.append([task_name, np.nan])"
   ]
  },
  {
   "cell_type": "code",
   "execution_count": null,
   "metadata": {},
   "outputs": [
    {
     "name": "stderr",
     "output_type": "stream",
     "text": [
      "/tmp/ipykernel_2704942/507405824.py:6: UserWarning: No artists with labels found to put in legend.  Note that artists whose label start with an underscore are ignored when legend() is called with no argument.\n",
      "  plt.legend()\n"
     ]
    },
    {
     "data": {
      "image/png": "[encoded data removed]",
      "text/plain": [
       "<Figure size 640x480 with 1 Axes>"
      ]
     },
     "metadata": {},
     "output_type": "display_data"
    }
   ],
   "source": [
    "plt.plot(df_r1.index, df_r1[\"success_rate\"], marker=\"o\")\n",
    "plt.xlabel(\"MCTS Depth\")\n",
    "plt.ylabel(\"Success Rate\")\n",
    "plt.ylim(0, 1)\n",
    "plt.title(\"MCTS Depth V.S. Success Rate\")\n",
    "plt.legend()\n",
    "plt.show()"
   ]
  }
 ],
 "metadata": {
  "kernelspec": {
   "display_name": "h100",
   "language": "python",
   "name": "python3"
  },
  "language_info": {
   "codemirror_mode": {
    "name": "ipython",
    "version": 3
   },
   "file_extension": ".py",
   "mimetype": "text/x-python",
   "name": "python",
   "nbconvert_exporter": "python",
   "pygments_lexer": "ipython3",
   "version": "3.11.7"
  }
 },
 "nbformat": 4,
 "nbformat_minor": 2
}
