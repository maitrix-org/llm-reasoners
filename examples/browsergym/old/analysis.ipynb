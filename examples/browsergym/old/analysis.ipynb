{
 "cells": [
  {
   "cell_type": "code",
   "execution_count": 5,
   "metadata": {},
   "outputs": [],
   "source": [
    "import pandas as pd\n",
    "import matplotlib.pyplot as plt\n",
    "import os\n",
    "import pickle"
   ]
  },
  {
   "cell_type": "code",
   "execution_count": 6,
   "metadata": {},
   "outputs": [],
   "source": [
    "# 1) internal planning  + explicit search\n",
    "# 2) external planning - implicit search\n",
    "# 3) external planning - explciit search"
   ]
  },
  {
   "cell_type": "code",
   "execution_count": 7,
   "metadata": {},
   "outputs": [
    {
     "ename": "NameError",
     "evalue": "name 'df' is not defined",
     "output_type": "error",
     "traceback": [
      "\u001b[0;31m---------------------------------------------------------------------------\u001b[0m",
      "\u001b[0;31mNameError\u001b[0m                                 Traceback (most recent call last)",
      "Cell \u001b[0;32mIn[7], line 1\u001b[0m\n\u001b[0;32m----> 1\u001b[0m \u001b[43mdf\u001b[49m\u001b[38;5;241m.\u001b[39mloc[\u001b[38;5;241m20\u001b[39m]\u001b[38;5;241m.\u001b[39mtoken_df\u001b[38;5;241m.\u001b[39mshape[\u001b[38;5;241m0\u001b[39m]\n",
      "\u001b[0;31mNameError\u001b[0m: name 'df' is not defined"
     ]
    }
   ],
   "source": [
    "df.loc[20].token_df.shape[0]"
   ]
  },
  {
   "cell_type": "code",
   "execution_count": 8,
   "metadata": {},
   "outputs": [
    {
     "ename": "NameError",
     "evalue": "name 'df' is not defined",
     "output_type": "error",
     "traceback": [
      "\u001b[0;31m---------------------------------------------------------------------------\u001b[0m",
      "\u001b[0;31mNameError\u001b[0m                                 Traceback (most recent call last)",
      "Cell \u001b[0;32mIn[8], line 1\u001b[0m\n\u001b[0;32m----> 1\u001b[0m \u001b[43mdf\u001b[49m[\u001b[38;5;124m\"\u001b[39m\u001b[38;5;124msuccess_rate\u001b[39m\u001b[38;5;124m\"\u001b[39m]\n",
      "\u001b[0;31mNameError\u001b[0m: name 'df' is not defined"
     ]
    }
   ],
   "source": [
    "df[\"success_rate\"]"
   ]
  },
  {
   "cell_type": "code",
   "execution_count": 9,
   "metadata": {},
   "outputs": [
    {
     "ename": "NameError",
     "evalue": "name 'df' is not defined",
     "output_type": "error",
     "traceback": [
      "\u001b[0;31m---------------------------------------------------------------------------\u001b[0m",
      "\u001b[0;31mNameError\u001b[0m                                 Traceback (most recent call last)",
      "Cell \u001b[0;32mIn[9], line 1\u001b[0m\n\u001b[0;32m----> 1\u001b[0m (\u001b[43mdf\u001b[49m\u001b[38;5;241m.\u001b[39mloc[\u001b[38;5;241m20\u001b[39m]\u001b[38;5;241m.\u001b[39mtoken_df[\u001b[38;5;124m\"\u001b[39m\u001b[38;5;124musd_cost\u001b[39m\u001b[38;5;124m\"\u001b[39m]\u001b[38;5;241m.\u001b[39msum() \u001b[38;5;241m+\u001b[39m \n\u001b[1;32m      2\u001b[0m df\u001b[38;5;241m.\u001b[39mloc[\u001b[38;5;241m10\u001b[39m]\u001b[38;5;241m.\u001b[39mtoken_df[\u001b[38;5;124m\"\u001b[39m\u001b[38;5;124musd_cost\u001b[39m\u001b[38;5;124m\"\u001b[39m]\u001b[38;5;241m.\u001b[39msum() \u001b[38;5;241m+\u001b[39m \n\u001b[1;32m      3\u001b[0m df\u001b[38;5;241m.\u001b[39mloc[\u001b[38;5;241m5\u001b[39m]\u001b[38;5;241m.\u001b[39mtoken_df[\u001b[38;5;124m\"\u001b[39m\u001b[38;5;124musd_cost\u001b[39m\u001b[38;5;124m\"\u001b[39m]\u001b[38;5;241m.\u001b[39msum())\n",
      "\u001b[0;31mNameError\u001b[0m: name 'df' is not defined"
     ]
    }
   ],
   "source": [
    "(df.loc[20].token_df[\"usd_cost\"].sum() + \n",
    "df.loc[10].token_df[\"usd_cost\"].sum() + \n",
    "df.loc[5].token_df[\"usd_cost\"].sum())"
   ]
  },
  {
   "cell_type": "code",
   "execution_count": 10,
   "metadata": {},
   "outputs": [
    {
     "ename": "NameError",
     "evalue": "name 'df' is not defined",
     "output_type": "error",
     "traceback": [
      "\u001b[0;31m---------------------------------------------------------------------------\u001b[0m",
      "\u001b[0;31mNameError\u001b[0m                                 Traceback (most recent call last)",
      "Cell \u001b[0;32mIn[10], line 1\u001b[0m\n\u001b[0;32m----> 1\u001b[0m \u001b[43mdf\u001b[49m\u001b[38;5;241m.\u001b[39mloc[\u001b[38;5;241m20\u001b[39m]\u001b[38;5;241m.\u001b[39mtime_df\n",
      "\u001b[0;31mNameError\u001b[0m: name 'df' is not defined"
     ]
    }
   ],
   "source": [
    "df.loc[20].time_df"
   ]
  },
  {
   "cell_type": "code",
   "execution_count": 11,
   "metadata": {},
   "outputs": [
    {
     "ename": "NameError",
     "evalue": "name 'df' is not defined",
     "output_type": "error",
     "traceback": [
      "\u001b[0;31m---------------------------------------------------------------------------\u001b[0m",
      "\u001b[0;31mNameError\u001b[0m                                 Traceback (most recent call last)",
      "Cell \u001b[0;32mIn[11], line 1\u001b[0m\n\u001b[0;32m----> 1\u001b[0m \u001b[43mdf\u001b[49m\u001b[38;5;241m.\u001b[39mloc[\u001b[38;5;241m20\u001b[39m]\u001b[38;5;241m.\u001b[39mmcts_df\u001b[38;5;241m.\u001b[39mdescribe()\n",
      "\u001b[0;31mNameError\u001b[0m: name 'df' is not defined"
     ]
    }
   ],
   "source": [
    "df.loc[20].mcts_df.describe()"
   ]
  },
  {
   "cell_type": "code",
   "execution_count": 12,
   "metadata": {},
   "outputs": [
    {
     "ename": "NameError",
     "evalue": "name 'df' is not defined",
     "output_type": "error",
     "traceback": [
      "\u001b[0;31m---------------------------------------------------------------------------\u001b[0m",
      "\u001b[0;31mNameError\u001b[0m                                 Traceback (most recent call last)",
      "Cell \u001b[0;32mIn[12], line 1\u001b[0m\n\u001b[0;32m----> 1\u001b[0m \u001b[43mdf\u001b[49m\u001b[38;5;241m.\u001b[39mloc[\u001b[38;5;241m20\u001b[39m]\u001b[38;5;241m.\u001b[39mtoken_df\u001b[38;5;241m.\u001b[39mdescribe()\n",
      "\u001b[0;31mNameError\u001b[0m: name 'df' is not defined"
     ]
    }
   ],
   "source": [
    "df.loc[20].token_df.describe()"
   ]
  },
  {
   "cell_type": "code",
   "execution_count": 13,
   "metadata": {},
   "outputs": [
    {
     "ename": "NameError",
     "evalue": "name 'df' is not defined",
     "output_type": "error",
     "traceback": [
      "\u001b[0;31m---------------------------------------------------------------------------\u001b[0m",
      "\u001b[0;31mNameError\u001b[0m                                 Traceback (most recent call last)",
      "Cell \u001b[0;32mIn[13], line 1\u001b[0m\n\u001b[0;32m----> 1\u001b[0m \u001b[43mdf\u001b[49m\u001b[38;5;241m.\u001b[39mloc[\u001b[38;5;241m20\u001b[39m]\u001b[38;5;241m.\u001b[39mtoken_df\u001b[38;5;241m.\u001b[39mhist()\n",
      "\u001b[0;31mNameError\u001b[0m: name 'df' is not defined"
     ]
    }
   ],
   "source": [
    "df.loc[20].token_df.hist()"
   ]
  },
  {
   "cell_type": "code",
   "execution_count": 14,
   "metadata": {},
   "outputs": [
    {
     "name": "stdout",
     "output_type": "stream",
     "text": [
      "True\n",
      "True\n",
      "True\n",
      "False\n",
      "False\n",
      "False\n",
      "False\n",
      "False\n",
      "False\n",
      "False\n",
      "False\n",
      "False\n",
      "False\n",
      "False\n",
      "False\n",
      "False\n",
      "False\n",
      "False\n",
      "False\n",
      "False\n",
      "False\n",
      "False\n",
      "False\n",
      "False\n",
      "False\n",
      "False\n",
      "False\n",
      "False\n",
      "False\n",
      "True\n",
      "True\n",
      "True\n",
      "False\n",
      "False\n",
      "True\n",
      "True\n",
      "False\n",
      "False\n",
      "False\n",
      "ERROR\n",
      "False\n",
      "False\n",
      "False\n",
      "False\n",
      "False\n",
      "True\n",
      "True\n",
      "False\n",
      "False\n",
      "False\n",
      "False\n",
      "False\n",
      "False\n",
      "False\n",
      "False\n",
      "False\n",
      "False\n",
      "False\n",
      "False\n",
      "ERROR\n",
      "False\n",
      "False\n",
      "True\n",
      "False\n",
      "False\n",
      "False\n",
      "True\n",
      "False\n",
      "False\n",
      "False\n",
      "False\n",
      "False\n",
      "False\n",
      "False\n",
      "False\n",
      "True\n",
      "True\n",
      "False\n",
      "False\n",
      "False\n",
      "False\n",
      "True\n",
      "False\n",
      "False\n",
      "False\n",
      "False\n",
      "False\n",
      "False\n",
      "False\n",
      "False\n",
      "False\n",
      "False\n",
      "False\n",
      "False\n",
      "False\n",
      "False\n",
      "False\n",
      "False\n",
      "False\n",
      "False\n",
      "False\n",
      "False\n",
      "False\n",
      "False\n",
      "False\n",
      "False\n",
      "15 89 2\n"
     ]
    }
   ],
   "source": [
    "tag = \"d5\"\n",
    "\n",
    "successes = 0\n",
    "failures = 0\n",
    "errors = 0\n",
    "\n",
    "results_dir = \"./results\"\n",
    "exp_names = os.listdir(results_dir)\n",
    "for exp_name in exp_names:\n",
    "  if tag in exp_name:\n",
    "\n",
    "    # aggregate stats from status.txt\n",
    "    with open(os.path.join(results_dir, exp_name, \"status.txt\")) as f:\n",
    "      for line in f.readlines():\n",
    "        if line.startswith(\"webarena\"):\n",
    "          status = line.strip().split(\" \")[1]\n",
    "          print(status)\n",
    "          if status == \"True\":\n",
    "            successes += 1\n",
    "          elif status == \"False\":\n",
    "            failures += 1\n",
    "          else:\n",
    "            errors += 1\n",
    "        else: # otherwise it's error output or something. can ignore. \n",
    "          pass\n",
    "\n",
    "print(successes, failures, errors)\n"
   ]
  },
  {
   "cell_type": "code",
   "execution_count": 15,
   "metadata": {},
   "outputs": [],
   "source": [
    "tag = \"d5\"\n",
    "\n",
    "task_token_stats_rows = []\n",
    "results_dir = \"./results\"\n",
    "exp_names = os.listdir(results_dir)\n",
    "for exp_name in exp_names:\n",
    "  if tag in exp_name:\n",
    "\n",
    "    exp_path = os.path.join(results_dir, exp_name)\n",
    "    task_names = os.listdir(exp_path)\n",
    "\n",
    "    for task_name in task_names:\n",
    "      if \"webarena\" in task_name:\n",
    "\n",
    "        calls_made = 0\n",
    "        prompt_tokens = 0\n",
    "        cached_prompt_tokens = 0\n",
    "        completion_tokens = 0\n",
    "\n",
    "        task_path = os.path.join(results_dir, exp_name, task_name)\n",
    "        items = os.listdir(task_path)\n",
    "        pickles = [x for x in items if x.endswith(\".pkl\")]\n",
    "        for file in pickles:\n",
    "          if file != \"result.pkl\":\n",
    "            pickle_path = os.path.join(task_path, file)\n",
    "            response = pickle.load(open(pickle_path, \"rb\"))\n",
    "            calls_made += 1\n",
    "            prompt_tokens += response.usage.prompt_tokens\n",
    "            cached_prompt_tokens += response.usage.prompt_tokens_details.cached_tokens\n",
    "            completion_tokens += response.usage.completion_tokens\n",
    "\n",
    "        task_token_stats_rows.append(\n",
    "          [task_name, calls_made, prompt_tokens, cached_prompt_tokens, completion_tokens]\n",
    "        )"
   ]
  },
  {
   "cell_type": "code",
   "execution_count": 16,
   "metadata": {},
   "outputs": [],
   "source": [
    "task_token_df = pd.DataFrame(task_token_stats_rows,\n",
    "                             columns=[\"task_name\", \"llm_calls_made\", \"prompt_tokens\", \"prompt_cached_tokens\", \"completion_tokens\"])\n",
    "task_token_df[\"total_tokens\"] = task_token_df[\"prompt_tokens\"] + task_token_df[\"completion_tokens\"]\n",
    "task_token_df[\"prompt_non_cached_tokens\"] = task_token_df[\"prompt_tokens\"] - task_token_df[\"prompt_cached_tokens\"]\n",
    "\n",
    "gpt_4o_mini_input_ppmt = 0.150\n",
    "gpt_4o_mini_cachedinput_ppmt = 0.075\n",
    "gpt_4o_mini_output_ppmt = 0.600\n",
    "\n",
    "task_token_df[\"usd_cost\"] = (task_token_df[\"prompt_non_cached_tokens\"] * gpt_4o_mini_input_ppmt / 1e6 + \n",
    "                             task_token_df[\"prompt_cached_tokens\"] * gpt_4o_mini_cachedinput_ppmt / 1e6 + \n",
    "                             task_token_df[\"completion_tokens\"] * gpt_4o_mini_output_ppmt / 1e6)\n",
    "task_token_df = task_token_df[[\"task_name\", \"usd_cost\", \"prompt_tokens\", \"prompt_cached_tokens\", \"prompt_non_cached_tokens\", \"completion_tokens\", \"total_tokens\"]]\n",
    "task_token_df.set_index(\"task_name\", inplace=True)"
   ]
  },
  {
   "cell_type": "code",
   "execution_count": null,
   "metadata": {},
   "outputs": [],
   "source": []
  },
  {
   "cell_type": "code",
   "execution_count": 17,
   "metadata": {},
   "outputs": [
    {
     "data": {
      "text/html": [
       "<div>\n",
       "<style scoped>\n",
       "    .dataframe tbody tr th:only-of-type {\n",
       "        vertical-align: middle;\n",
       "    }\n",
       "\n",
       "    .dataframe tbody tr th {\n",
       "        vertical-align: top;\n",
       "    }\n",
       "\n",
       "    .dataframe thead th {\n",
       "        text-align: right;\n",
       "    }\n",
       "</style>\n",
       "<table border=\"1\" class=\"dataframe\">\n",
       "  <thead>\n",
       "    <tr style=\"text-align: right;\">\n",
       "      <th></th>\n",
       "      <th>usd_cost</th>\n",
       "      <th>prompt_tokens</th>\n",
       "      <th>prompt_cached_tokens</th>\n",
       "      <th>prompt_non_cached_tokens</th>\n",
       "      <th>completion_tokens</th>\n",
       "      <th>total_tokens</th>\n",
       "    </tr>\n",
       "    <tr>\n",
       "      <th>task_name</th>\n",
       "      <th></th>\n",
       "      <th></th>\n",
       "      <th></th>\n",
       "      <th></th>\n",
       "      <th></th>\n",
       "      <th></th>\n",
       "    </tr>\n",
       "  </thead>\n",
       "  <tbody>\n",
       "    <tr>\n",
       "      <th>webarena.729</th>\n",
       "      <td>0.076765</td>\n",
       "      <td>311490</td>\n",
       "      <td>156288</td>\n",
       "      <td>155202</td>\n",
       "      <td>69605</td>\n",
       "      <td>381095</td>\n",
       "    </tr>\n",
       "    <tr>\n",
       "      <th>webarena.728</th>\n",
       "      <td>0.019177</td>\n",
       "      <td>112349</td>\n",
       "      <td>65792</td>\n",
       "      <td>46557</td>\n",
       "      <td>12099</td>\n",
       "      <td>124448</td>\n",
       "    </tr>\n",
       "    <tr>\n",
       "      <th>webarena.623</th>\n",
       "      <td>0.016902</td>\n",
       "      <td>61611</td>\n",
       "      <td>19200</td>\n",
       "      <td>42411</td>\n",
       "      <td>15168</td>\n",
       "      <td>76779</td>\n",
       "    </tr>\n",
       "    <tr>\n",
       "      <th>webarena.638</th>\n",
       "      <td>0.041498</td>\n",
       "      <td>91548</td>\n",
       "      <td>66816</td>\n",
       "      <td>24732</td>\n",
       "      <td>54628</td>\n",
       "      <td>146176</td>\n",
       "    </tr>\n",
       "    <tr>\n",
       "      <th>webarena.714</th>\n",
       "      <td>0.144363</td>\n",
       "      <td>935611</td>\n",
       "      <td>324736</td>\n",
       "      <td>610875</td>\n",
       "      <td>47294</td>\n",
       "      <td>982905</td>\n",
       "    </tr>\n",
       "    <tr>\n",
       "      <th>...</th>\n",
       "      <td>...</td>\n",
       "      <td>...</td>\n",
       "      <td>...</td>\n",
       "      <td>...</td>\n",
       "      <td>...</td>\n",
       "      <td>...</td>\n",
       "    </tr>\n",
       "    <tr>\n",
       "      <th>webarena.620</th>\n",
       "      <td>0.036802</td>\n",
       "      <td>124030</td>\n",
       "      <td>47488</td>\n",
       "      <td>76542</td>\n",
       "      <td>36266</td>\n",
       "      <td>160296</td>\n",
       "    </tr>\n",
       "    <tr>\n",
       "      <th>webarena.69</th>\n",
       "      <td>0.017008</td>\n",
       "      <td>82730</td>\n",
       "      <td>10240</td>\n",
       "      <td>72490</td>\n",
       "      <td>8945</td>\n",
       "      <td>91675</td>\n",
       "    </tr>\n",
       "    <tr>\n",
       "      <th>webarena.28</th>\n",
       "      <td>0.048700</td>\n",
       "      <td>193754</td>\n",
       "      <td>157056</td>\n",
       "      <td>36698</td>\n",
       "      <td>52361</td>\n",
       "      <td>246115</td>\n",
       "    </tr>\n",
       "    <tr>\n",
       "      <th>webarena.602</th>\n",
       "      <td>0.040251</td>\n",
       "      <td>130235</td>\n",
       "      <td>67200</td>\n",
       "      <td>63035</td>\n",
       "      <td>42927</td>\n",
       "      <td>173162</td>\n",
       "    </tr>\n",
       "    <tr>\n",
       "      <th>webarena.615</th>\n",
       "      <td>0.069365</td>\n",
       "      <td>218248</td>\n",
       "      <td>88832</td>\n",
       "      <td>129416</td>\n",
       "      <td>72151</td>\n",
       "      <td>290399</td>\n",
       "    </tr>\n",
       "  </tbody>\n",
       "</table>\n",
       "<p>106 rows × 6 columns</p>\n",
       "</div>"
      ],
      "text/plain": [
       "              usd_cost  prompt_tokens  prompt_cached_tokens  \\\n",
       "task_name                                                     \n",
       "webarena.729  0.076765         311490                156288   \n",
       "webarena.728  0.019177         112349                 65792   \n",
       "webarena.623  0.016902          61611                 19200   \n",
       "webarena.638  0.041498          91548                 66816   \n",
       "webarena.714  0.144363         935611                324736   \n",
       "...                ...            ...                   ...   \n",
       "webarena.620  0.036802         124030                 47488   \n",
       "webarena.69   0.017008          82730                 10240   \n",
       "webarena.28   0.048700         193754                157056   \n",
       "webarena.602  0.040251         130235                 67200   \n",
       "webarena.615  0.069365         218248                 88832   \n",
       "\n",
       "              prompt_non_cached_tokens  completion_tokens  total_tokens  \n",
       "task_name                                                                \n",
       "webarena.729                    155202              69605        381095  \n",
       "webarena.728                     46557              12099        124448  \n",
       "webarena.623                     42411              15168         76779  \n",
       "webarena.638                     24732              54628        146176  \n",
       "webarena.714                    610875              47294        982905  \n",
       "...                                ...                ...           ...  \n",
       "webarena.620                     76542              36266        160296  \n",
       "webarena.69                      72490               8945         91675  \n",
       "webarena.28                      36698              52361        246115  \n",
       "webarena.602                     63035              42927        173162  \n",
       "webarena.615                    129416              72151        290399  \n",
       "\n",
       "[106 rows x 6 columns]"
      ]
     },
     "execution_count": 17,
     "metadata": {},
     "output_type": "execute_result"
    }
   ],
   "source": [
    "task_token_df"
   ]
  },
  {
   "cell_type": "code",
   "execution_count": 18,
   "metadata": {},
   "outputs": [
    {
     "data": {
      "text/html": [
       "<div>\n",
       "<style scoped>\n",
       "    .dataframe tbody tr th:only-of-type {\n",
       "        vertical-align: middle;\n",
       "    }\n",
       "\n",
       "    .dataframe tbody tr th {\n",
       "        vertical-align: top;\n",
       "    }\n",
       "\n",
       "    .dataframe thead th {\n",
       "        text-align: right;\n",
       "    }\n",
       "</style>\n",
       "<table border=\"1\" class=\"dataframe\">\n",
       "  <thead>\n",
       "    <tr style=\"text-align: right;\">\n",
       "      <th></th>\n",
       "      <th>usd_cost</th>\n",
       "      <th>prompt_tokens</th>\n",
       "      <th>prompt_cached_tokens</th>\n",
       "      <th>prompt_non_cached_tokens</th>\n",
       "      <th>completion_tokens</th>\n",
       "      <th>total_tokens</th>\n",
       "    </tr>\n",
       "  </thead>\n",
       "  <tbody>\n",
       "    <tr>\n",
       "      <th>count</th>\n",
       "      <td>106.000000</td>\n",
       "      <td>1.060000e+02</td>\n",
       "      <td>1.060000e+02</td>\n",
       "      <td>1.060000e+02</td>\n",
       "      <td>1.060000e+02</td>\n",
       "      <td>1.060000e+02</td>\n",
       "    </tr>\n",
       "    <tr>\n",
       "      <th>mean</th>\n",
       "      <td>0.045866</td>\n",
       "      <td>2.009572e+05</td>\n",
       "      <td>1.068196e+05</td>\n",
       "      <td>9.413754e+04</td>\n",
       "      <td>3.955598e+04</td>\n",
       "      <td>2.405131e+05</td>\n",
       "    </tr>\n",
       "    <tr>\n",
       "      <th>std</th>\n",
       "      <td>0.022766</td>\n",
       "      <td>1.549051e+05</td>\n",
       "      <td>1.008179e+05</td>\n",
       "      <td>7.821666e+04</td>\n",
       "      <td>1.845806e+04</td>\n",
       "      <td>1.624249e+05</td>\n",
       "    </tr>\n",
       "    <tr>\n",
       "      <th>min</th>\n",
       "      <td>0.002853</td>\n",
       "      <td>8.900000e+03</td>\n",
       "      <td>0.000000e+00</td>\n",
       "      <td>8.645000e+03</td>\n",
       "      <td>1.125000e+03</td>\n",
       "      <td>1.143000e+04</td>\n",
       "    </tr>\n",
       "    <tr>\n",
       "      <th>25%</th>\n",
       "      <td>0.031084</td>\n",
       "      <td>9.741900e+04</td>\n",
       "      <td>3.894400e+04</td>\n",
       "      <td>5.236950e+04</td>\n",
       "      <td>2.779625e+04</td>\n",
       "      <td>1.322762e+05</td>\n",
       "    </tr>\n",
       "    <tr>\n",
       "      <th>50%</th>\n",
       "      <td>0.043221</td>\n",
       "      <td>1.513930e+05</td>\n",
       "      <td>6.572800e+04</td>\n",
       "      <td>7.301500e+04</td>\n",
       "      <td>4.135600e+04</td>\n",
       "      <td>1.828765e+05</td>\n",
       "    </tr>\n",
       "    <tr>\n",
       "      <th>75%</th>\n",
       "      <td>0.059408</td>\n",
       "      <td>2.561140e+05</td>\n",
       "      <td>1.568640e+05</td>\n",
       "      <td>1.126328e+05</td>\n",
       "      <td>5.362600e+04</td>\n",
       "      <td>3.074132e+05</td>\n",
       "    </tr>\n",
       "    <tr>\n",
       "      <th>max</th>\n",
       "      <td>0.144363</td>\n",
       "      <td>9.356110e+05</td>\n",
       "      <td>3.857920e+05</td>\n",
       "      <td>6.108750e+05</td>\n",
       "      <td>7.260100e+04</td>\n",
       "      <td>9.829050e+05</td>\n",
       "    </tr>\n",
       "    <tr>\n",
       "      <th>sum</th>\n",
       "      <td>4.861763</td>\n",
       "      <td>2.130146e+07</td>\n",
       "      <td>1.132288e+07</td>\n",
       "      <td>9.978579e+06</td>\n",
       "      <td>4.192934e+06</td>\n",
       "      <td>2.549439e+07</td>\n",
       "    </tr>\n",
       "  </tbody>\n",
       "</table>\n",
       "</div>"
      ],
      "text/plain": [
       "         usd_cost  prompt_tokens  prompt_cached_tokens  \\\n",
       "count  106.000000   1.060000e+02          1.060000e+02   \n",
       "mean     0.045866   2.009572e+05          1.068196e+05   \n",
       "std      0.022766   1.549051e+05          1.008179e+05   \n",
       "min      0.002853   8.900000e+03          0.000000e+00   \n",
       "25%      0.031084   9.741900e+04          3.894400e+04   \n",
       "50%      0.043221   1.513930e+05          6.572800e+04   \n",
       "75%      0.059408   2.561140e+05          1.568640e+05   \n",
       "max      0.144363   9.356110e+05          3.857920e+05   \n",
       "sum      4.861763   2.130146e+07          1.132288e+07   \n",
       "\n",
       "       prompt_non_cached_tokens  completion_tokens  total_tokens  \n",
       "count              1.060000e+02       1.060000e+02  1.060000e+02  \n",
       "mean               9.413754e+04       3.955598e+04  2.405131e+05  \n",
       "std                7.821666e+04       1.845806e+04  1.624249e+05  \n",
       "min                8.645000e+03       1.125000e+03  1.143000e+04  \n",
       "25%                5.236950e+04       2.779625e+04  1.322762e+05  \n",
       "50%                7.301500e+04       4.135600e+04  1.828765e+05  \n",
       "75%                1.126328e+05       5.362600e+04  3.074132e+05  \n",
       "max                6.108750e+05       7.260100e+04  9.829050e+05  \n",
       "sum                9.978579e+06       4.192934e+06  2.549439e+07  "
      ]
     },
     "execution_count": 18,
     "metadata": {},
     "output_type": "execute_result"
    }
   ],
   "source": [
    "task_token_summary_stats = task_token_df.describe()\n",
    "totals = task_token_df.sum(axis=0)\n",
    "totals.name = \"sum\"\n",
    "task_token_summary_stats = pd.concat([task_token_summary_stats, totals.to_frame().T])\n",
    "task_token_summary_stats"
   ]
  },
  {
   "cell_type": "code",
   "execution_count": 19,
   "metadata": {},
   "outputs": [],
   "source": [
    "tag = \"d5\"\n",
    "\n",
    "task_time_stats_rows = []\n",
    "results_dir = \"./results\"\n",
    "exp_names = os.listdir(results_dir)\n",
    "for exp_name in exp_names:\n",
    "  if tag in exp_name:\n",
    "\n",
    "    exp_path = os.path.join(results_dir, exp_name)\n",
    "    task_names = os.listdir(exp_path)\n",
    "\n",
    "    for task_name in task_names:\n",
    "      if \"webarena\" in task_name:\n",
    "        \n",
    "        total_proposal_time = 0\n",
    "        total_evaluation_time = 0\n",
    "        total_envstep_time = 0\n",
    "        total_time_taken = 0\n",
    "\n",
    "        task_path = os.path.join(results_dir, exp_name, task_name)\n",
    "        with open(os.path.join(task_path, \"time.txt\")) as f:\n",
    "          for line in f.readlines():\n",
    "\n",
    "            if line.startswith(\"action proposal time\"):\n",
    "              total_proposal_time += float(line.strip().split(\": \")[1])\n",
    "            elif line.startswith(\"total action evaluation time\"):\n",
    "              total_evaluation_time += float(line.strip().split(\": \")[1])\n",
    "            elif line.startswith(\"env step time\"):\n",
    "              total_envstep_time += float(line.strip().split(\": \")[1])\n",
    "            elif line.startswith(\"total time taken\"):\n",
    "              total_time_taken = float(line.strip().split(\": \")[1])\n",
    "        \n",
    "        task_time_stats_rows.append([task_name, total_time_taken, total_proposal_time, total_evaluation_time, total_envstep_time])"
   ]
  },
  {
   "cell_type": "code",
   "execution_count": 20,
   "metadata": {},
   "outputs": [
    {
     "data": {
      "text/html": [
       "<div>\n",
       "<style scoped>\n",
       "    .dataframe tbody tr th:only-of-type {\n",
       "        vertical-align: middle;\n",
       "    }\n",
       "\n",
       "    .dataframe tbody tr th {\n",
       "        vertical-align: top;\n",
       "    }\n",
       "\n",
       "    .dataframe thead th {\n",
       "        text-align: right;\n",
       "    }\n",
       "</style>\n",
       "<table border=\"1\" class=\"dataframe\">\n",
       "  <thead>\n",
       "    <tr style=\"text-align: right;\">\n",
       "      <th></th>\n",
       "      <th>task_name</th>\n",
       "      <th>total_time_taken</th>\n",
       "      <th>total_proposal_time</th>\n",
       "      <th>total_evaluation_time</th>\n",
       "      <th>total_envstep_time</th>\n",
       "    </tr>\n",
       "  </thead>\n",
       "  <tbody>\n",
       "    <tr>\n",
       "      <th>0</th>\n",
       "      <td>webarena.729</td>\n",
       "      <td>589.659158</td>\n",
       "      <td>140.036633</td>\n",
       "      <td>198.752823</td>\n",
       "      <td>129.651548</td>\n",
       "    </tr>\n",
       "    <tr>\n",
       "      <th>1</th>\n",
       "      <td>webarena.728</td>\n",
       "      <td>110.914623</td>\n",
       "      <td>36.157659</td>\n",
       "      <td>36.614235</td>\n",
       "      <td>22.630563</td>\n",
       "    </tr>\n",
       "    <tr>\n",
       "      <th>2</th>\n",
       "      <td>webarena.623</td>\n",
       "      <td>135.333764</td>\n",
       "      <td>51.458425</td>\n",
       "      <td>40.755002</td>\n",
       "      <td>28.413533</td>\n",
       "    </tr>\n",
       "    <tr>\n",
       "      <th>3</th>\n",
       "      <td>webarena.638</td>\n",
       "      <td>439.820382</td>\n",
       "      <td>107.090739</td>\n",
       "      <td>114.587885</td>\n",
       "      <td>100.890331</td>\n",
       "    </tr>\n",
       "    <tr>\n",
       "      <th>4</th>\n",
       "      <td>webarena.714</td>\n",
       "      <td>465.466817</td>\n",
       "      <td>129.833860</td>\n",
       "      <td>122.362351</td>\n",
       "      <td>112.162746</td>\n",
       "    </tr>\n",
       "    <tr>\n",
       "      <th>...</th>\n",
       "      <td>...</td>\n",
       "      <td>...</td>\n",
       "      <td>...</td>\n",
       "      <td>...</td>\n",
       "      <td>...</td>\n",
       "    </tr>\n",
       "    <tr>\n",
       "      <th>101</th>\n",
       "      <td>webarena.620</td>\n",
       "      <td>400.291809</td>\n",
       "      <td>76.957690</td>\n",
       "      <td>121.038710</td>\n",
       "      <td>74.885211</td>\n",
       "    </tr>\n",
       "    <tr>\n",
       "      <th>102</th>\n",
       "      <td>webarena.69</td>\n",
       "      <td>65.512595</td>\n",
       "      <td>23.970613</td>\n",
       "      <td>24.328228</td>\n",
       "      <td>6.149816</td>\n",
       "    </tr>\n",
       "    <tr>\n",
       "      <th>103</th>\n",
       "      <td>webarena.28</td>\n",
       "      <td>348.646215</td>\n",
       "      <td>98.353005</td>\n",
       "      <td>145.603380</td>\n",
       "      <td>28.817309</td>\n",
       "    </tr>\n",
       "    <tr>\n",
       "      <th>104</th>\n",
       "      <td>webarena.602</td>\n",
       "      <td>323.516307</td>\n",
       "      <td>78.560777</td>\n",
       "      <td>101.577165</td>\n",
       "      <td>79.128021</td>\n",
       "    </tr>\n",
       "    <tr>\n",
       "      <th>105</th>\n",
       "      <td>webarena.615</td>\n",
       "      <td>728.960760</td>\n",
       "      <td>143.870268</td>\n",
       "      <td>211.790952</td>\n",
       "      <td>179.316551</td>\n",
       "    </tr>\n",
       "  </tbody>\n",
       "</table>\n",
       "<p>106 rows × 5 columns</p>\n",
       "</div>"
      ],
      "text/plain": [
       "        task_name  total_time_taken  total_proposal_time  \\\n",
       "0    webarena.729        589.659158           140.036633   \n",
       "1    webarena.728        110.914623            36.157659   \n",
       "2    webarena.623        135.333764            51.458425   \n",
       "3    webarena.638        439.820382           107.090739   \n",
       "4    webarena.714        465.466817           129.833860   \n",
       "..            ...               ...                  ...   \n",
       "101  webarena.620        400.291809            76.957690   \n",
       "102   webarena.69         65.512595            23.970613   \n",
       "103   webarena.28        348.646215            98.353005   \n",
       "104  webarena.602        323.516307            78.560777   \n",
       "105  webarena.615        728.960760           143.870268   \n",
       "\n",
       "     total_evaluation_time  total_envstep_time  \n",
       "0               198.752823          129.651548  \n",
       "1                36.614235           22.630563  \n",
       "2                40.755002           28.413533  \n",
       "3               114.587885          100.890331  \n",
       "4               122.362351          112.162746  \n",
       "..                     ...                 ...  \n",
       "101             121.038710           74.885211  \n",
       "102              24.328228            6.149816  \n",
       "103             145.603380           28.817309  \n",
       "104             101.577165           79.128021  \n",
       "105             211.790952          179.316551  \n",
       "\n",
       "[106 rows x 5 columns]"
      ]
     },
     "execution_count": 20,
     "metadata": {},
     "output_type": "execute_result"
    }
   ],
   "source": [
    "task_time_df = pd.DataFrame(task_time_stats_rows,\n",
    "                             columns=[\"task_name\", \"total_time_taken\", \"total_proposal_time\", \"total_evaluation_time\", \"total_envstep_time\"])\n",
    "task_time_df"
   ]
  },
  {
   "cell_type": "code",
   "execution_count": 21,
   "metadata": {},
   "outputs": [],
   "source": [
    "from analysis import get_success_stats, get_token_stats, get_time_stats, get_mcts_stats"
   ]
  },
  {
   "cell_type": "code",
   "execution_count": 22,
   "metadata": {},
   "outputs": [
    {
     "data": {
      "text/plain": [
       "[5,\n",
       " 15,\n",
       " 89,\n",
       " 2,\n",
       " np.float64(4.861763250000001),\n",
       " np.float64(0.045865691037735856),\n",
       "         task_name  usd_cost  prompt_tokens  prompt_cached_tokens  \\\n",
       " 0    webarena.729  0.076765         311490                156288   \n",
       " 1    webarena.728  0.019177         112349                 65792   \n",
       " 2    webarena.623  0.016902          61611                 19200   \n",
       " 3    webarena.638  0.041498          91548                 66816   \n",
       " 4    webarena.714  0.144363         935611                324736   \n",
       " ..            ...       ...            ...                   ...   \n",
       " 101  webarena.620  0.036802         124030                 47488   \n",
       " 102   webarena.69  0.017008          82730                 10240   \n",
       " 103   webarena.28  0.048700         193754                157056   \n",
       " 104  webarena.602  0.040251         130235                 67200   \n",
       " 105  webarena.615  0.069365         218248                 88832   \n",
       " \n",
       "      prompt_non_cached_tokens  completion_tokens  total_tokens  \n",
       " 0                      155202              69605        381095  \n",
       " 1                       46557              12099        124448  \n",
       " 2                       42411              15168         76779  \n",
       " 3                       24732              54628        146176  \n",
       " 4                      610875              47294        982905  \n",
       " ..                        ...                ...           ...  \n",
       " 101                     76542              36266        160296  \n",
       " 102                     72490               8945         91675  \n",
       " 103                     36698              52361        246115  \n",
       " 104                     63035              42927        173162  \n",
       " 105                    129416              72151        290399  \n",
       " \n",
       " [106 rows x 7 columns],\n",
       " np.float64(40834.997811079025),\n",
       " np.float64(385.2358284064059),\n",
       "         task_name  total_time_taken  total_proposal_time  \\\n",
       " 0    webarena.729        589.659158           140.036633   \n",
       " 1    webarena.728        110.914623            36.157659   \n",
       " 2    webarena.623        135.333764            51.458425   \n",
       " 3    webarena.638        439.820382           107.090739   \n",
       " 4    webarena.714        465.466817           129.833860   \n",
       " ..            ...               ...                  ...   \n",
       " 101  webarena.620        400.291809            76.957690   \n",
       " 102   webarena.69         65.512595            23.970613   \n",
       " 103   webarena.28        348.646215            98.353005   \n",
       " 104  webarena.602        323.516307            78.560777   \n",
       " 105  webarena.615        728.960760           143.870268   \n",
       " \n",
       "      total_evaluation_time  total_envstep_time  \n",
       " 0               198.752823          129.651548  \n",
       " 1                36.614235           22.630563  \n",
       " 2                40.755002           28.413533  \n",
       " 3               114.587885          100.890331  \n",
       " 4               122.362351          112.162746  \n",
       " ..                     ...                 ...  \n",
       " 101             121.038710           74.885211  \n",
       " 102              24.328228            6.149816  \n",
       " 103             145.603380           28.817309  \n",
       " 104             101.577165           79.128021  \n",
       " 105             211.790952          179.316551  \n",
       " \n",
       " [106 rows x 5 columns]]"
      ]
     },
     "execution_count": 22,
     "metadata": {},
     "output_type": "execute_result"
    }
   ],
   "source": [
    "from itertools import chain\n",
    "\n",
    "success_stats = get_success_stats(\"d5\")\n",
    "token_stats = get_token_stats(\"d5\")\n",
    "time_stats = get_time_stats(\"d5\")\n",
    "stats = list(chain(success_stats, token_stats, time_stats))\n",
    "stats"
   ]
  },
  {
   "cell_type": "code",
   "execution_count": 23,
   "metadata": {},
   "outputs": [
    {
     "name": "stderr",
     "output_type": "stream",
     "text": [
      "/home/samuel/miniconda3/envs/py3117/lib/python3.11/site-packages/tqdm/auto.py:21: TqdmWarning: IProgress not found. Please update jupyter and ipywidgets. See https://ipywidgets.readthedocs.io/en/stable/user_install.html\n",
      "  from .autonotebook import tqdm as notebook_tqdm\n",
      "/home/samuel/miniconda3/envs/py3117/lib/python3.11/site-packages/transformers/utils/hub.py:128: FutureWarning: Using `TRANSFORMERS_CACHE` is deprecated and will be removed in v5 of Transformers. Use `HF_HOME` instead.\n",
      "  warnings.warn(\n"
     ]
    }
   ],
   "source": [
    "# finding out the mcts iterations needed for a task\n",
    "\n",
    "mcts_result = pickle.load(open(\"./results/d20-1/webarena.727/result.pkl\", \"rb\"))"
   ]
  },
  {
   "cell_type": "code",
   "execution_count": 24,
   "metadata": {},
   "outputs": [
    {
     "name": "stdout",
     "output_type": "stream",
     "text": [
      "5\n",
      "5\n",
      "7\n",
      "7\n",
      "7\n",
      "7\n",
      "7\n",
      "7\n",
      "7\n",
      "7\n"
     ]
    }
   ],
   "source": [
    "for trace in mcts_result.trace_in_each_iter:\n",
    "  print(len(trace))"
   ]
  },
  {
   "cell_type": "code",
   "execution_count": 25,
   "metadata": {},
   "outputs": [
    {
     "name": "stdout",
     "output_type": "stream",
     "text": [
      "5\n",
      "5\n",
      "7\n",
      "7\n",
      "7\n",
      "7\n",
      "7\n",
      "7\n",
      "7\n",
      "7\n"
     ]
    }
   ],
   "source": [
    "for trace in mcts_result.trace_in_each_iter:\n",
    "  print(len(trace))"
   ]
  },
  {
   "cell_type": "code",
   "execution_count": 26,
   "metadata": {},
   "outputs": [
    {
     "data": {
      "text/plain": [
       "7"
      ]
     },
     "execution_count": 26,
     "metadata": {},
     "output_type": "execute_result"
    }
   ],
   "source": [
    "len(mcts_result.trace_in_each_iter[-1])"
   ]
  },
  {
   "cell_type": "code",
   "execution_count": 27,
   "metadata": {},
   "outputs": [
    {
     "data": {
      "text/plain": [
       "7"
      ]
     },
     "execution_count": 27,
     "metadata": {},
     "output_type": "execute_result"
    }
   ],
   "source": [
    "len(max(mcts_result.trace_in_each_iter, key=lambda x: len(x)))"
   ]
  },
  {
   "cell_type": "code",
   "execution_count": 28,
   "metadata": {},
   "outputs": [
    {
     "name": "stdout",
     "output_type": "stream",
     "text": [
      "trace 0 - False\n",
      "trace 1 - False\n",
      "trace 2 - True\n",
      "trace 3 - True\n",
      "trace 4 - True\n",
      "trace 5 - True\n",
      "trace 6 - True\n",
      "trace 7 - True\n",
      "trace 8 - True\n",
      "trace 9 - True\n",
      "task completed at iteration 2\n"
     ]
    }
   ],
   "source": [
    "last_trace = mcts_result.trace_in_each_iter[-1]\n",
    "\n",
    "same_info = []\n",
    "for idx, trace in enumerate(mcts_result.trace_in_each_iter):\n",
    "  same_trace = True\n",
    "  for n1, n2 in zip(trace, last_trace):\n",
    "    if n1.id != n2.id:\n",
    "      same_trace = False\n",
    "      break\n",
    "  same_info.append(same_trace)\n",
    "  print(f\"trace {idx} - {same_trace}\")\n",
    "    \n",
    "for idx, si in enumerate(same_info):\n",
    "  if si:\n",
    "    print(f\"task completed at iteration {idx}\")\n",
    "    break\n",
    "# second_last_trace = mcts_result.trace_in_each_iter[-2]\n",
    "# last_trace[0].id, second_last_trace[0].id"
   ]
  },
  {
   "cell_type": "code",
   "execution_count": 29,
   "metadata": {},
   "outputs": [],
   "source": [
    "from analysis import find_completion_iteration"
   ]
  },
  {
   "cell_type": "code",
   "execution_count": 30,
   "metadata": {},
   "outputs": [],
   "source": [
    "import numpy as np\n",
    "\n",
    "tag = \"d5\"\n",
    "\n",
    "task_iteration_stats_rows = []\n",
    "results_dir = \"./results\"\n",
    "exp_names = os.listdir(results_dir)\n",
    "for exp_name in exp_names:\n",
    "  if tag in exp_name:\n",
    "\n",
    "    exp_path = os.path.join(results_dir, exp_name)\n",
    "    task_names = os.listdir(exp_path)\n",
    "\n",
    "    for task_name in task_names:\n",
    "      if \"webarena\" in task_name:\n",
    "        task_path = os.path.join(results_dir, exp_name, task_name)\n",
    "        if os.path.exists(os.path.join(task_path, \"result.pkl\")):\n",
    "          mcts_result = pickle.load(open(os.path.join(task_path, \"result.pkl\"), \"rb\"))\n",
    "          if mcts_result.cum_reward >= 100: # task successfully completed\n",
    "            completion_iteration = find_completion_iteration(mcts_result)\n",
    "            task_iteration_stats_rows.append([task_name, completion_iteration])\n",
    "          else:\n",
    "            task_iteration_stats_rows.append([task_name, np.nan])\n",
    "        else:\n",
    "          task_iteration_stats_rows.append([task_name, np.nan])"
   ]
  },
  {
   "cell_type": "code",
   "execution_count": 31,
   "metadata": {},
   "outputs": [
    {
     "data": {
      "text/plain": [
       "array([[<Axes: title={'center': 'completion_iteration'}>]], dtype=object)"
      ]
     },
     "execution_count": 31,
     "metadata": {},
     "output_type": "execute_result"
    },
    {
     "data": {
      "image/png": "[encoded data removed]",
      "text/plain": [
       "<Figure size 640x480 with 1 Axes>"
      ]
     },
     "metadata": {},
     "output_type": "display_data"
    }
   ],
   "source": [
    "task_iteration_df = pd.DataFrame(task_iteration_stats_rows,\n",
    "                             columns=[\"task_name\", \"completion_iteration\"])\n",
    "task_iteration_df.set_index(\"task_name\", inplace=True)\n",
    "task_iteration_df.hist()"
   ]
  },
  {
   "cell_type": "code",
   "execution_count": 32,
   "metadata": {},
   "outputs": [],
   "source": [
    "from analysis import get_stats"
   ]
  },
  {
   "cell_type": "code",
   "execution_count": 33,
   "metadata": {},
   "outputs": [
    {
     "data": {
      "text/html": [
       "<div>\n",
       "<style scoped>\n",
       "    .dataframe tbody tr th:only-of-type {\n",
       "        vertical-align: middle;\n",
       "    }\n",
       "\n",
       "    .dataframe tbody tr th {\n",
       "        vertical-align: top;\n",
       "    }\n",
       "\n",
       "    .dataframe thead th {\n",
       "        text-align: right;\n",
       "    }\n",
       "</style>\n",
       "<table border=\"1\" class=\"dataframe\">\n",
       "  <thead>\n",
       "    <tr style=\"text-align: right;\">\n",
       "      <th></th>\n",
       "      <th>success_rate</th>\n",
       "      <th>total_usd</th>\n",
       "      <th>avg_usd</th>\n",
       "      <th>total_time</th>\n",
       "      <th>avg_time</th>\n",
       "      <th>avg_completion_iteration</th>\n",
       "      <th>avg_completion_depth</th>\n",
       "      <th>successes</th>\n",
       "      <th>failures</th>\n",
       "      <th>errors</th>\n",
       "      <th>token_df</th>\n",
       "      <th>time_df</th>\n",
       "      <th>mcts_df</th>\n",
       "    </tr>\n",
       "    <tr>\n",
       "      <th>mcts_depth</th>\n",
       "      <th></th>\n",
       "      <th></th>\n",
       "      <th></th>\n",
       "      <th></th>\n",
       "      <th></th>\n",
       "      <th></th>\n",
       "      <th></th>\n",
       "      <th></th>\n",
       "      <th></th>\n",
       "      <th></th>\n",
       "      <th></th>\n",
       "      <th></th>\n",
       "      <th></th>\n",
       "    </tr>\n",
       "  </thead>\n",
       "  <tbody>\n",
       "    <tr>\n",
       "      <th>5</th>\n",
       "      <td>0.141509</td>\n",
       "      <td>4.861763</td>\n",
       "      <td>0.045866</td>\n",
       "      <td>40834.997811</td>\n",
       "      <td>385.235828</td>\n",
       "      <td>0.866667</td>\n",
       "      <td>4.266667</td>\n",
       "      <td>15</td>\n",
       "      <td>89</td>\n",
       "      <td>2</td>\n",
       "      <td>task_name  usd_cost  prompt_tokens  pr...</td>\n",
       "      <td>task_name  total_time_taken  total_pro...</td>\n",
       "      <td>completion_iteration  completion...</td>\n",
       "    </tr>\n",
       "    <tr>\n",
       "      <th>10</th>\n",
       "      <td>0.198113</td>\n",
       "      <td>6.413142</td>\n",
       "      <td>0.060501</td>\n",
       "      <td>57128.987742</td>\n",
       "      <td>538.952715</td>\n",
       "      <td>0.857143</td>\n",
       "      <td>5.238095</td>\n",
       "      <td>21</td>\n",
       "      <td>82</td>\n",
       "      <td>3</td>\n",
       "      <td>task_name  usd_cost  prompt_tokens  pr...</td>\n",
       "      <td>task_name  total_time_taken  total_pro...</td>\n",
       "      <td>completion_iteration  completion...</td>\n",
       "    </tr>\n",
       "    <tr>\n",
       "      <th>20</th>\n",
       "      <td>0.330189</td>\n",
       "      <td>9.009063</td>\n",
       "      <td>0.084991</td>\n",
       "      <td>91408.657527</td>\n",
       "      <td>862.345826</td>\n",
       "      <td>0.600000</td>\n",
       "      <td>7.314286</td>\n",
       "      <td>35</td>\n",
       "      <td>67</td>\n",
       "      <td>4</td>\n",
       "      <td>task_name  usd_cost  prompt_tokens  pr...</td>\n",
       "      <td>task_name  total_time_taken  total_pro...</td>\n",
       "      <td>completion_iteration  completion...</td>\n",
       "    </tr>\n",
       "  </tbody>\n",
       "</table>\n",
       "</div>"
      ],
      "text/plain": [
       "            success_rate  total_usd   avg_usd    total_time    avg_time  \\\n",
       "mcts_depth                                                                \n",
       "5               0.141509   4.861763  0.045866  40834.997811  385.235828   \n",
       "10              0.198113   6.413142  0.060501  57128.987742  538.952715   \n",
       "20              0.330189   9.009063  0.084991  91408.657527  862.345826   \n",
       "\n",
       "            avg_completion_iteration  avg_completion_depth  successes  \\\n",
       "mcts_depth                                                              \n",
       "5                           0.866667              4.266667         15   \n",
       "10                          0.857143              5.238095         21   \n",
       "20                          0.600000              7.314286         35   \n",
       "\n",
       "            failures  errors  \\\n",
       "mcts_depth                     \n",
       "5                 89       2   \n",
       "10                82       3   \n",
       "20                67       4   \n",
       "\n",
       "                                                     token_df  \\\n",
       "mcts_depth                                                      \n",
       "5                   task_name  usd_cost  prompt_tokens  pr...   \n",
       "10                  task_name  usd_cost  prompt_tokens  pr...   \n",
       "20                  task_name  usd_cost  prompt_tokens  pr...   \n",
       "\n",
       "                                                      time_df  \\\n",
       "mcts_depth                                                      \n",
       "5                   task_name  total_time_taken  total_pro...   \n",
       "10                  task_name  total_time_taken  total_pro...   \n",
       "20                  task_name  total_time_taken  total_pro...   \n",
       "\n",
       "                                                      mcts_df  \n",
       "mcts_depth                                                     \n",
       "5                         completion_iteration  completion...  \n",
       "10                        completion_iteration  completion...  \n",
       "20                        completion_iteration  completion...  "
      ]
     },
     "execution_count": 33,
     "metadata": {},
     "output_type": "execute_result"
    }
   ],
   "source": [
    "d5_stats = get_stats(\"d5\")\n",
    "d10_stats = get_stats(\"d10\")\n",
    "d20_stats = get_stats(\"d20\")\n",
    "\n",
    "df = pd.DataFrame([d5_stats, d10_stats, d20_stats], \n",
    "                  columns=[\"mcts_depth\", \"successes\", \"failures\", \"errors\", \"total_usd\", \"avg_usd\", \"token_df\", \"total_time\", \"avg_time\", \"time_df\", \"avg_completion_iteration\", \"avg_completion_depth\", \"mcts_df\"])\n",
    "df.set_index(\"mcts_depth\", inplace=True)\n",
    "df[\"success_rate\"] = df[\"successes\"] / (df[[\"successes\", \"failures\", \"errors\"]].sum(axis=1))\n",
    "df = df[[\"success_rate\", \"total_usd\", \"avg_usd\", \"total_time\", \"avg_time\", \"avg_completion_iteration\", \"avg_completion_depth\", \"successes\", \"failures\", \"errors\", \"token_df\", \"time_df\", \"mcts_df\"]]\n",
    "df"
   ]
  },
  {
   "cell_type": "code",
   "execution_count": 34,
   "metadata": {},
   "outputs": [
    {
     "data": {
      "image/png": "[encoded data removed]",
      "text/plain": [
       "<Figure size 640x480 with 4 Axes>"
      ]
     },
     "metadata": {},
     "output_type": "display_data"
    }
   ],
   "source": [
    "df.loc[5].time_df.hist(bins=20)\n",
    "plt.suptitle(\"Depth 5 Time Stats\")\n",
    "plt.tight_layout()\n",
    "plt.show()"
   ]
  },
  {
   "cell_type": "code",
   "execution_count": 35,
   "metadata": {},
   "outputs": [
    {
     "data": {
      "image/png": "[encoded data removed]",
      "text/plain": [
       "<Figure size 640x480 with 4 Axes>"
      ]
     },
     "metadata": {},
     "output_type": "display_data"
    }
   ],
   "source": [
    "df.loc[10].time_df.hist(bins=20)\n",
    "plt.suptitle(\"Depth 10 Time Stats\")\n",
    "plt.tight_layout()\n",
    "plt.show()"
   ]
  },
  {
   "cell_type": "code",
   "execution_count": 36,
   "metadata": {},
   "outputs": [
    {
     "data": {
      "image/png": "[encoded data removed]",
      "text/plain": [
       "<Figure size 640x480 with 4 Axes>"
      ]
     },
     "metadata": {},
     "output_type": "display_data"
    }
   ],
   "source": [
    "df.loc[20].time_df.hist(bins=20)\n",
    "plt.suptitle(\"Depth 20 Time Stats\")\n",
    "plt.tight_layout()\n",
    "plt.show()"
   ]
  },
  {
   "cell_type": "code",
   "execution_count": 37,
   "metadata": {},
   "outputs": [
    {
     "data": {
      "image/png": "[encoded data removed]",
      "text/plain": [
       "<Figure size 640x480 with 6 Axes>"
      ]
     },
     "metadata": {},
     "output_type": "display_data"
    }
   ],
   "source": [
    "df.loc[5].token_df.hist(bins=20)\n",
    "plt.suptitle(\"Depth 5 Token Stats\")\n",
    "plt.tight_layout()\n",
    "plt.show()"
   ]
  },
  {
   "cell_type": "code",
   "execution_count": 38,
   "metadata": {},
   "outputs": [
    {
     "data": {
      "image/png": "[encoded data removed]",
      "text/plain": [
       "<Figure size 640x480 with 6 Axes>"
      ]
     },
     "metadata": {},
     "output_type": "display_data"
    }
   ],
   "source": [
    "df.loc[10].token_df.hist(bins=20)\n",
    "plt.suptitle(\"Depth 10 Token Stats\")\n",
    "plt.tight_layout()\n",
    "plt.show()"
   ]
  },
  {
   "cell_type": "code",
   "execution_count": 39,
   "metadata": {},
   "outputs": [
    {
     "data": {
      "image/png": "[encoded data removed]",
      "text/plain": [
       "<Figure size 640x480 with 6 Axes>"
      ]
     },
     "metadata": {},
     "output_type": "display_data"
    }
   ],
   "source": [
    "df.loc[20].token_df.hist(bins=20)\n",
    "plt.suptitle(\"Depth 20 Token Stats\")\n",
    "plt.tight_layout()\n",
    "plt.show()"
   ]
  },
  {
   "cell_type": "code",
   "execution_count": 40,
   "metadata": {},
   "outputs": [
    {
     "data": {
      "text/plain": [
       "completion_depth\n",
       "2.0    2\n",
       "3.0    1\n",
       "4.0    7\n",
       "5.0    1\n",
       "6.0    4\n",
       "Name: count, dtype: int64"
      ]
     },
     "execution_count": 40,
     "metadata": {},
     "output_type": "execute_result"
    }
   ],
   "source": [
    "df.loc[5].mcts_df[\"completion_depth\"].value_counts().sort_index()"
   ]
  },
  {
   "cell_type": "code",
   "execution_count": 41,
   "metadata": {},
   "outputs": [
    {
     "data": {
      "text/plain": [
       "completion_depth\n",
       "2.0     2\n",
       "3.0     2\n",
       "4.0     2\n",
       "5.0     7\n",
       "6.0     5\n",
       "8.0     1\n",
       "9.0     1\n",
       "10.0    1\n",
       "Name: count, dtype: int64"
      ]
     },
     "execution_count": 41,
     "metadata": {},
     "output_type": "execute_result"
    }
   ],
   "source": [
    "df.loc[10].mcts_df[\"completion_depth\"].value_counts().sort_index()"
   ]
  },
  {
   "cell_type": "code",
   "execution_count": 42,
   "metadata": {},
   "outputs": [
    {
     "data": {
      "text/plain": [
       "mcts_depth\n",
       "5     15\n",
       "10    21\n",
       "20    35\n",
       "Name: successes, dtype: int64"
      ]
     },
     "execution_count": 42,
     "metadata": {},
     "output_type": "execute_result"
    }
   ],
   "source": [
    "df[\"successes\"]"
   ]
  },
  {
   "cell_type": "code",
   "execution_count": 43,
   "metadata": {},
   "outputs": [
    {
     "data": {
      "text/plain": [
       "completion_depth\n",
       "2.0     2\n",
       "3.0     2\n",
       "4.0     2\n",
       "5.0     7\n",
       "6.0     5\n",
       "8.0     1\n",
       "9.0     1\n",
       "10.0    1\n",
       "Name: count, dtype: int64"
      ]
     },
     "execution_count": 43,
     "metadata": {},
     "output_type": "execute_result"
    }
   ],
   "source": [
    "df.loc[10].mcts_df[\"completion_depth\"].value_counts().sort_index()"
   ]
  },
  {
   "cell_type": "code",
   "execution_count": 44,
   "metadata": {},
   "outputs": [
    {
     "data": {
      "text/plain": [
       "completion_depth\n",
       "2.0     3\n",
       "3.0     4\n",
       "4.0     4\n",
       "5.0     3\n",
       "6.0     2\n",
       "7.0     7\n",
       "8.0     5\n",
       "9.0     1\n",
       "10.0    1\n",
       "12.0    1\n",
       "16.0    1\n",
       "19.0    2\n",
       "21.0    1\n",
       "Name: count, dtype: int64"
      ]
     },
     "execution_count": 44,
     "metadata": {},
     "output_type": "execute_result"
    }
   ],
   "source": [
    "df.loc[20].mcts_df[\"completion_depth\"].value_counts().sort_index()"
   ]
  },
  {
   "cell_type": "code",
   "execution_count": 45,
   "metadata": {},
   "outputs": [
    {
     "data": {
      "text/plain": [
       "task_name\n",
       "webarena.729    False\n",
       "webarena.728     True\n",
       "webarena.623     True\n",
       "webarena.638    False\n",
       "webarena.714    False\n",
       "                ...  \n",
       "webarena.620    False\n",
       "webarena.69     False\n",
       "webarena.28     False\n",
       "webarena.602    False\n",
       "webarena.615    False\n",
       "Name: completion_iteration, Length: 106, dtype: bool"
      ]
     },
     "execution_count": 45,
     "metadata": {},
     "output_type": "execute_result"
    }
   ],
   "source": [
    "(df.loc[10].mcts_df[\"completion_iteration\"] > -1) "
   ]
  },
  {
   "cell_type": "code",
   "execution_count": 46,
   "metadata": {},
   "outputs": [
    {
     "name": "stderr",
     "output_type": "stream",
     "text": [
      "/tmp/ipykernel_2634411/3651096995.py:1: UserWarning: Boolean Series key will be reindexed to match DataFrame index.\n",
      "  df.loc[20].mcts_df[(df.loc[20].mcts_df[\"completion_iteration\"] > -1) & ((df.loc[10].mcts_df[\"completion_iteration\"] > -1) )].shape[0]\n"
     ]
    },
    {
     "data": {
      "text/plain": [
       "16"
      ]
     },
     "execution_count": 46,
     "metadata": {},
     "output_type": "execute_result"
    }
   ],
   "source": [
    "df.loc[20].mcts_df[(df.loc[20].mcts_df[\"completion_iteration\"] > -1) & ((df.loc[10].mcts_df[\"completion_iteration\"] > -1) )].shape[0]"
   ]
  },
  {
   "cell_type": "code",
   "execution_count": 47,
   "metadata": {},
   "outputs": [
    {
     "data": {
      "text/html": [
       "<div>\n",
       "<style scoped>\n",
       "    .dataframe tbody tr th:only-of-type {\n",
       "        vertical-align: middle;\n",
       "    }\n",
       "\n",
       "    .dataframe tbody tr th {\n",
       "        vertical-align: top;\n",
       "    }\n",
       "\n",
       "    .dataframe thead th {\n",
       "        text-align: right;\n",
       "    }\n",
       "</style>\n",
       "<table border=\"1\" class=\"dataframe\">\n",
       "  <thead>\n",
       "    <tr style=\"text-align: right;\">\n",
       "      <th></th>\n",
       "      <th>completion_iteration</th>\n",
       "      <th>completion_depth</th>\n",
       "      <th>max_depth</th>\n",
       "      <th>env_steps_taken</th>\n",
       "    </tr>\n",
       "    <tr>\n",
       "      <th>task_name</th>\n",
       "      <th></th>\n",
       "      <th></th>\n",
       "      <th></th>\n",
       "      <th></th>\n",
       "    </tr>\n",
       "  </thead>\n",
       "  <tbody>\n",
       "    <tr>\n",
       "      <th>webarena.67</th>\n",
       "      <td>2.0</td>\n",
       "      <td>6.0</td>\n",
       "      <td>6.0</td>\n",
       "      <td>14.0</td>\n",
       "    </tr>\n",
       "    <tr>\n",
       "      <th>webarena.30</th>\n",
       "      <td>2.0</td>\n",
       "      <td>4.0</td>\n",
       "      <td>4.0</td>\n",
       "      <td>10.0</td>\n",
       "    </tr>\n",
       "    <tr>\n",
       "      <th>webarena.400</th>\n",
       "      <td>6.0</td>\n",
       "      <td>5.0</td>\n",
       "      <td>5.0</td>\n",
       "      <td>23.0</td>\n",
       "    </tr>\n",
       "  </tbody>\n",
       "</table>\n",
       "</div>"
      ],
      "text/plain": [
       "              completion_iteration  completion_depth  max_depth  \\\n",
       "task_name                                                         \n",
       "webarena.67                    2.0               6.0        6.0   \n",
       "webarena.30                    2.0               4.0        4.0   \n",
       "webarena.400                   6.0               5.0        5.0   \n",
       "\n",
       "              env_steps_taken  \n",
       "task_name                      \n",
       "webarena.67              14.0  \n",
       "webarena.30              10.0  \n",
       "webarena.400             23.0  "
      ]
     },
     "execution_count": 47,
     "metadata": {},
     "output_type": "execute_result"
    }
   ],
   "source": [
    "df.loc[10].mcts_df[(df.loc[10].mcts_df[\"completion_iteration\"] > 0) & (df.loc[10].mcts_df[\"completion_depth\"] <= 6)]"
   ]
  },
  {
   "cell_type": "code",
   "execution_count": 48,
   "metadata": {},
   "outputs": [
    {
     "data": {
      "text/html": [
       "<div>\n",
       "<style scoped>\n",
       "    .dataframe tbody tr th:only-of-type {\n",
       "        vertical-align: middle;\n",
       "    }\n",
       "\n",
       "    .dataframe tbody tr th {\n",
       "        vertical-align: top;\n",
       "    }\n",
       "\n",
       "    .dataframe thead th {\n",
       "        text-align: right;\n",
       "    }\n",
       "</style>\n",
       "<table border=\"1\" class=\"dataframe\">\n",
       "  <thead>\n",
       "    <tr style=\"text-align: right;\">\n",
       "      <th></th>\n",
       "      <th>completion_iteration</th>\n",
       "      <th>completion_depth</th>\n",
       "      <th>max_depth</th>\n",
       "      <th>env_steps_taken</th>\n",
       "    </tr>\n",
       "    <tr>\n",
       "      <th>task_name</th>\n",
       "      <th></th>\n",
       "      <th></th>\n",
       "      <th></th>\n",
       "      <th></th>\n",
       "    </tr>\n",
       "  </thead>\n",
       "  <tbody>\n",
       "    <tr>\n",
       "      <th>webarena.408</th>\n",
       "      <td>8.0</td>\n",
       "      <td>4.0</td>\n",
       "      <td>4.0</td>\n",
       "      <td>22.0</td>\n",
       "    </tr>\n",
       "    <tr>\n",
       "      <th>webarena.598</th>\n",
       "      <td>2.0</td>\n",
       "      <td>8.0</td>\n",
       "      <td>8.0</td>\n",
       "      <td>20.0</td>\n",
       "    </tr>\n",
       "    <tr>\n",
       "      <th>webarena.401</th>\n",
       "      <td>2.0</td>\n",
       "      <td>7.0</td>\n",
       "      <td>7.0</td>\n",
       "      <td>11.0</td>\n",
       "    </tr>\n",
       "    <tr>\n",
       "      <th>webarena.727</th>\n",
       "      <td>2.0</td>\n",
       "      <td>7.0</td>\n",
       "      <td>7.0</td>\n",
       "      <td>17.0</td>\n",
       "    </tr>\n",
       "  </tbody>\n",
       "</table>\n",
       "</div>"
      ],
      "text/plain": [
       "              completion_iteration  completion_depth  max_depth  \\\n",
       "task_name                                                         \n",
       "webarena.408                   8.0               4.0        4.0   \n",
       "webarena.598                   2.0               8.0        8.0   \n",
       "webarena.401                   2.0               7.0        7.0   \n",
       "webarena.727                   2.0               7.0        7.0   \n",
       "\n",
       "              env_steps_taken  \n",
       "task_name                      \n",
       "webarena.408             22.0  \n",
       "webarena.598             20.0  \n",
       "webarena.401             11.0  \n",
       "webarena.727             17.0  "
      ]
     },
     "execution_count": 48,
     "metadata": {},
     "output_type": "execute_result"
    }
   ],
   "source": [
    "df.loc[20].mcts_df[(df.loc[20].mcts_df[\"completion_iteration\"] > 0) & (df.loc[20].mcts_df[\"completion_depth\"] <= 11)]"
   ]
  },
  {
   "cell_type": "code",
   "execution_count": 49,
   "metadata": {},
   "outputs": [
    {
     "data": {
      "text/plain": [
       "mcts_depth\n",
       "5     15\n",
       "10    21\n",
       "20    35\n",
       "Name: successes, dtype: int64"
      ]
     },
     "execution_count": 49,
     "metadata": {},
     "output_type": "execute_result"
    }
   ],
   "source": [
    "df[\"successes\"]"
   ]
  },
  {
   "cell_type": "code",
   "execution_count": 50,
   "metadata": {},
   "outputs": [
    {
     "data": {
      "text/plain": [
       "completion_iteration  completion_depth  max_depth  env_steps_taken\n",
       "0.0                   5.0               5.0        5.0                6\n",
       "                      6.0               6.0        6.0                4\n",
       "                      2.0               2.0        2.0                2\n",
       "                      3.0               3.0        3.0                2\n",
       "                      4.0               4.0        4.0                1\n",
       "                      8.0               8.0        8.0                1\n",
       "                      9.0               9.0        9.0                1\n",
       "2.0                   4.0               4.0        10.0               1\n",
       "                      6.0               6.0        14.0               1\n",
       "6.0                   5.0               5.0        23.0               1\n",
       "8.0                   10.0              11.0       80.0               1\n",
       "Name: count, dtype: int64"
      ]
     },
     "execution_count": 50,
     "metadata": {},
     "output_type": "execute_result"
    }
   ],
   "source": [
    "df.loc[10].mcts_df.value_counts()"
   ]
  },
  {
   "cell_type": "code",
   "execution_count": 51,
   "metadata": {},
   "outputs": [
    {
     "data": {
      "text/plain": [
       "completion_iteration  completion_depth  max_depth  env_steps_taken\n",
       "0.0                   7.0               7.0        7.0                5\n",
       "                      3.0               3.0        3.0                4\n",
       "                      8.0               8.0        8.0                4\n",
       "                      2.0               2.0        2.0                3\n",
       "                      5.0               5.0        5.0                3\n",
       "                      4.0               4.0        4.0                3\n",
       "                      6.0               6.0        6.0                2\n",
       "                      9.0               9.0        9.0                1\n",
       "                      10.0              10.0       10.0               1\n",
       "                      12.0              12.0       12.0               1\n",
       "                      16.0              16.0       16.0               1\n",
       "                      21.0              21.0       21.0               1\n",
       "2.0                   7.0               7.0        11.0               1\n",
       "                                                   17.0               1\n",
       "                      8.0               8.0        20.0               1\n",
       "3.0                   19.0              21.0       82.0               1\n",
       "4.0                   19.0              21.0       103.0              1\n",
       "8.0                   4.0               4.0        22.0               1\n",
       "Name: count, dtype: int64"
      ]
     },
     "execution_count": 51,
     "metadata": {},
     "output_type": "execute_result"
    }
   ],
   "source": [
    "df.loc[20].mcts_df.value_counts()"
   ]
  },
  {
   "cell_type": "code",
   "execution_count": 52,
   "metadata": {},
   "outputs": [
    {
     "data": {
      "text/html": [
       "<div>\n",
       "<style scoped>\n",
       "    .dataframe tbody tr th:only-of-type {\n",
       "        vertical-align: middle;\n",
       "    }\n",
       "\n",
       "    .dataframe tbody tr th {\n",
       "        vertical-align: top;\n",
       "    }\n",
       "\n",
       "    .dataframe thead th {\n",
       "        text-align: right;\n",
       "    }\n",
       "</style>\n",
       "<table border=\"1\" class=\"dataframe\">\n",
       "  <thead>\n",
       "    <tr style=\"text-align: right;\">\n",
       "      <th></th>\n",
       "      <th>success_rate</th>\n",
       "      <th>successes</th>\n",
       "      <th>failures</th>\n",
       "      <th>errors</th>\n",
       "    </tr>\n",
       "    <tr>\n",
       "      <th>mcts_depth</th>\n",
       "      <th></th>\n",
       "      <th></th>\n",
       "      <th></th>\n",
       "      <th></th>\n",
       "    </tr>\n",
       "  </thead>\n",
       "  <tbody>\n",
       "    <tr>\n",
       "      <th>5</th>\n",
       "      <td>0.141509</td>\n",
       "      <td>15</td>\n",
       "      <td>89</td>\n",
       "      <td>2</td>\n",
       "    </tr>\n",
       "    <tr>\n",
       "      <th>10</th>\n",
       "      <td>0.198113</td>\n",
       "      <td>21</td>\n",
       "      <td>82</td>\n",
       "      <td>3</td>\n",
       "    </tr>\n",
       "    <tr>\n",
       "      <th>20</th>\n",
       "      <td>0.330189</td>\n",
       "      <td>35</td>\n",
       "      <td>67</td>\n",
       "      <td>4</td>\n",
       "    </tr>\n",
       "  </tbody>\n",
       "</table>\n",
       "</div>"
      ],
      "text/plain": [
       "            success_rate  successes  failures  errors\n",
       "mcts_depth                                           \n",
       "5               0.141509         15        89       2\n",
       "10              0.198113         21        82       3\n",
       "20              0.330189         35        67       4"
      ]
     },
     "execution_count": 52,
     "metadata": {},
     "output_type": "execute_result"
    }
   ],
   "source": [
    "df[[\"success_rate\", \"successes\", \"failures\", \"errors\"]]"
   ]
  },
  {
   "cell_type": "code",
   "execution_count": 53,
   "metadata": {},
   "outputs": [
    {
     "data": {
      "text/html": [
       "<div>\n",
       "<style scoped>\n",
       "    .dataframe tbody tr th:only-of-type {\n",
       "        vertical-align: middle;\n",
       "    }\n",
       "\n",
       "    .dataframe tbody tr th {\n",
       "        vertical-align: top;\n",
       "    }\n",
       "\n",
       "    .dataframe thead th {\n",
       "        text-align: right;\n",
       "    }\n",
       "</style>\n",
       "<table border=\"1\" class=\"dataframe\">\n",
       "  <thead>\n",
       "    <tr style=\"text-align: right;\">\n",
       "      <th></th>\n",
       "      <th>total_usd</th>\n",
       "      <th>avg_usd</th>\n",
       "    </tr>\n",
       "    <tr>\n",
       "      <th>mcts_depth</th>\n",
       "      <th></th>\n",
       "      <th></th>\n",
       "    </tr>\n",
       "  </thead>\n",
       "  <tbody>\n",
       "    <tr>\n",
       "      <th>5</th>\n",
       "      <td>4.861763</td>\n",
       "      <td>0.045866</td>\n",
       "    </tr>\n",
       "    <tr>\n",
       "      <th>10</th>\n",
       "      <td>6.413142</td>\n",
       "      <td>0.060501</td>\n",
       "    </tr>\n",
       "    <tr>\n",
       "      <th>20</th>\n",
       "      <td>9.009063</td>\n",
       "      <td>0.084991</td>\n",
       "    </tr>\n",
       "  </tbody>\n",
       "</table>\n",
       "</div>"
      ],
      "text/plain": [
       "            total_usd   avg_usd\n",
       "mcts_depth                     \n",
       "5            4.861763  0.045866\n",
       "10           6.413142  0.060501\n",
       "20           9.009063  0.084991"
      ]
     },
     "execution_count": 53,
     "metadata": {},
     "output_type": "execute_result"
    }
   ],
   "source": [
    "df[[\"total_usd\", \"avg_usd\"]]"
   ]
  },
  {
   "cell_type": "code",
   "execution_count": 54,
   "metadata": {},
   "outputs": [
    {
     "data": {
      "text/html": [
       "<div>\n",
       "<style scoped>\n",
       "    .dataframe tbody tr th:only-of-type {\n",
       "        vertical-align: middle;\n",
       "    }\n",
       "\n",
       "    .dataframe tbody tr th {\n",
       "        vertical-align: top;\n",
       "    }\n",
       "\n",
       "    .dataframe thead th {\n",
       "        text-align: right;\n",
       "    }\n",
       "</style>\n",
       "<table border=\"1\" class=\"dataframe\">\n",
       "  <thead>\n",
       "    <tr style=\"text-align: right;\">\n",
       "      <th></th>\n",
       "      <th>total_time</th>\n",
       "      <th>avg_time</th>\n",
       "    </tr>\n",
       "    <tr>\n",
       "      <th>mcts_depth</th>\n",
       "      <th></th>\n",
       "      <th></th>\n",
       "    </tr>\n",
       "  </thead>\n",
       "  <tbody>\n",
       "    <tr>\n",
       "      <th>5</th>\n",
       "      <td>40834.997811</td>\n",
       "      <td>385.235828</td>\n",
       "    </tr>\n",
       "    <tr>\n",
       "      <th>10</th>\n",
       "      <td>57128.987742</td>\n",
       "      <td>538.952715</td>\n",
       "    </tr>\n",
       "    <tr>\n",
       "      <th>20</th>\n",
       "      <td>91408.657527</td>\n",
       "      <td>862.345826</td>\n",
       "    </tr>\n",
       "  </tbody>\n",
       "</table>\n",
       "</div>"
      ],
      "text/plain": [
       "              total_time    avg_time\n",
       "mcts_depth                          \n",
       "5           40834.997811  385.235828\n",
       "10          57128.987742  538.952715\n",
       "20          91408.657527  862.345826"
      ]
     },
     "execution_count": 54,
     "metadata": {},
     "output_type": "execute_result"
    }
   ],
   "source": [
    "df[[\"total_time\", \"avg_time\"]]"
   ]
  },
  {
   "cell_type": "code",
   "execution_count": 55,
   "metadata": {},
   "outputs": [],
   "source": [
    "with open(f\"depth_experiment_df.pkl\", \"wb\") as f:\n",
    "  pickle.dump(df, f)"
   ]
  },
  {
   "cell_type": "code",
   "execution_count": 56,
   "metadata": {},
   "outputs": [
    {
     "data": {
      "text/plain": [
       "np.float64(0.21518763808320687)"
      ]
     },
     "execution_count": 56,
     "metadata": {},
     "output_type": "execute_result"
    }
   ],
   "source": [
    "df.loc[5].token_df.sum()[\"prompt_cached_tokens\"] / df.loc[20].token_df.sum()[\"total_tokens\"]"
   ]
  },
  {
   "cell_type": "code",
   "execution_count": 57,
   "metadata": {},
   "outputs": [
    {
     "data": {
      "text/plain": [
       "np.float64(0.3818400765842733)"
      ]
     },
     "execution_count": 57,
     "metadata": {},
     "output_type": "execute_result"
    }
   ],
   "source": [
    "df.loc[10].token_df.sum()[\"prompt_cached_tokens\"] / df.loc[20].token_df.sum()[\"total_tokens\"]"
   ]
  },
  {
   "cell_type": "code",
   "execution_count": 58,
   "metadata": {},
   "outputs": [
    {
     "data": {
      "text/plain": [
       "np.float64(0.5618936986507974)"
      ]
     },
     "execution_count": 58,
     "metadata": {},
     "output_type": "execute_result"
    }
   ],
   "source": [
    "df.loc[20].token_df.sum()[\"prompt_cached_tokens\"] / df.loc[20].token_df.sum()[\"total_tokens\"]"
   ]
  },
  {
   "cell_type": "code",
   "execution_count": 59,
   "metadata": {},
   "outputs": [
    {
     "data": {
      "text/html": [
       "<div>\n",
       "<style scoped>\n",
       "    .dataframe tbody tr th:only-of-type {\n",
       "        vertical-align: middle;\n",
       "    }\n",
       "\n",
       "    .dataframe tbody tr th {\n",
       "        vertical-align: top;\n",
       "    }\n",
       "\n",
       "    .dataframe thead th {\n",
       "        text-align: right;\n",
       "    }\n",
       "</style>\n",
       "<table border=\"1\" class=\"dataframe\">\n",
       "  <thead>\n",
       "    <tr style=\"text-align: right;\">\n",
       "      <th></th>\n",
       "      <th>task_name</th>\n",
       "      <th>usd_cost</th>\n",
       "      <th>prompt_tokens</th>\n",
       "      <th>prompt_cached_tokens</th>\n",
       "      <th>prompt_non_cached_tokens</th>\n",
       "      <th>completion_tokens</th>\n",
       "      <th>total_tokens</th>\n",
       "    </tr>\n",
       "  </thead>\n",
       "  <tbody>\n",
       "    <tr>\n",
       "      <th>0</th>\n",
       "      <td>webarena.729</td>\n",
       "      <td>0.076765</td>\n",
       "      <td>311490</td>\n",
       "      <td>156288</td>\n",
       "      <td>155202</td>\n",
       "      <td>69605</td>\n",
       "      <td>381095</td>\n",
       "    </tr>\n",
       "    <tr>\n",
       "      <th>1</th>\n",
       "      <td>webarena.728</td>\n",
       "      <td>0.019177</td>\n",
       "      <td>112349</td>\n",
       "      <td>65792</td>\n",
       "      <td>46557</td>\n",
       "      <td>12099</td>\n",
       "      <td>124448</td>\n",
       "    </tr>\n",
       "    <tr>\n",
       "      <th>2</th>\n",
       "      <td>webarena.623</td>\n",
       "      <td>0.016902</td>\n",
       "      <td>61611</td>\n",
       "      <td>19200</td>\n",
       "      <td>42411</td>\n",
       "      <td>15168</td>\n",
       "      <td>76779</td>\n",
       "    </tr>\n",
       "    <tr>\n",
       "      <th>3</th>\n",
       "      <td>webarena.638</td>\n",
       "      <td>0.041498</td>\n",
       "      <td>91548</td>\n",
       "      <td>66816</td>\n",
       "      <td>24732</td>\n",
       "      <td>54628</td>\n",
       "      <td>146176</td>\n",
       "    </tr>\n",
       "    <tr>\n",
       "      <th>4</th>\n",
       "      <td>webarena.714</td>\n",
       "      <td>0.144363</td>\n",
       "      <td>935611</td>\n",
       "      <td>324736</td>\n",
       "      <td>610875</td>\n",
       "      <td>47294</td>\n",
       "      <td>982905</td>\n",
       "    </tr>\n",
       "    <tr>\n",
       "      <th>...</th>\n",
       "      <td>...</td>\n",
       "      <td>...</td>\n",
       "      <td>...</td>\n",
       "      <td>...</td>\n",
       "      <td>...</td>\n",
       "      <td>...</td>\n",
       "      <td>...</td>\n",
       "    </tr>\n",
       "    <tr>\n",
       "      <th>101</th>\n",
       "      <td>webarena.620</td>\n",
       "      <td>0.036802</td>\n",
       "      <td>124030</td>\n",
       "      <td>47488</td>\n",
       "      <td>76542</td>\n",
       "      <td>36266</td>\n",
       "      <td>160296</td>\n",
       "    </tr>\n",
       "    <tr>\n",
       "      <th>102</th>\n",
       "      <td>webarena.69</td>\n",
       "      <td>0.017008</td>\n",
       "      <td>82730</td>\n",
       "      <td>10240</td>\n",
       "      <td>72490</td>\n",
       "      <td>8945</td>\n",
       "      <td>91675</td>\n",
       "    </tr>\n",
       "    <tr>\n",
       "      <th>103</th>\n",
       "      <td>webarena.28</td>\n",
       "      <td>0.048700</td>\n",
       "      <td>193754</td>\n",
       "      <td>157056</td>\n",
       "      <td>36698</td>\n",
       "      <td>52361</td>\n",
       "      <td>246115</td>\n",
       "    </tr>\n",
       "    <tr>\n",
       "      <th>104</th>\n",
       "      <td>webarena.602</td>\n",
       "      <td>0.040251</td>\n",
       "      <td>130235</td>\n",
       "      <td>67200</td>\n",
       "      <td>63035</td>\n",
       "      <td>42927</td>\n",
       "      <td>173162</td>\n",
       "    </tr>\n",
       "    <tr>\n",
       "      <th>105</th>\n",
       "      <td>webarena.615</td>\n",
       "      <td>0.069365</td>\n",
       "      <td>218248</td>\n",
       "      <td>88832</td>\n",
       "      <td>129416</td>\n",
       "      <td>72151</td>\n",
       "      <td>290399</td>\n",
       "    </tr>\n",
       "  </tbody>\n",
       "</table>\n",
       "<p>106 rows × 7 columns</p>\n",
       "</div>"
      ],
      "text/plain": [
       "        task_name  usd_cost  prompt_tokens  prompt_cached_tokens  \\\n",
       "0    webarena.729  0.076765         311490                156288   \n",
       "1    webarena.728  0.019177         112349                 65792   \n",
       "2    webarena.623  0.016902          61611                 19200   \n",
       "3    webarena.638  0.041498          91548                 66816   \n",
       "4    webarena.714  0.144363         935611                324736   \n",
       "..            ...       ...            ...                   ...   \n",
       "101  webarena.620  0.036802         124030                 47488   \n",
       "102   webarena.69  0.017008          82730                 10240   \n",
       "103   webarena.28  0.048700         193754                157056   \n",
       "104  webarena.602  0.040251         130235                 67200   \n",
       "105  webarena.615  0.069365         218248                 88832   \n",
       "\n",
       "     prompt_non_cached_tokens  completion_tokens  total_tokens  \n",
       "0                      155202              69605        381095  \n",
       "1                       46557              12099        124448  \n",
       "2                       42411              15168         76779  \n",
       "3                       24732              54628        146176  \n",
       "4                      610875              47294        982905  \n",
       "..                        ...                ...           ...  \n",
       "101                     76542              36266        160296  \n",
       "102                     72490               8945         91675  \n",
       "103                     36698              52361        246115  \n",
       "104                     63035              42927        173162  \n",
       "105                    129416              72151        290399  \n",
       "\n",
       "[106 rows x 7 columns]"
      ]
     },
     "execution_count": 59,
     "metadata": {},
     "output_type": "execute_result"
    }
   ],
   "source": [
    "df.loc[5].token_df"
   ]
  },
  {
   "cell_type": "code",
   "execution_count": 60,
   "metadata": {},
   "outputs": [
    {
     "data": {
      "text/html": [
       "<div>\n",
       "<style scoped>\n",
       "    .dataframe tbody tr th:only-of-type {\n",
       "        vertical-align: middle;\n",
       "    }\n",
       "\n",
       "    .dataframe tbody tr th {\n",
       "        vertical-align: top;\n",
       "    }\n",
       "\n",
       "    .dataframe thead th {\n",
       "        text-align: right;\n",
       "    }\n",
       "</style>\n",
       "<table border=\"1\" class=\"dataframe\">\n",
       "  <thead>\n",
       "    <tr style=\"text-align: right;\">\n",
       "      <th></th>\n",
       "      <th>completion_iteration</th>\n",
       "      <th>completion_depth</th>\n",
       "      <th>max_depth</th>\n",
       "      <th>env_steps_taken</th>\n",
       "    </tr>\n",
       "  </thead>\n",
       "  <tbody>\n",
       "    <tr>\n",
       "      <th>count</th>\n",
       "      <td>15.000000</td>\n",
       "      <td>15.000000</td>\n",
       "      <td>15.000000</td>\n",
       "      <td>15.000000</td>\n",
       "    </tr>\n",
       "    <tr>\n",
       "      <th>mean</th>\n",
       "      <td>0.866667</td>\n",
       "      <td>4.266667</td>\n",
       "      <td>4.400000</td>\n",
       "      <td>9.466667</td>\n",
       "    </tr>\n",
       "    <tr>\n",
       "      <th>std</th>\n",
       "      <td>2.474633</td>\n",
       "      <td>1.334523</td>\n",
       "      <td>1.404076</td>\n",
       "      <td>15.037414</td>\n",
       "    </tr>\n",
       "    <tr>\n",
       "      <th>min</th>\n",
       "      <td>0.000000</td>\n",
       "      <td>2.000000</td>\n",
       "      <td>2.000000</td>\n",
       "      <td>2.000000</td>\n",
       "    </tr>\n",
       "    <tr>\n",
       "      <th>25%</th>\n",
       "      <td>0.000000</td>\n",
       "      <td>4.000000</td>\n",
       "      <td>4.000000</td>\n",
       "      <td>4.000000</td>\n",
       "    </tr>\n",
       "    <tr>\n",
       "      <th>50%</th>\n",
       "      <td>0.000000</td>\n",
       "      <td>4.000000</td>\n",
       "      <td>4.000000</td>\n",
       "      <td>4.000000</td>\n",
       "    </tr>\n",
       "    <tr>\n",
       "      <th>75%</th>\n",
       "      <td>0.000000</td>\n",
       "      <td>5.500000</td>\n",
       "      <td>6.000000</td>\n",
       "      <td>6.000000</td>\n",
       "    </tr>\n",
       "    <tr>\n",
       "      <th>max</th>\n",
       "      <td>9.000000</td>\n",
       "      <td>6.000000</td>\n",
       "      <td>6.000000</td>\n",
       "      <td>58.000000</td>\n",
       "    </tr>\n",
       "  </tbody>\n",
       "</table>\n",
       "</div>"
      ],
      "text/plain": [
       "       completion_iteration  completion_depth  max_depth  env_steps_taken\n",
       "count             15.000000         15.000000  15.000000        15.000000\n",
       "mean               0.866667          4.266667   4.400000         9.466667\n",
       "std                2.474633          1.334523   1.404076        15.037414\n",
       "min                0.000000          2.000000   2.000000         2.000000\n",
       "25%                0.000000          4.000000   4.000000         4.000000\n",
       "50%                0.000000          4.000000   4.000000         4.000000\n",
       "75%                0.000000          5.500000   6.000000         6.000000\n",
       "max                9.000000          6.000000   6.000000        58.000000"
      ]
     },
     "execution_count": 60,
     "metadata": {},
     "output_type": "execute_result"
    }
   ],
   "source": [
    "df.loc[5].mcts_df.describe()"
   ]
  },
  {
   "cell_type": "code",
   "execution_count": 61,
   "metadata": {},
   "outputs": [
    {
     "data": {
      "text/html": [
       "<div>\n",
       "<style scoped>\n",
       "    .dataframe tbody tr th:only-of-type {\n",
       "        vertical-align: middle;\n",
       "    }\n",
       "\n",
       "    .dataframe tbody tr th {\n",
       "        vertical-align: top;\n",
       "    }\n",
       "\n",
       "    .dataframe thead th {\n",
       "        text-align: right;\n",
       "    }\n",
       "</style>\n",
       "<table border=\"1\" class=\"dataframe\">\n",
       "  <thead>\n",
       "    <tr style=\"text-align: right;\">\n",
       "      <th></th>\n",
       "      <th>completion_iteration</th>\n",
       "      <th>completion_depth</th>\n",
       "      <th>max_depth</th>\n",
       "      <th>env_steps_taken</th>\n",
       "    </tr>\n",
       "  </thead>\n",
       "  <tbody>\n",
       "    <tr>\n",
       "      <th>count</th>\n",
       "      <td>21.000000</td>\n",
       "      <td>21.000000</td>\n",
       "      <td>21.000000</td>\n",
       "      <td>21.000000</td>\n",
       "    </tr>\n",
       "    <tr>\n",
       "      <th>mean</th>\n",
       "      <td>0.857143</td>\n",
       "      <td>5.238095</td>\n",
       "      <td>5.285714</td>\n",
       "      <td>10.095238</td>\n",
       "    </tr>\n",
       "    <tr>\n",
       "      <th>std</th>\n",
       "      <td>2.151411</td>\n",
       "      <td>2.022493</td>\n",
       "      <td>2.148089</td>\n",
       "      <td>16.682041</td>\n",
       "    </tr>\n",
       "    <tr>\n",
       "      <th>min</th>\n",
       "      <td>0.000000</td>\n",
       "      <td>2.000000</td>\n",
       "      <td>2.000000</td>\n",
       "      <td>2.000000</td>\n",
       "    </tr>\n",
       "    <tr>\n",
       "      <th>25%</th>\n",
       "      <td>0.000000</td>\n",
       "      <td>4.000000</td>\n",
       "      <td>4.000000</td>\n",
       "      <td>5.000000</td>\n",
       "    </tr>\n",
       "    <tr>\n",
       "      <th>50%</th>\n",
       "      <td>0.000000</td>\n",
       "      <td>5.000000</td>\n",
       "      <td>5.000000</td>\n",
       "      <td>5.000000</td>\n",
       "    </tr>\n",
       "    <tr>\n",
       "      <th>75%</th>\n",
       "      <td>0.000000</td>\n",
       "      <td>6.000000</td>\n",
       "      <td>6.000000</td>\n",
       "      <td>8.000000</td>\n",
       "    </tr>\n",
       "    <tr>\n",
       "      <th>max</th>\n",
       "      <td>8.000000</td>\n",
       "      <td>10.000000</td>\n",
       "      <td>11.000000</td>\n",
       "      <td>80.000000</td>\n",
       "    </tr>\n",
       "  </tbody>\n",
       "</table>\n",
       "</div>"
      ],
      "text/plain": [
       "       completion_iteration  completion_depth  max_depth  env_steps_taken\n",
       "count             21.000000         21.000000  21.000000        21.000000\n",
       "mean               0.857143          5.238095   5.285714        10.095238\n",
       "std                2.151411          2.022493   2.148089        16.682041\n",
       "min                0.000000          2.000000   2.000000         2.000000\n",
       "25%                0.000000          4.000000   4.000000         5.000000\n",
       "50%                0.000000          5.000000   5.000000         5.000000\n",
       "75%                0.000000          6.000000   6.000000         8.000000\n",
       "max                8.000000         10.000000  11.000000        80.000000"
      ]
     },
     "execution_count": 61,
     "metadata": {},
     "output_type": "execute_result"
    }
   ],
   "source": [
    "df.loc[10].mcts_df.describe()"
   ]
  },
  {
   "cell_type": "code",
   "execution_count": 62,
   "metadata": {},
   "outputs": [
    {
     "data": {
      "text/plain": [
       "completion_depth\n",
       "2.0     2\n",
       "3.0     2\n",
       "4.0     2\n",
       "5.0     7\n",
       "6.0     5\n",
       "8.0     1\n",
       "9.0     1\n",
       "10.0    1\n",
       "Name: count, dtype: int64"
      ]
     },
     "execution_count": 62,
     "metadata": {},
     "output_type": "execute_result"
    }
   ],
   "source": [
    "df.loc[10].mcts_df[\"completion_depth\"].value_counts().sort_index()"
   ]
  },
  {
   "cell_type": "code",
   "execution_count": 63,
   "metadata": {},
   "outputs": [
    {
     "data": {
      "text/plain": [
       "completion_depth\n",
       "2.0     3\n",
       "3.0     4\n",
       "4.0     4\n",
       "5.0     3\n",
       "6.0     2\n",
       "7.0     7\n",
       "8.0     5\n",
       "9.0     1\n",
       "10.0    1\n",
       "12.0    1\n",
       "16.0    1\n",
       "19.0    2\n",
       "21.0    1\n",
       "Name: count, dtype: int64"
      ]
     },
     "execution_count": 63,
     "metadata": {},
     "output_type": "execute_result"
    }
   ],
   "source": [
    "df.loc[20].mcts_df[\"completion_depth\"].value_counts().sort_index()"
   ]
  },
  {
   "cell_type": "code",
   "execution_count": 74,
   "metadata": {},
   "outputs": [
    {
     "data": {
      "text/plain": [
       "np.int64(35)"
      ]
     },
     "execution_count": 74,
     "metadata": {},
     "output_type": "execute_result"
    }
   ],
   "source": [
    "df.loc[20].mcts_df.env_steps_taken.notna().sum()"
   ]
  },
  {
   "cell_type": "code",
   "execution_count": 64,
   "metadata": {},
   "outputs": [
    {
     "data": {
      "text/plain": [
       "<Axes: xlabel='completion_depth'>"
      ]
     },
     "execution_count": 64,
     "metadata": {},
     "output_type": "execute_result"
    },
    {
     "data": {
      "image/png": "[encoded data removed]",
      "text/plain": [
       "<Figure size 640x480 with 1 Axes>"
      ]
     },
     "metadata": {},
     "output_type": "display_data"
    }
   ],
   "source": [
    "df.loc[5].mcts_df.completion_depth.value_counts().sort_index().cumsum().plot()"
   ]
  },
  {
   "cell_type": "code",
   "execution_count": 82,
   "metadata": {},
   "outputs": [
    {
     "data": {
      "text/plain": [
       "<Axes: xlabel='completion_depth'>"
      ]
     },
     "execution_count": 82,
     "metadata": {},
     "output_type": "execute_result"
    },
    {
     "data": {
      "image/png": "[encoded data removed]",
      "text/plain": [
       "<Figure size 640x480 with 1 Axes>"
      ]
     },
     "metadata": {},
     "output_type": "display_data"
    }
   ],
   "source": [
    "df.loc[10].mcts_df.completion_depth.value_counts().sort_index().cumsum().plot()"
   ]
  },
  {
   "cell_type": "code",
   "execution_count": 91,
   "metadata": {},
   "outputs": [
    {
     "data": {
      "text/html": [
       "<div>\n",
       "<style scoped>\n",
       "    .dataframe tbody tr th:only-of-type {\n",
       "        vertical-align: middle;\n",
       "    }\n",
       "\n",
       "    .dataframe tbody tr th {\n",
       "        vertical-align: top;\n",
       "    }\n",
       "\n",
       "    .dataframe thead th {\n",
       "        text-align: right;\n",
       "    }\n",
       "</style>\n",
       "<table border=\"1\" class=\"dataframe\">\n",
       "  <thead>\n",
       "    <tr style=\"text-align: right;\">\n",
       "      <th></th>\n",
       "      <th>task_name</th>\n",
       "      <th>usd_cost</th>\n",
       "      <th>prompt_tokens</th>\n",
       "      <th>prompt_cached_tokens</th>\n",
       "      <th>prompt_non_cached_tokens</th>\n",
       "      <th>completion_tokens</th>\n",
       "      <th>total_tokens</th>\n",
       "    </tr>\n",
       "  </thead>\n",
       "  <tbody>\n",
       "    <tr>\n",
       "      <th>56</th>\n",
       "      <td>webarena.714</td>\n",
       "      <td>0.324518</td>\n",
       "      <td>2531530</td>\n",
       "      <td>1685888</td>\n",
       "      <td>845642</td>\n",
       "      <td>118716</td>\n",
       "      <td>2650246</td>\n",
       "    </tr>\n",
       "    <tr>\n",
       "      <th>22</th>\n",
       "      <td>webarena.619</td>\n",
       "      <td>0.288282</td>\n",
       "      <td>1030367</td>\n",
       "      <td>456832</td>\n",
       "      <td>573535</td>\n",
       "      <td>279983</td>\n",
       "      <td>1310350</td>\n",
       "    </tr>\n",
       "    <tr>\n",
       "      <th>49</th>\n",
       "      <td>webarena.28</td>\n",
       "      <td>0.272297</td>\n",
       "      <td>2146318</td>\n",
       "      <td>1767168</td>\n",
       "      <td>379150</td>\n",
       "      <td>138145</td>\n",
       "      <td>2284463</td>\n",
       "    </tr>\n",
       "    <tr>\n",
       "      <th>36</th>\n",
       "      <td>webarena.31</td>\n",
       "      <td>0.258785</td>\n",
       "      <td>1617441</td>\n",
       "      <td>1063168</td>\n",
       "      <td>554273</td>\n",
       "      <td>159844</td>\n",
       "      <td>1777285</td>\n",
       "    </tr>\n",
       "    <tr>\n",
       "      <th>71</th>\n",
       "      <td>webarena.722</td>\n",
       "      <td>0.242422</td>\n",
       "      <td>1235592</td>\n",
       "      <td>714752</td>\n",
       "      <td>520840</td>\n",
       "      <td>184483</td>\n",
       "      <td>1420075</td>\n",
       "    </tr>\n",
       "    <tr>\n",
       "      <th>...</th>\n",
       "      <td>...</td>\n",
       "      <td>...</td>\n",
       "      <td>...</td>\n",
       "      <td>...</td>\n",
       "      <td>...</td>\n",
       "      <td>...</td>\n",
       "      <td>...</td>\n",
       "    </tr>\n",
       "    <tr>\n",
       "      <th>17</th>\n",
       "      <td>webarena.30</td>\n",
       "      <td>0.011015</td>\n",
       "      <td>43091</td>\n",
       "      <td>17152</td>\n",
       "      <td>25939</td>\n",
       "      <td>9730</td>\n",
       "      <td>52821</td>\n",
       "    </tr>\n",
       "    <tr>\n",
       "      <th>12</th>\n",
       "      <td>webarena.582</td>\n",
       "      <td>0.009629</td>\n",
       "      <td>21973</td>\n",
       "      <td>3968</td>\n",
       "      <td>18005</td>\n",
       "      <td>11051</td>\n",
       "      <td>33024</td>\n",
       "    </tr>\n",
       "    <tr>\n",
       "      <th>31</th>\n",
       "      <td>webarena.400</td>\n",
       "      <td>0.009412</td>\n",
       "      <td>21273</td>\n",
       "      <td>5504</td>\n",
       "      <td>15769</td>\n",
       "      <td>11056</td>\n",
       "      <td>32329</td>\n",
       "    </tr>\n",
       "    <tr>\n",
       "      <th>6</th>\n",
       "      <td>webarena.404</td>\n",
       "      <td>0.005121</td>\n",
       "      <td>8705</td>\n",
       "      <td>4608</td>\n",
       "      <td>4097</td>\n",
       "      <td>6934</td>\n",
       "      <td>15639</td>\n",
       "    </tr>\n",
       "    <tr>\n",
       "      <th>90</th>\n",
       "      <td>webarena.652</td>\n",
       "      <td>0.002772</td>\n",
       "      <td>8911</td>\n",
       "      <td>0</td>\n",
       "      <td>8911</td>\n",
       "      <td>2393</td>\n",
       "      <td>11304</td>\n",
       "    </tr>\n",
       "  </tbody>\n",
       "</table>\n",
       "<p>106 rows × 7 columns</p>\n",
       "</div>"
      ],
      "text/plain": [
       "       task_name  usd_cost  prompt_tokens  prompt_cached_tokens  \\\n",
       "56  webarena.714  0.324518        2531530               1685888   \n",
       "22  webarena.619  0.288282        1030367                456832   \n",
       "49   webarena.28  0.272297        2146318               1767168   \n",
       "36   webarena.31  0.258785        1617441               1063168   \n",
       "71  webarena.722  0.242422        1235592                714752   \n",
       "..           ...       ...            ...                   ...   \n",
       "17   webarena.30  0.011015          43091                 17152   \n",
       "12  webarena.582  0.009629          21973                  3968   \n",
       "31  webarena.400  0.009412          21273                  5504   \n",
       "6   webarena.404  0.005121           8705                  4608   \n",
       "90  webarena.652  0.002772           8911                     0   \n",
       "\n",
       "    prompt_non_cached_tokens  completion_tokens  total_tokens  \n",
       "56                    845642             118716       2650246  \n",
       "22                    573535             279983       1310350  \n",
       "49                    379150             138145       2284463  \n",
       "36                    554273             159844       1777285  \n",
       "71                    520840             184483       1420075  \n",
       "..                       ...                ...           ...  \n",
       "17                     25939               9730         52821  \n",
       "12                     18005              11051         33024  \n",
       "31                     15769              11056         32329  \n",
       "6                       4097               6934         15639  \n",
       "90                      8911               2393         11304  \n",
       "\n",
       "[106 rows x 7 columns]"
      ]
     },
     "execution_count": 91,
     "metadata": {},
     "output_type": "execute_result"
    }
   ],
   "source": [
    "df.loc[20].token_df.sort_values(\"usd_cost\", ascending=False)"
   ]
  },
  {
   "cell_type": "code",
   "execution_count": 89,
   "metadata": {},
   "outputs": [
    {
     "data": {
      "text/html": [
       "<div>\n",
       "<style scoped>\n",
       "    .dataframe tbody tr th:only-of-type {\n",
       "        vertical-align: middle;\n",
       "    }\n",
       "\n",
       "    .dataframe tbody tr th {\n",
       "        vertical-align: top;\n",
       "    }\n",
       "\n",
       "    .dataframe thead th {\n",
       "        text-align: right;\n",
       "    }\n",
       "</style>\n",
       "<table border=\"1\" class=\"dataframe\">\n",
       "  <thead>\n",
       "    <tr style=\"text-align: right;\">\n",
       "      <th></th>\n",
       "      <th>completion_iteration</th>\n",
       "      <th>completion_depth</th>\n",
       "      <th>max_depth</th>\n",
       "    </tr>\n",
       "    <tr>\n",
       "      <th>task_name</th>\n",
       "      <th></th>\n",
       "      <th></th>\n",
       "      <th></th>\n",
       "    </tr>\n",
       "  </thead>\n",
       "  <tbody>\n",
       "    <tr>\n",
       "      <th>webarena.716</th>\n",
       "      <td>0.0</td>\n",
       "      <td>21.0</td>\n",
       "      <td>21.0</td>\n",
       "    </tr>\n",
       "    <tr>\n",
       "      <th>webarena.600</th>\n",
       "      <td>4.0</td>\n",
       "      <td>19.0</td>\n",
       "      <td>21.0</td>\n",
       "    </tr>\n",
       "    <tr>\n",
       "      <th>webarena.647</th>\n",
       "      <td>3.0</td>\n",
       "      <td>19.0</td>\n",
       "      <td>21.0</td>\n",
       "    </tr>\n",
       "    <tr>\n",
       "      <th>webarena.609</th>\n",
       "      <td>0.0</td>\n",
       "      <td>16.0</td>\n",
       "      <td>16.0</td>\n",
       "    </tr>\n",
       "    <tr>\n",
       "      <th>webarena.613</th>\n",
       "      <td>0.0</td>\n",
       "      <td>12.0</td>\n",
       "      <td>12.0</td>\n",
       "    </tr>\n",
       "    <tr>\n",
       "      <th>...</th>\n",
       "      <td>...</td>\n",
       "      <td>...</td>\n",
       "      <td>...</td>\n",
       "    </tr>\n",
       "    <tr>\n",
       "      <th>webarena.733</th>\n",
       "      <td>NaN</td>\n",
       "      <td>NaN</td>\n",
       "      <td>NaN</td>\n",
       "    </tr>\n",
       "    <tr>\n",
       "      <th>webarena.646</th>\n",
       "      <td>NaN</td>\n",
       "      <td>NaN</td>\n",
       "      <td>NaN</td>\n",
       "    </tr>\n",
       "    <tr>\n",
       "      <th>webarena.648</th>\n",
       "      <td>NaN</td>\n",
       "      <td>NaN</td>\n",
       "      <td>NaN</td>\n",
       "    </tr>\n",
       "    <tr>\n",
       "      <th>webarena.624</th>\n",
       "      <td>NaN</td>\n",
       "      <td>NaN</td>\n",
       "      <td>NaN</td>\n",
       "    </tr>\n",
       "    <tr>\n",
       "      <th>webarena.725</th>\n",
       "      <td>NaN</td>\n",
       "      <td>NaN</td>\n",
       "      <td>NaN</td>\n",
       "    </tr>\n",
       "  </tbody>\n",
       "</table>\n",
       "<p>106 rows × 3 columns</p>\n",
       "</div>"
      ],
      "text/plain": [
       "              completion_iteration  completion_depth  max_depth\n",
       "task_name                                                      \n",
       "webarena.716                   0.0              21.0       21.0\n",
       "webarena.600                   4.0              19.0       21.0\n",
       "webarena.647                   3.0              19.0       21.0\n",
       "webarena.609                   0.0              16.0       16.0\n",
       "webarena.613                   0.0              12.0       12.0\n",
       "...                            ...               ...        ...\n",
       "webarena.733                   NaN               NaN        NaN\n",
       "webarena.646                   NaN               NaN        NaN\n",
       "webarena.648                   NaN               NaN        NaN\n",
       "webarena.624                   NaN               NaN        NaN\n",
       "webarena.725                   NaN               NaN        NaN\n",
       "\n",
       "[106 rows x 3 columns]"
      ]
     },
     "execution_count": 89,
     "metadata": {},
     "output_type": "execute_result"
    }
   ],
   "source": [
    "df.loc[20].mcts_df.sort_values(\"completion_depth\", ascending=False)"
   ]
  },
  {
   "cell_type": "code",
   "execution_count": null,
   "metadata": {},
   "outputs": [],
   "source": [
    "df.loc"
   ]
  },
  {
   "cell_type": "code",
   "execution_count": 116,
   "metadata": {},
   "outputs": [
    {
     "data": {
      "text/html": [
       "<div>\n",
       "<style scoped>\n",
       "    .dataframe tbody tr th:only-of-type {\n",
       "        vertical-align: middle;\n",
       "    }\n",
       "\n",
       "    .dataframe tbody tr th {\n",
       "        vertical-align: top;\n",
       "    }\n",
       "\n",
       "    .dataframe thead th {\n",
       "        text-align: right;\n",
       "    }\n",
       "</style>\n",
       "<table border=\"1\" class=\"dataframe\">\n",
       "  <thead>\n",
       "    <tr style=\"text-align: right;\">\n",
       "      <th></th>\n",
       "      <th>completion_iteration</th>\n",
       "      <th>completion_depth</th>\n",
       "      <th>max_depth</th>\n",
       "    </tr>\n",
       "    <tr>\n",
       "      <th>task_name</th>\n",
       "      <th></th>\n",
       "      <th></th>\n",
       "      <th></th>\n",
       "    </tr>\n",
       "  </thead>\n",
       "  <tbody>\n",
       "    <tr>\n",
       "      <th>webarena.581</th>\n",
       "      <td>0.0</td>\n",
       "      <td>8.0</td>\n",
       "      <td>8.0</td>\n",
       "    </tr>\n",
       "    <tr>\n",
       "      <th>webarena.29</th>\n",
       "      <td>NaN</td>\n",
       "      <td>NaN</td>\n",
       "      <td>NaN</td>\n",
       "    </tr>\n",
       "    <tr>\n",
       "      <th>webarena.409</th>\n",
       "      <td>NaN</td>\n",
       "      <td>NaN</td>\n",
       "      <td>NaN</td>\n",
       "    </tr>\n",
       "    <tr>\n",
       "      <th>webarena.403</th>\n",
       "      <td>0.0</td>\n",
       "      <td>8.0</td>\n",
       "      <td>8.0</td>\n",
       "    </tr>\n",
       "    <tr>\n",
       "      <th>webarena.584</th>\n",
       "      <td>NaN</td>\n",
       "      <td>NaN</td>\n",
       "      <td>NaN</td>\n",
       "    </tr>\n",
       "    <tr>\n",
       "      <th>...</th>\n",
       "      <td>...</td>\n",
       "      <td>...</td>\n",
       "      <td>...</td>\n",
       "    </tr>\n",
       "    <tr>\n",
       "      <th>webarena.646</th>\n",
       "      <td>NaN</td>\n",
       "      <td>NaN</td>\n",
       "      <td>NaN</td>\n",
       "    </tr>\n",
       "    <tr>\n",
       "      <th>webarena.648</th>\n",
       "      <td>NaN</td>\n",
       "      <td>NaN</td>\n",
       "      <td>NaN</td>\n",
       "    </tr>\n",
       "    <tr>\n",
       "      <th>webarena.621</th>\n",
       "      <td>0.0</td>\n",
       "      <td>7.0</td>\n",
       "      <td>7.0</td>\n",
       "    </tr>\n",
       "    <tr>\n",
       "      <th>webarena.624</th>\n",
       "      <td>NaN</td>\n",
       "      <td>NaN</td>\n",
       "      <td>NaN</td>\n",
       "    </tr>\n",
       "    <tr>\n",
       "      <th>webarena.725</th>\n",
       "      <td>NaN</td>\n",
       "      <td>NaN</td>\n",
       "      <td>NaN</td>\n",
       "    </tr>\n",
       "  </tbody>\n",
       "</table>\n",
       "<p>106 rows × 3 columns</p>\n",
       "</div>"
      ],
      "text/plain": [
       "              completion_iteration  completion_depth  max_depth\n",
       "task_name                                                      \n",
       "webarena.581                   0.0               8.0        8.0\n",
       "webarena.29                    NaN               NaN        NaN\n",
       "webarena.409                   NaN               NaN        NaN\n",
       "webarena.403                   0.0               8.0        8.0\n",
       "webarena.584                   NaN               NaN        NaN\n",
       "...                            ...               ...        ...\n",
       "webarena.646                   NaN               NaN        NaN\n",
       "webarena.648                   NaN               NaN        NaN\n",
       "webarena.621                   0.0               7.0        7.0\n",
       "webarena.624                   NaN               NaN        NaN\n",
       "webarena.725                   NaN               NaN        NaN\n",
       "\n",
       "[106 rows x 3 columns]"
      ]
     },
     "execution_count": 116,
     "metadata": {},
     "output_type": "execute_result"
    }
   ],
   "source": [
    "# \n",
    "df.loc[20].mcts_df"
   ]
  },
  {
   "cell_type": "code",
   "execution_count": 118,
   "metadata": {},
   "outputs": [
    {
     "data": {
      "text/plain": [
       "completion_iteration\n",
       "4.0     1\n",
       "8.0     1\n",
       "3.0     1\n",
       "2.0     3\n",
       "0.0    29\n",
       "Name: count, dtype: int64"
      ]
     },
     "execution_count": 118,
     "metadata": {},
     "output_type": "execute_result"
    }
   ],
   "source": [
    "df.loc[20].mcts_df[\"completion_iteration\"].value_counts().sort_values()"
   ]
  },
  {
   "cell_type": "code",
   "execution_count": 119,
   "metadata": {},
   "outputs": [
    {
     "data": {
      "text/plain": [
       "task_name\n",
       "webarena.581     True\n",
       "webarena.29     False\n",
       "webarena.409    False\n",
       "webarena.403     True\n",
       "webarena.584    False\n",
       "                ...  \n",
       "webarena.646    False\n",
       "webarena.648    False\n",
       "webarena.621     True\n",
       "webarena.624    False\n",
       "webarena.725    False\n",
       "Name: completion_iteration, Length: 106, dtype: bool"
      ]
     },
     "execution_count": 119,
     "metadata": {},
     "output_type": "execute_result"
    }
   ],
   "source": [
    "df.loc[20].mcts_df[\"completion_iteration\"] == 0"
   ]
  },
  {
   "cell_type": "code",
   "execution_count": 81,
   "metadata": {},
   "outputs": [
    {
     "data": {
      "text/plain": [
       "Text(0.5, 1.0, 'Tasks Completed V.S. Env Steps Taken')"
      ]
     },
     "execution_count": 81,
     "metadata": {},
     "output_type": "execute_result"
    },
    {
     "data": {
      "image/png": "[encoded data removed]",
      "text/plain": [
       "<Figure size 640x480 with 1 Axes>"
      ]
     },
     "metadata": {},
     "output_type": "display_data"
    }
   ],
   "source": [
    "df.loc[20].mcts_df[\n",
    "(df.loc[20].mcts_df[\"completion_iteration\"] >= 0)\n",
    "].env_steps_taken.value_counts().sort_index().cumsum().plot()\n",
    "plt.xlabel(\"Env Steps\")\n",
    "plt.ylabel(\"Tasks Completed\")\n",
    "# plt.ylim(0, 1)\n",
    "plt.title(\"Tasks Completed V.S. Env Steps Taken\")"
   ]
  },
  {
   "cell_type": "code",
   "execution_count": null,
   "metadata": {},
   "outputs": [],
   "source": [
    "df.loc[20].mcts_df[\n",
    "(df.loc[20].mcts_df[\"completion_iteration\"] == 0)\n",
    "].env_steps_taken.value_counts().sort_index().cumsum().plot()"
   ]
  },
  {
   "cell_type": "code",
   "execution_count": 75,
   "metadata": {},
   "outputs": [
    {
     "data": {
      "text/plain": [
       "<Axes: xlabel='env_steps_taken'>"
      ]
     },
     "execution_count": 75,
     "metadata": {},
     "output_type": "execute_result"
    },
    {
     "data": {
      "image/png": "[encoded data removed]",
      "text/plain": [
       "<Figure size 640x480 with 1 Axes>"
      ]
     },
     "metadata": {},
     "output_type": "display_data"
    }
   ],
   "source": [
    "df.loc[20].mcts_df[\n",
    "(df.loc[20].mcts_df[\"completion_iteration\"] == 0)\n",
    "].env_steps_taken.value_counts().sort_index().cumsum().plot()"
   ]
  },
  {
   "cell_type": "code",
   "execution_count": 122,
   "metadata": {},
   "outputs": [
    {
     "data": {
      "text/plain": [
       "<Axes: xlabel='completion_depth'>"
      ]
     },
     "execution_count": 122,
     "metadata": {},
     "output_type": "execute_result"
    },
    {
     "data": {
      "image/png": "[encoded data removed]",
      "text/plain": [
       "<Figure size 640x480 with 1 Axes>"
      ]
     },
     "metadata": {},
     "output_type": "display_data"
    }
   ],
   "source": [
    "df.loc[20].mcts_df[\n",
    "(df.loc[20].mcts_df[\"completion_iteration\"] == 0)\n",
    "].completion_depth.value_counts().sort_index().cumsum().plot()"
   ]
  },
  {
   "cell_type": "code",
   "execution_count": 120,
   "metadata": {},
   "outputs": [
    {
     "data": {
      "text/html": [
       "<div>\n",
       "<style scoped>\n",
       "    .dataframe tbody tr th:only-of-type {\n",
       "        vertical-align: middle;\n",
       "    }\n",
       "\n",
       "    .dataframe tbody tr th {\n",
       "        vertical-align: top;\n",
       "    }\n",
       "\n",
       "    .dataframe thead th {\n",
       "        text-align: right;\n",
       "    }\n",
       "</style>\n",
       "<table border=\"1\" class=\"dataframe\">\n",
       "  <thead>\n",
       "    <tr style=\"text-align: right;\">\n",
       "      <th></th>\n",
       "      <th>completion_iteration</th>\n",
       "      <th>completion_depth</th>\n",
       "      <th>max_depth</th>\n",
       "    </tr>\n",
       "    <tr>\n",
       "      <th>task_name</th>\n",
       "      <th></th>\n",
       "      <th></th>\n",
       "      <th></th>\n",
       "    </tr>\n",
       "  </thead>\n",
       "  <tbody>\n",
       "    <tr>\n",
       "      <th>webarena.581</th>\n",
       "      <td>0.0</td>\n",
       "      <td>8.0</td>\n",
       "      <td>8.0</td>\n",
       "    </tr>\n",
       "    <tr>\n",
       "      <th>webarena.403</th>\n",
       "      <td>0.0</td>\n",
       "      <td>8.0</td>\n",
       "      <td>8.0</td>\n",
       "    </tr>\n",
       "    <tr>\n",
       "      <th>webarena.605</th>\n",
       "      <td>0.0</td>\n",
       "      <td>2.0</td>\n",
       "      <td>2.0</td>\n",
       "    </tr>\n",
       "    <tr>\n",
       "      <th>webarena.582</th>\n",
       "      <td>0.0</td>\n",
       "      <td>4.0</td>\n",
       "      <td>4.0</td>\n",
       "    </tr>\n",
       "    <tr>\n",
       "      <th>webarena.596</th>\n",
       "      <td>0.0</td>\n",
       "      <td>4.0</td>\n",
       "      <td>4.0</td>\n",
       "    </tr>\n",
       "    <tr>\n",
       "      <th>webarena.609</th>\n",
       "      <td>0.0</td>\n",
       "      <td>16.0</td>\n",
       "      <td>16.0</td>\n",
       "    </tr>\n",
       "    <tr>\n",
       "      <th>webarena.399</th>\n",
       "      <td>0.0</td>\n",
       "      <td>6.0</td>\n",
       "      <td>6.0</td>\n",
       "    </tr>\n",
       "    <tr>\n",
       "      <th>webarena.607</th>\n",
       "      <td>0.0</td>\n",
       "      <td>3.0</td>\n",
       "      <td>3.0</td>\n",
       "    </tr>\n",
       "    <tr>\n",
       "      <th>webarena.610</th>\n",
       "      <td>0.0</td>\n",
       "      <td>9.0</td>\n",
       "      <td>9.0</td>\n",
       "    </tr>\n",
       "    <tr>\n",
       "      <th>webarena.400</th>\n",
       "      <td>0.0</td>\n",
       "      <td>6.0</td>\n",
       "      <td>6.0</td>\n",
       "    </tr>\n",
       "    <tr>\n",
       "      <th>webarena.595</th>\n",
       "      <td>0.0</td>\n",
       "      <td>5.0</td>\n",
       "      <td>5.0</td>\n",
       "    </tr>\n",
       "    <tr>\n",
       "      <th>webarena.597</th>\n",
       "      <td>0.0</td>\n",
       "      <td>7.0</td>\n",
       "      <td>7.0</td>\n",
       "    </tr>\n",
       "    <tr>\n",
       "      <th>webarena.580</th>\n",
       "      <td>0.0</td>\n",
       "      <td>8.0</td>\n",
       "      <td>8.0</td>\n",
       "    </tr>\n",
       "    <tr>\n",
       "      <th>webarena.613</th>\n",
       "      <td>0.0</td>\n",
       "      <td>12.0</td>\n",
       "      <td>12.0</td>\n",
       "    </tr>\n",
       "    <tr>\n",
       "      <th>webarena.620</th>\n",
       "      <td>0.0</td>\n",
       "      <td>7.0</td>\n",
       "      <td>7.0</td>\n",
       "    </tr>\n",
       "    <tr>\n",
       "      <th>webarena.69</th>\n",
       "      <td>0.0</td>\n",
       "      <td>4.0</td>\n",
       "      <td>4.0</td>\n",
       "    </tr>\n",
       "    <tr>\n",
       "      <th>webarena.602</th>\n",
       "      <td>0.0</td>\n",
       "      <td>5.0</td>\n",
       "      <td>5.0</td>\n",
       "    </tr>\n",
       "    <tr>\n",
       "      <th>webarena.729</th>\n",
       "      <td>0.0</td>\n",
       "      <td>3.0</td>\n",
       "      <td>3.0</td>\n",
       "    </tr>\n",
       "    <tr>\n",
       "      <th>webarena.728</th>\n",
       "      <td>0.0</td>\n",
       "      <td>3.0</td>\n",
       "      <td>3.0</td>\n",
       "    </tr>\n",
       "    <tr>\n",
       "      <th>webarena.623</th>\n",
       "      <td>0.0</td>\n",
       "      <td>7.0</td>\n",
       "      <td>7.0</td>\n",
       "    </tr>\n",
       "    <tr>\n",
       "      <th>webarena.631</th>\n",
       "      <td>0.0</td>\n",
       "      <td>10.0</td>\n",
       "      <td>10.0</td>\n",
       "    </tr>\n",
       "    <tr>\n",
       "      <th>webarena.651</th>\n",
       "      <td>0.0</td>\n",
       "      <td>2.0</td>\n",
       "      <td>2.0</td>\n",
       "    </tr>\n",
       "    <tr>\n",
       "      <th>webarena.734</th>\n",
       "      <td>0.0</td>\n",
       "      <td>8.0</td>\n",
       "      <td>8.0</td>\n",
       "    </tr>\n",
       "    <tr>\n",
       "      <th>webarena.622</th>\n",
       "      <td>0.0</td>\n",
       "      <td>7.0</td>\n",
       "      <td>7.0</td>\n",
       "    </tr>\n",
       "    <tr>\n",
       "      <th>webarena.716</th>\n",
       "      <td>0.0</td>\n",
       "      <td>21.0</td>\n",
       "      <td>21.0</td>\n",
       "    </tr>\n",
       "    <tr>\n",
       "      <th>webarena.726</th>\n",
       "      <td>0.0</td>\n",
       "      <td>5.0</td>\n",
       "      <td>5.0</td>\n",
       "    </tr>\n",
       "    <tr>\n",
       "      <th>webarena.652</th>\n",
       "      <td>0.0</td>\n",
       "      <td>3.0</td>\n",
       "      <td>3.0</td>\n",
       "    </tr>\n",
       "    <tr>\n",
       "      <th>webarena.650</th>\n",
       "      <td>0.0</td>\n",
       "      <td>2.0</td>\n",
       "      <td>2.0</td>\n",
       "    </tr>\n",
       "    <tr>\n",
       "      <th>webarena.621</th>\n",
       "      <td>0.0</td>\n",
       "      <td>7.0</td>\n",
       "      <td>7.0</td>\n",
       "    </tr>\n",
       "  </tbody>\n",
       "</table>\n",
       "</div>"
      ],
      "text/plain": [
       "              completion_iteration  completion_depth  max_depth\n",
       "task_name                                                      \n",
       "webarena.581                   0.0               8.0        8.0\n",
       "webarena.403                   0.0               8.0        8.0\n",
       "webarena.605                   0.0               2.0        2.0\n",
       "webarena.582                   0.0               4.0        4.0\n",
       "webarena.596                   0.0               4.0        4.0\n",
       "webarena.609                   0.0              16.0       16.0\n",
       "webarena.399                   0.0               6.0        6.0\n",
       "webarena.607                   0.0               3.0        3.0\n",
       "webarena.610                   0.0               9.0        9.0\n",
       "webarena.400                   0.0               6.0        6.0\n",
       "webarena.595                   0.0               5.0        5.0\n",
       "webarena.597                   0.0               7.0        7.0\n",
       "webarena.580                   0.0               8.0        8.0\n",
       "webarena.613                   0.0              12.0       12.0\n",
       "webarena.620                   0.0               7.0        7.0\n",
       "webarena.69                    0.0               4.0        4.0\n",
       "webarena.602                   0.0               5.0        5.0\n",
       "webarena.729                   0.0               3.0        3.0\n",
       "webarena.728                   0.0               3.0        3.0\n",
       "webarena.623                   0.0               7.0        7.0\n",
       "webarena.631                   0.0              10.0       10.0\n",
       "webarena.651                   0.0               2.0        2.0\n",
       "webarena.734                   0.0               8.0        8.0\n",
       "webarena.622                   0.0               7.0        7.0\n",
       "webarena.716                   0.0              21.0       21.0\n",
       "webarena.726                   0.0               5.0        5.0\n",
       "webarena.652                   0.0               3.0        3.0\n",
       "webarena.650                   0.0               2.0        2.0\n",
       "webarena.621                   0.0               7.0        7.0"
      ]
     },
     "execution_count": 120,
     "metadata": {},
     "output_type": "execute_result"
    }
   ],
   "source": [
    "df.loc[20].mcts_df[\n",
    "(df.loc[20].mcts_df[\"completion_iteration\"] == 0)\n",
    "]"
   ]
  },
  {
   "cell_type": "code",
   "execution_count": 83,
   "metadata": {},
   "outputs": [
    {
     "data": {
      "text/plain": [
       "<Axes: xlabel='completion_depth'>"
      ]
     },
     "execution_count": 83,
     "metadata": {},
     "output_type": "execute_result"
    },
    {
     "data": {
      "image/png": "[encoded data removed]",
      "text/plain": [
       "<Figure size 640x480 with 1 Axes>"
      ]
     },
     "metadata": {},
     "output_type": "display_data"
    }
   ],
   "source": [
    "df.loc[20].mcts_df.completion_depth.value_counts().sort_index().cumsum().plot()\n",
    "plt.xlabel(\"Depth\")\n",
    "plt.ylabel(\"Tasks Completed\")\n",
    "# plt.ylim(0, 1)\n",
    "plt.title(\"Tasks Completed V.S. Depth\")"
   ]
  },
  {
   "cell_type": "code",
   "execution_count": null,
   "metadata": {},
   "outputs": [],
   "source": [
    "import numpy as np\n",
    "\n",
    "tag = \"d5\"\n",
    "\n",
    "task_iteration_stats_rows = []\n",
    "results_dir = \"./results\"\n",
    "exp_names = os.listdir(results_dir)\n",
    "for exp_name in exp_names:\n",
    "  if tag in exp_name:\n",
    "\n",
    "    exp_path = os.path.join(results_dir, exp_name)\n",
    "    task_names = os.listdir(exp_path)\n",
    "\n",
    "    for task_name in task_names:\n",
    "      if \"webarena\" in task_name:\n",
    "        task_path = os.path.join(results_dir, exp_name, task_name)\n",
    "        if os.path.exists(os.path.join(task_path, \"result.pkl\")):\n",
    "          mcts_result = pickle.load(open(os.path.join(task_path, \"result.pkl\"), \"rb\"))\n",
    "          if mcts_result.cum_reward >= 100: # task successfully completed\n",
    "            completion_iteration = find_completion_iteration(mcts_result)\n",
    "            task_iteration_stats_rows.append([task_name, completion_iteration])\n",
    "          else:\n",
    "            task_iteration_stats_rows.append([task_name, np.nan])\n",
    "        else:\n",
    "          task_iteration_stats_rows.append([task_name, np.nan])"
   ]
  },
  {
   "cell_type": "code",
   "execution_count": 13,
   "metadata": {},
   "outputs": [
    {
     "name": "stderr",
     "output_type": "stream",
     "text": [
      "/tmp/ipykernel_2704942/507405824.py:6: UserWarning: No artists with labels found to put in legend.  Note that artists whose label start with an underscore are ignored when legend() is called with no argument.\n",
      "  plt.legend()\n"
     ]
    },
    {
     "data": {
      "image/png": "[encoded data removed]",
      "text/plain": [
       "<Figure size 640x480 with 1 Axes>"
      ]
     },
     "metadata": {},
     "output_type": "display_data"
    }
   ],
   "source": [
    "plt.plot(df.index, df[\"success_rate\"], marker=\"o\")\n",
    "plt.xlabel(\"MCTS Depth\")\n",
    "plt.ylabel(\"Success Rate\")\n",
    "plt.ylim(0, 1)\n",
    "plt.title(\"MCTS Depth V.S. Success Rate\")\n",
    "plt.legend()\n",
    "plt.show()"
   ]
  }
 ],
 "metadata": {
  "kernelspec": {
   "display_name": "py3117",
   "language": "python",
   "name": "python3"
  },
  "language_info": {
   "codemirror_mode": {
    "name": "ipython",
    "version": 3
   },
   "file_extension": ".py",
   "mimetype": "text/x-python",
   "name": "python",
   "nbconvert_exporter": "python",
   "pygments_lexer": "ipython3",
   "version": "3.11.7"
  }
 },
 "nbformat": 4,
 "nbformat_minor": 2
}
